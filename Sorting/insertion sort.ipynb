{
 "cells": [
  {
   "cell_type": "markdown",
   "id": "e1b5d382",
   "metadata": {},
   "source": [
    "## Insertion Sort\n",
    "In this algorithm we take an element and place it in it's correct order/position.  \n",
    "Consider the unsorted array: [14,9,15,12,6,8,13]  \n",
    "\n",
    "[***14*** 9 15 12 6 8 13] (14 as an element is already sorted) [14 9 15 12 6 8 13]\n",
    "\n",
    "[14 | ***9*** 15 12 6 8 13] (9 < 14 so swap it) [9 14 | 15 12 6 8 13]\n",
    "\n",
    "[9 14 | ***15*** 12 6 8 13] (15 is greater than all so already sorted) [9 14 15 | 12 6 8 13]\n",
    "\n",
    "[9 14 15 | ***12*** 6 8 13] (12 > 9 but less than all other elements so put it inbetween 9 and 14) [9 12 14 15 | 6 8 13]\n",
    "\n",
    "and so on for each element to placed in their correct position. The element is compared with its preceeding element and until we find that it is greater than it preceeding element we stop."
   ]
  },
  {
   "cell_type": "code",
   "execution_count": 1,
   "id": "56f9993f",
   "metadata": {},
   "outputs": [
    {
     "name": "stdout",
     "output_type": "stream",
     "text": [
      "[6, 8, 9, 12, 13, 14, 15]\n"
     ]
    }
   ],
   "source": [
    "def insertion_sort(arr):\n",
    "    for i in range(len(arr)):\n",
    "        ele = arr[i]\n",
    "        # Store the pointing element\n",
    "        for j in range(i-1,-1,-1):\n",
    "            # Reverse from pointer i\n",
    "            ind = arr.index(ele)\n",
    "            # get index of pointing element\n",
    "            if arr[ind] < arr[j]:\n",
    "                arr[ind],arr[j] = arr[j],arr[ind]\n",
    "\n",
    "arr1 = [14,9,15,12,6,8,13]\n",
    "insertion_sort(arr1)\n",
    "print(arr1)"
   ]
  },
  {
   "cell_type": "code",
   "execution_count": null,
   "id": "3950f13f",
   "metadata": {},
   "outputs": [
    {
     "name": "stdout",
     "output_type": "stream",
     "text": [
      "[6, 8, 9, 12, 13, 14, 15]\n"
     ]
    }
   ],
   "source": [
    "def insertion_sort(arr):\n",
    "    for i in range(len(arr)):\n",
    "        j = i\n",
    "        # set j as pointer compare it with preceeding(do swaps if required) and keep moving backwards\n",
    "        while (j>0) and (arr[j-1]>arr[j]):\n",
    "            arr[j-1],arr[j] = arr[j], arr[j-1]\n",
    "            j-=1\n",
    "\n",
    "arr1 = [14,9,15,12,6,8,13]\n",
    "insertion_sort(arr1)\n",
    "print(arr1)     "
   ]
  },
  {
   "cell_type": "markdown",
   "id": "e46c2730",
   "metadata": {},
   "source": [
    "The worst and average time complexity is of O(n<sup>2</sup>), for best case scenario no swap happens in while loop because the preceeding element will always less than the element, like in [1,2,3,4,5] and condition (arr[j-1]>arr[j]) never becomes true, so time complexity -> O(n)"
   ]
  },
  {
   "cell_type": "markdown",
   "id": "9117165e",
   "metadata": {},
   "source": [
    "### Using recursion"
   ]
  },
  {
   "cell_type": "code",
   "execution_count": 1,
   "id": "64bc4f5d",
   "metadata": {},
   "outputs": [
    {
     "name": "stdout",
     "output_type": "stream",
     "text": [
      "[14, 9, 15, 12, 6, 8, 13]\n",
      "[6, 8, 9, 12, 13, 14, 15]\n"
     ]
    }
   ],
   "source": [
    "def rinsertion(arr,i=0):\n",
    "    if i==len(arr):\n",
    "        return\n",
    "    j = i\n",
    "    while (j>0) and (arr[j-1]>arr[j]):\n",
    "        arr[j-1],arr[j] = arr[j],arr[j-1]\n",
    "        j-=1\n",
    "\n",
    "    rinsertion(arr,i+1)\n",
    "\n",
    "arr = [14,9,15,12,6,8,13]\n",
    "print(arr)\n",
    "rinsertion(arr)\n",
    "print(arr)\n",
    "\n",
    "\n",
    "    "
   ]
  }
 ],
 "metadata": {
  "kernelspec": {
   "display_name": "venv (3.12.3)",
   "language": "python",
   "name": "python3"
  },
  "language_info": {
   "codemirror_mode": {
    "name": "ipython",
    "version": 3
   },
   "file_extension": ".py",
   "mimetype": "text/x-python",
   "name": "python",
   "nbconvert_exporter": "python",
   "pygments_lexer": "ipython3",
   "version": "3.12.3"
  }
 },
 "nbformat": 4,
 "nbformat_minor": 5
}
