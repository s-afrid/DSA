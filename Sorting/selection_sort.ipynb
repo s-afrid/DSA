{
 "cells": [
  {
   "cell_type": "markdown",
   "id": "41ada869",
   "metadata": {},
   "source": [
    "## Selection Sort\n",
    "Consider the following unsorted array: [13,46,24,52,20,9] now the sorted form of this array is [9,13,20,24,46,52]. To sort this we use the selection sort. It mean we select the minimums and swap it to the starting places.  \n",
    "- [13,46,24,52,20,9] - 9 is the minimum and swap it with 13 -> [9,46,24,52,20,13]  \n",
    "- [9 | 46,24,52,20,13] - 13 is the minimum and swap it with 46 -> [9,13,24,52,20,46]  \n",
    "- [9 13 | 24,52,20,46] - 20 is the minimum and swap it with 24 -> [9,13,20,52,24,46]  \n",
    "- [9 13 20 | 52,24,46] - 24 is the minimum and swap it with 52 -> [9,13,20,24,52,46]  \n",
    "- [9 13 20 24 | 52,46] - 46 is the minimum and swap it with 52 -> [9,13,20,24,46,52]  \n",
    "Now the array is sorted  \n",
    "\n",
    "We make a pointer i, this move till end and find minimum from arr[i]:arr[n-1] and swap it with arr[i]"
   ]
  },
  {
   "cell_type": "code",
   "execution_count": null,
   "id": "6a1eaae6",
   "metadata": {},
   "outputs": [
    {
     "name": "stdout",
     "output_type": "stream",
     "text": [
      "[9, 13, 20, 24, 46, 52]\n"
     ]
    }
   ],
   "source": [
    "def selection_sort(arr):\n",
    "    for i in range(len(arr)-1): # index of the minimum value is stored for every swap\n",
    "        index = arr.index(min(arr[i:])) \n",
    "        temp = arr[i]\n",
    "        arr[i] = min(arr[i:])\n",
    "        arr[index] = temp\n",
    "    return arr\n",
    "arr = [13,46,24,52,20,9]\n",
    "print(selection_sort(arr))\n",
    "    "
   ]
  },
  {
   "cell_type": "markdown",
   "id": "c8675556",
   "metadata": {},
   "source": [
    "The time complexity of for loop is n and for min() is n-i, so total time complexity is  \n",
    "n + n-1 + n-2 + . . . . + 2 + 1 = n (n+1) / 2 -> O(n<sup>2</sup>)."
   ]
  }
 ],
 "metadata": {
  "kernelspec": {
   "display_name": "venv (3.12.3)",
   "language": "python",
   "name": "python3"
  },
  "language_info": {
   "codemirror_mode": {
    "name": "ipython",
    "version": 3
   },
   "file_extension": ".py",
   "mimetype": "text/x-python",
   "name": "python",
   "nbconvert_exporter": "python",
   "pygments_lexer": "ipython3",
   "version": "3.12.3"
  }
 },
 "nbformat": 4,
 "nbformat_minor": 5
}
