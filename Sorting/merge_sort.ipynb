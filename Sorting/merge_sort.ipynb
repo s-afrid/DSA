{
 "cells": [
  {
   "cell_type": "markdown",
   "id": "78128c6e",
   "metadata": {},
   "source": [
    "## Merge Sort\n",
    "Consider the following array: [3,1,2,4,1,5,2,6,4]  \n",
    "The merge sort algorithm follows the divide and merge approach to sort the data structure.  \n",
    "The above array consist of 9 elements, it is divided in either 4 elements-5 elements or 5 elements-4 elements. "
   ]
  },
  {
   "cell_type": "markdown",
   "id": "c21ff532",
   "metadata": {},
   "source": [
    "### Dividing\n",
    "Follow 5-4 approach  \n",
    "![divide](merge_sort_divide.drawio.png)  "
   ]
  },
  {
   "cell_type": "markdown",
   "id": "4086ecbe",
   "metadata": {},
   "source": [
    "### Merging\n",
    "Now that we divided the array into sorted arrays with only one element, we will merge them according their value in ascending order.  \n",
    "Before that we must know how to merge two sorted arrays.  \n",
    "![merging 2 arrays](merging_two_sorted_arrays.drawio.png)  \n",
    "Now at each stage we are going to do the merger  \n",
    "![merging](merge_sort_merge.drawio.png)  "
   ]
  },
  {
   "cell_type": "markdown",
   "id": "bc3dc662",
   "metadata": {},
   "source": [
    "### Code logic\n",
    "Here dividing means we are going to move the starting and ending pointers.  \n",
    "low -> [3,2,4,1,3] <- high"
   ]
  },
  {
   "cell_type": "code",
   "execution_count": null,
   "id": "e934adbf",
   "metadata": {},
   "outputs": [
    {
     "name": "stdout",
     "output_type": "stream",
     "text": [
      "[3, 2, 4, 1, 3]\n",
      "[1, 2, 3, 3, 4]\n"
     ]
    }
   ],
   "source": [
    "def merge(arr,low,middle,high):\n",
    "    lower = arr[low:middle+1]\n",
    "    higher = arr[middle+1:high+1]\n",
    "    sorted_merged = [] # to stored after merging \n",
    "    lower_pointer = 0\n",
    "    higher_pointer = 0\n",
    "    # Compare between two sorted arrays\n",
    "    while lower_pointer!=len(lower) and higher_pointer!=len(higher):\n",
    "        if lower[lower_pointer] <= higher[higher_pointer]:\n",
    "            sorted_merged.append(lower[lower_pointer])\n",
    "            lower_pointer+=1\n",
    "        else:\n",
    "            sorted_merged.append(higher[higher_pointer])\n",
    "            higher_pointer+=1\n",
    "    # if any one between lower or higher is exhausted attach all the elements at the end\n",
    "    if lower_pointer!=len(lower):\n",
    "        sorted_merged+=lower[lower_pointer:]\n",
    "    elif higher_pointer!=len(higher):\n",
    "        sorted_merged+=higher[higher_pointer:]\n",
    "   \n",
    "    arr[low:high+1] = sorted_merged\n",
    "\n",
    "\n",
    "def merge_sort(arr,low,high):\n",
    "   \n",
    "    if low==high:\n",
    "        return\n",
    "    else:\n",
    "        middle = int((low+high)/2)\n",
    "        \n",
    "        # first half\n",
    "        merge_sort(arr,low,middle)\n",
    "       \n",
    "        # second half\n",
    "        merge_sort(arr,middle+1,high)\n",
    "        \n",
    "        # merge both the halves\n",
    "        merge(arr,low,middle,high)\n",
    "\n",
    "arr = [3,2,4,1,3]\n",
    "print(arr)\n",
    "merge_sort(arr,0,len(arr)-1)\n",
    "print(arr)"
   ]
  },
  {
   "cell_type": "markdown",
   "id": "360c7ba7",
   "metadata": {},
   "source": [
    "### Time complexity\n",
    "The time complexity of dividing into two: log<sub>2</sub>(n)  \n",
    "The time complexity of merging is of n because we are comparing element of the sorted arrays by loops.  \n",
    "The total time complexity is O(n x log<sub>2</sub>(n))"
   ]
  }
 ],
 "metadata": {
  "kernelspec": {
   "display_name": "venv (3.12.3)",
   "language": "python",
   "name": "python3"
  },
  "language_info": {
   "codemirror_mode": {
    "name": "ipython",
    "version": 3
   },
   "file_extension": ".py",
   "mimetype": "text/x-python",
   "name": "python",
   "nbconvert_exporter": "python",
   "pygments_lexer": "ipython3",
   "version": "3.12.3"
  }
 },
 "nbformat": 4,
 "nbformat_minor": 5
}
