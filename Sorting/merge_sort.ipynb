{
 "cells": [
  {
   "cell_type": "markdown",
   "id": "78128c6e",
   "metadata": {},
   "source": [
    "## Merge Sort\n",
    "Consider the following array: [3,1,2,4,1,5,2,6,4]  \n",
    "The merge sort algorithm follows the divide and merge approach to sort the data structure.  \n",
    "The above array consist of 9 elements, it is divided in either 4 elements-5 elements or 5 elements-4 elements. "
   ]
  },
  {
   "cell_type": "markdown",
   "id": "c21ff532",
   "metadata": {},
   "source": [
    "### Dividing\n",
    "Follow 5-4 approach  \n",
    "![divide](merge_sort_divide.drawio.png)  "
   ]
  },
  {
   "cell_type": "markdown",
   "id": "4086ecbe",
   "metadata": {},
   "source": [
    "## Merging\n",
    "Now that we divided the array into single elements, we will merge them according their value in ascending order."
   ]
  }
 ],
 "metadata": {
  "language_info": {
   "name": "python"
  }
 },
 "nbformat": 4,
 "nbformat_minor": 5
}
