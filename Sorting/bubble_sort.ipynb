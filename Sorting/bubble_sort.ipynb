{
 "cells": [
  {
   "cell_type": "markdown",
   "id": "aa3cf16f",
   "metadata": {},
   "source": [
    "## Bubble Sort\n",
    "In bubble sort algorithm we push the maximum to the last by adjacent swaps.  \n",
    "Consider the following unsorted array: [13,46,24,52,20,9]  \n",
    "We have to loop n-1 times  \n",
    "- loop 1: [***13 46*** 24 52 20 9] (13 < 46 so no swap) [13 46 24 52 20 9]  \n",
    "          [13 ***46 24*** 52 20 9] (46 > 24 so swap) [13 24 46 52 20 9]  \n",
    "          [13 24 ***46 52*** 20 9] (46 < 52 so no swap) [13 24 46 52 20 9]  \n",
    "          [13 24 46 ***52 20*** 9] (52 > 20 so swap) [13 24 46 20 52 9]  \n",
    "          [13 24 46 20 ***52 9***] (52 > 9 so swap) [13 24 46 20 9 52]\n",
    "- loop 2: [***13 24*** 46 20 9 52] (13 < 24 so no swap) [13 24 46 20 9 52]  \n",
    "          [13 ***24 46*** 20 9 52] (24 < 46 so no swap) [13 24 46 20 9 52]  \n",
    "          [13 24 ***46 20*** 9 52] (46 > 20 so swap) [13 24 20 46 9 52]  \n",
    "          [13 24 20 ***46 9*** 52] (46 > 9 so swap) [13 24 20 9 46 52]  \n",
    "          [13 24 20 9 ***46 52***] (46 < 52 so no swap) [13 24 20 9 46 52]  \n",
    "\n",
    "So on up till loop n-1. And the end we get sorted array"
   ]
  },
  {
   "cell_type": "code",
   "execution_count": 4,
   "id": "a8eb267b",
   "metadata": {},
   "outputs": [
    {
     "name": "stdout",
     "output_type": "stream",
     "text": [
      "[9, 13, 20, 24, 46, 52]\n"
     ]
    }
   ],
   "source": [
    "def bubble_sort(arr):\n",
    "    for i in range(len(arr)-1):\n",
    "        no_swap = 0 # Initially no swap is done\n",
    "        for j in range(len(arr)-1):\n",
    "            if arr[j] > arr[j+1]:\n",
    "                arr[j],arr[j+1] = arr[j+1],arr[j]\n",
    "                # Swap is done\n",
    "                no_swap +=1\n",
    "        if not no_swap > 0:\n",
    "            # If there was no swap done then break\n",
    "            break \n",
    "\n",
    "arr1 = [13,46,24,52,20,9]\n",
    "bubble_sort(arr1)\n",
    "print(arr1)"
   ]
  },
  {
   "cell_type": "markdown",
   "id": "6ad49b32",
   "metadata": {},
   "source": [
    "The outer loop runs for n-1 times, inner loop runs for n-1 time, The time complexity is (n-1)<sup>2</sup> -> O(n<sup>2</sup>)  \n",
    "For best case scenario, we first count the number of swaps for each loop and if there no swaps that means the array is already sorted, so we break out of outer loop. Time complexity -> O(n)"
   ]
  },
  {
   "cell_type": "markdown",
   "id": "84f4651b",
   "metadata": {},
   "source": [
    "### Using recursion"
   ]
  },
  {
   "cell_type": "code",
   "execution_count": 1,
   "id": "d56cb082",
   "metadata": {},
   "outputs": [
    {
     "name": "stdout",
     "output_type": "stream",
     "text": [
      "[13, 46, 24, 52, 20, 9]\n",
      "[9, 13, 20, 24, 46, 52]\n"
     ]
    }
   ],
   "source": [
    "def rbubble_sort(arr,i=0,nswap=0):\n",
    "    if i==len(arr):\n",
    "        return\n",
    "    for j in range(len(arr)-1):\n",
    "        if arr[j] > arr[j+1]:\n",
    "            arr[j],arr[j+1] = arr[j+1],arr[j]\n",
    "            nswap+=1\n",
    "\n",
    "    rbubble_sort(arr,i+1)\n",
    "\n",
    "arr = [13,46,24,52,20,9]\n",
    "print(arr)\n",
    "rbubble_sort(arr)\n",
    "print(arr)\n"
   ]
  }
 ],
 "metadata": {
  "kernelspec": {
   "display_name": "venv (3.12.3)",
   "language": "python",
   "name": "python3"
  },
  "language_info": {
   "codemirror_mode": {
    "name": "ipython",
    "version": 3
   },
   "file_extension": ".py",
   "mimetype": "text/x-python",
   "name": "python",
   "nbconvert_exporter": "python",
   "pygments_lexer": "ipython3",
   "version": "3.12.3"
  }
 },
 "nbformat": 4,
 "nbformat_minor": 5
}
