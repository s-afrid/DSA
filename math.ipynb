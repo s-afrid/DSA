{
 "cells": [
  {
   "cell_type": "markdown",
   "id": "4024bf3a",
   "metadata": {},
   "source": [
    "## Basic math algorithms\n",
    "### Extract digits from the number\n",
    "To start extracting digits from a number, get reminder by modulo operation with 10 and divide the number by 10. Repeat this untill number becomes 0.  \n",
    "Ex: number = 7789\n",
    "```  \n",
    "7789 % 10 --> 9  \n",
    "(7789)/10  \n",
    "778 % 10 --> 8  \n",
    "(778)/10  \n",
    "77 % 10 --> 7  \n",
    "(7)/10  \n",
    "7 % 10 --> 7\n",
    "```\n",
    "So we 7,7,8,9 by backtracking"
   ]
  },
  {
   "cell_type": "code",
   "execution_count": 2,
   "id": "24f838e1",
   "metadata": {},
   "outputs": [
    {
     "name": "stdout",
     "output_type": "stream",
     "text": [
      "9\n",
      "8\n",
      "7\n",
      "7\n"
     ]
    }
   ],
   "source": [
    "def extracting(num):\n",
    "    while num > 0:\n",
    "        digit = num % 10\n",
    "        print(digit)\n",
    "        num = num // 10\n",
    "extracting(7789)"
   ]
  },
  {
   "cell_type": "markdown",
   "id": "ba0bd9da",
   "metadata": {},
   "source": [
    "### Reverse by digit of numbers\n",
    "We store the reverse number in revnum and we first set it to 0.  \n",
    "For each loop we multiple revnum by 10 and add the last digit extracted and update the value.  \n",
    "```\n",
    "0 X 10 + 9 = 9\n",
    "9 X 10 + 8 = 98\n",
    "98 X 10 + 7 = 987\n",
    "987 X 10 + 7 = 9877\n",
    "```"
   ]
  },
  {
   "cell_type": "code",
   "execution_count": 3,
   "id": "861443a6",
   "metadata": {},
   "outputs": [
    {
     "name": "stdout",
     "output_type": "stream",
     "text": [
      "9877\n"
     ]
    }
   ],
   "source": [
    "def reversenum(num):\n",
    "    revnum = 0\n",
    "    while num > 0:\n",
    "        ld = num % 10\n",
    "        revnum = (revnum*10) + ld\n",
    "        num = num // 10\n",
    "    return revnum\n",
    "print(reversenum(7789))"
   ]
  },
  {
   "cell_type": "markdown",
   "id": "062ccaae",
   "metadata": {},
   "source": [
    "### Get all the numbers that divides a number\n",
    "Consider the number to be N and we need to get all the numbers that divide number N and they lie in range 1 to N. The complexity of this becomes O(N)."
   ]
  },
  {
   "cell_type": "code",
   "execution_count": 1,
   "id": "5da391ec",
   "metadata": {},
   "outputs": [
    {
     "name": "stdout",
     "output_type": "stream",
     "text": [
      "[1, 2, 3, 4, 6, 9, 12, 18, 36]\n"
     ]
    }
   ],
   "source": [
    "factors = []\n",
    "N = 36\n",
    "for i in range(1,N+1):\n",
    "    if N%i == 0:\n",
    "        factors.append(i)\n",
    "print(factors)"
   ]
  },
  {
   "cell_type": "markdown",
   "id": "17ee263a",
   "metadata": {},
   "source": [
    "Another efficient technique to obtain this is by getting square of N. And just loop through that number of times\n",
    "<table>\n",
    "<tr>\n",
    "<td>1</td>\n",
    "<td>X</td>\n",
    "<td>36</td>\n",
    "<td>= 36/1</td>\n",
    "</tr>\n",
    "<tr>\n",
    "<td>2</td>\n",
    "<td>X</td>\n",
    "<td>18</td>\n",
    "<td>= 36/2</td>\n",
    "</tr>\n",
    "<tr>\n",
    "<td>3</td>\n",
    "<td>X</td>\n",
    "<td>12</td>\n",
    "<td>= 36/3</td>\n",
    "</tr>\n",
    "<tr>\n",
    "<td>4</td>\n",
    "<td>X</td>\n",
    "<td>9</td>\n",
    "<td>= 36/4</td>\n",
    "</tr>\n",
    "<tr>\n",
    "<td>6</td>\n",
    "<td>X</td>\n",
    "<td>6</td>\n",
    "<td>= 36/6</td>\n",
    "</tr>\n",
    "</table>"
   ]
  },
  {
   "cell_type": "code",
   "execution_count": 4,
   "id": "53c4ccc1",
   "metadata": {},
   "outputs": [
    {
     "name": "stdout",
     "output_type": "stream",
     "text": [
      "[1, 2, 3, 4, 6, 9, 12, 18, 36]\n"
     ]
    }
   ],
   "source": [
    "import math\n",
    "N = 36\n",
    "factor = []\n",
    "for i in range(1,int(math.sqrt(N))+1):\n",
    "    if N%i == 0:\n",
    "        factor.append(i)\n",
    "        if N/i != i:\n",
    "            factor.append(int(N/i))\n",
    "\n",
    "factor.sort()\n",
    "print(factor)"
   ]
  }
 ],
 "metadata": {
  "kernelspec": {
   "display_name": "venv",
   "language": "python",
   "name": "python3"
  },
  "language_info": {
   "codemirror_mode": {
    "name": "ipython",
    "version": 3
   },
   "file_extension": ".py",
   "mimetype": "text/x-python",
   "name": "python",
   "nbconvert_exporter": "python",
   "pygments_lexer": "ipython3",
   "version": "3.12.3"
  }
 },
 "nbformat": 4,
 "nbformat_minor": 5
}
