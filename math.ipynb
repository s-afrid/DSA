{
 "cells": [
  {
   "cell_type": "markdown",
   "id": "4024bf3a",
   "metadata": {},
   "source": [
    "## Basic math algorithms\n",
    "### Extract digits from the number\n",
    "To start extracting digits from a number, get reminder by modulo operation with 10 and divide the number by 10. Repeat this untill number becomes 0.  \n",
    "Ex: number = 7789\n",
    "```  \n",
    "7789 % 10 --> 9  \n",
    "(7789)/10  \n",
    "778 % 10 --> 8  \n",
    "(778)/10  \n",
    "77 % 10 --> 7  \n",
    "(7)/10  \n",
    "7 % 10 --> 7\n",
    "```\n",
    "So we 7,7,8,9 by backtracking"
   ]
  },
  {
   "cell_type": "code",
   "execution_count": 2,
   "id": "24f838e1",
   "metadata": {},
   "outputs": [
    {
     "name": "stdout",
     "output_type": "stream",
     "text": [
      "9\n",
      "8\n",
      "7\n",
      "7\n"
     ]
    }
   ],
   "source": [
    "def extracting(num):\n",
    "    while num > 0:\n",
    "        digit = num % 10\n",
    "        print(digit)\n",
    "        num = num // 10\n",
    "extracting(7789)"
   ]
  },
  {
   "cell_type": "markdown",
   "id": "ba0bd9da",
   "metadata": {},
   "source": [
    "### Reverse by digit of numbers\n",
    "We store the reverse number in revnum and we first set it to 0.  \n",
    "For each loop we multiple revnum by 10 and add the last digit extracted and update the value.  \n",
    "```\n",
    "0 X 10 + 9 = 9\n",
    "9 X 10 + 8 = 98\n",
    "98 X 10 + 7 = 987\n",
    "987 X 10 + 7 = 9877\n",
    "```"
   ]
  },
  {
   "cell_type": "code",
   "execution_count": 3,
   "id": "861443a6",
   "metadata": {},
   "outputs": [
    {
     "name": "stdout",
     "output_type": "stream",
     "text": [
      "9877\n"
     ]
    }
   ],
   "source": [
    "def reversenum(num):\n",
    "    revnum = 0\n",
    "    while num > 0:\n",
    "        ld = num % 10\n",
    "        revnum = (revnum*10) + ld\n",
    "        num = num // 10\n",
    "    return revnum\n",
    "print(reversenum(7789))"
   ]
  }
 ],
 "metadata": {
  "kernelspec": {
   "display_name": "venv",
   "language": "python",
   "name": "python3"
  },
  "language_info": {
   "codemirror_mode": {
    "name": "ipython",
    "version": 3
   },
   "file_extension": ".py",
   "mimetype": "text/x-python",
   "name": "python",
   "nbconvert_exporter": "python",
   "pygments_lexer": "ipython3",
   "version": "3.12.3"
  }
 },
 "nbformat": 4,
 "nbformat_minor": 5
}
