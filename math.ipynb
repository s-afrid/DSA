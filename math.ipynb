{
 "cells": [
  {
   "cell_type": "markdown",
   "id": "4024bf3a",
   "metadata": {},
   "source": [
    "## Basic math algorithms\n",
    "### Extract digits from the number\n",
    "To start extracting digits from a number, get reminder by modulo operation with 10 and divide the number by 10. Repeat this untill number becomes 0.  \n",
    "Ex: number = 7789\n",
    "```  \n",
    "7789 % 10 --> 9  \n",
    "(7789)/10  \n",
    "778 % 10 --> 8  \n",
    "(778)/10  \n",
    "77 % 10 --> 7  \n",
    "(7)/10  \n",
    "7 % 10 --> 7\n",
    "```\n",
    "So we 7,7,8,9 by backtracking"
   ]
  }
 ],
 "metadata": {
  "kernelspec": {
   "display_name": "venv",
   "language": "python",
   "name": "python3"
  },
  "language_info": {
   "name": "python",
   "version": "3.12.3"
  }
 },
 "nbformat": 4,
 "nbformat_minor": 5
}
