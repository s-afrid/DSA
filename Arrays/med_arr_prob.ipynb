{
 "cells": [
  {
   "cell_type": "markdown",
   "id": "da7c8cf9",
   "metadata": {},
   "source": [
    "## Medium array problems"
   ]
  },
  {
   "cell_type": "markdown",
   "id": "e2d2f4dd",
   "metadata": {},
   "source": [
    "### 2 sum problem\n",
    "Consider arr = [2,6,5,8,11] and target = 14. Does there exist any two elements whose sum is equal to target"
   ]
  },
  {
   "cell_type": "code",
   "execution_count": null,
   "id": "ad1f757c",
   "metadata": {},
   "outputs": [
    {
     "name": "stdout",
     "output_type": "stream",
     "text": [
      "Yes\n",
      "[1, 3]\n"
     ]
    }
   ],
   "source": [
    "# Brute force: using nested loop\n",
    "arr = [2,6,5,8,11]\n",
    "target = 14\n",
    "for i in range(len(arr)):\n",
    "    f = 0\n",
    "    for j in range(i+1,len(arr)):\n",
    "        if arr[i]+arr[j] == target:\n",
    "            print(\"Yes\")\n",
    "            print([i,j]) # Return indeces of those two elements\n",
    "            f = 1\n",
    "            break\n",
    "    if f:\n",
    "        break\n",
    "# Time complexity is O(n^2)\n",
    "# Space complexity is O(1)"
   ]
  },
  {
   "cell_type": "code",
   "execution_count": null,
   "id": "60c4b67b",
   "metadata": {},
   "outputs": [
    {
     "name": "stdout",
     "output_type": "stream",
     "text": [
      "Yes\n",
      "3 1\n"
     ]
    }
   ],
   "source": [
    "# Using hashing\n",
    "# Store each element in hash\n",
    "# subtract each element with the target and check if the difference exist in hash or not\n",
    "hashmp = {} # element with index\n",
    "for i in range(len(arr)):\n",
    "    if (target-arr[i]) in hashmp:\n",
    "        print(\"Yes\")\n",
    "        print(i,hashmp[target-arr[i]])\n",
    "        break\n",
    "    else:\n",
    "        hashmp[arr[i]]=i\n",
    "# Time complexity at worst case is O(n)\n",
    "# Space complexity at worst case is O(n)\n"
   ]
  },
  {
   "cell_type": "code",
   "execution_count": null,
   "id": "cff9d174",
   "metadata": {},
   "outputs": [
    {
     "name": "stdout",
     "output_type": "stream",
     "text": [
      "1 3\n"
     ]
    }
   ],
   "source": [
    "# Using 2 pointer\n",
    "arr.sort() # sort array before applying 2 pointer\n",
    "i = 0 # starts from 0 \n",
    "j = len(arr)-1 # start from last\n",
    "while i<len(arr) and j>0:\n",
    "    if arr[i]+arr[j] == target:\n",
    "        print(i,j)\n",
    "        break\n",
    "    elif arr[i]+arr[j] < target: # if sum is less than target then move i else move j\n",
    "        i+=1\n",
    "    else:\n",
    "        j-=1\n",
    "# time complexity if we use merge or quick sort can be log(n), for loop will be O(n)\n",
    "# total time complexity is O(n)\n",
    "# space complexity: O(1)"
   ]
  },
  {
   "cell_type": "markdown",
   "id": "f3124f3b",
   "metadata": {},
   "source": [
    "### Sort an array of 0s, 1s and 2s\n",
    "arr = [0,1,2,0,1,2,1,2,0,0,0,1] we have to sort this array"
   ]
  },
  {
   "cell_type": "code",
   "execution_count": null,
   "id": "899d21c1",
   "metadata": {},
   "outputs": [
    {
     "name": "stdout",
     "output_type": "stream",
     "text": [
      "12\n",
      "5 4 3 12\n",
      "[0, 0, 0, 0, 0, 1, 1, 1, 1, 2, 2, 2]\n"
     ]
    }
   ],
   "source": [
    "arr = [0,1,2,0,1,2,1,2,0,0,0,1]\n",
    "print(len(arr))\n",
    "# count the number of 0s, 1s and 2s\n",
    "c0 = 0\n",
    "c1 = 0\n",
    "c2 = 0\n",
    "for i in arr:\n",
    "    if i == 0:\n",
    "        c0+=1\n",
    "    elif i == 1:\n",
    "        c1+=1\n",
    "    elif i == 2:\n",
    "        c2+=1\n",
    "# in the array the first place will contain 0s, the next 1s and next 2s\n",
    "index = 0 # keep updating the index\n",
    "for i in range(c0):\n",
    "    arr[index] = 0\n",
    "    index+=1\n",
    "for j in range(c1):\n",
    "    arr[index] = 1\n",
    "    index+=1\n",
    "for k in range(c2):\n",
    "    arr[index] = 2\n",
    "    index+=1\n",
    "print(arr)\n",
    "# The total time complexity is O(2n), n for 1st loop, n for next 3 loops\n",
    "# Space complexity is O(1)"
   ]
  },
  {
   "attachments": {
    "Screenshot from 2025-08-22 14-31-44.png": {
     "image/png": "[encoded data removed]"
    },
    "Screenshot from 2025-08-23 11-53-24.png": {
     "image/png": "[encoded data removed]"
    }
   },
   "cell_type": "markdown",
   "id": "02f18c0d",
   "metadata": {},
   "source": [
    "#### Dutch national flag algorithm\n",
    "This algorithm involves 3 pointers => low, mid, high  \n",
    "It follows 3 rules:  \n",
    "1. Everything from 0.....low-1 is 0\n",
    "2. Everything from low......mid-1 is 1\n",
    "3. Everything from high+1......n-1 is 2  \n",
    "\n",
    "![Screenshot from 2025-08-22 14-31-44.png](<attachment:Screenshot from 2025-08-22 14-31-44.png>)  \n",
    "\n",
    "The arr is unsorted so mid will point at 0 and high will point at n-1\n",
    "\n",
    "![Screenshot from 2025-08-23 11-53-24.png](<attachment:Screenshot from 2025-08-23 11-53-24.png>)\n",
    "\n",
    "Take arr[mid]  \n",
    "if arr[mid] == 0 => swap(arr[mid],arr[low]) and low++ and mid++  \n",
    "if arr[mid] == 1 => mid++  \n",
    "if arr[mid] == 2 => swap(arr[mid],arr[high]) and high--"
   ]
  },
  {
   "cell_type": "code",
   "execution_count": 2,
   "id": "9d2fb430",
   "metadata": {},
   "outputs": [
    {
     "name": "stdout",
     "output_type": "stream",
     "text": [
      "[0, 0, 0, 0, 0, 1, 1, 1, 1, 2, 2, 2]\n"
     ]
    }
   ],
   "source": [
    "# Dutch national flag algorithm\n",
    "arr = [0,1,2,0,1,2,1,2,0,0,0,1]\n",
    "low = 0\n",
    "mid = 0\n",
    "high = len(arr)-1\n",
    "while mid<=high:\n",
    "    if arr[mid] == 0:\n",
    "        arr[low],arr[mid] = arr[mid],arr[low] # swap\n",
    "        low+=1\n",
    "        mid+=1\n",
    "    elif arr[mid] == 1:\n",
    "        mid+=1\n",
    "    elif arr[mid] == 2:\n",
    "        arr[mid],arr[high] = arr[high],arr[mid] #swap\n",
    "        high-=1\n",
    "print(arr)\n",
    "\n",
    "# The complexity is O(n), mid goes from 0 to n-1 in worst case scenario\n",
    "# Space complexity is O(1), no extra space is used\n"
   ]
  },
  {
   "cell_type": "markdown",
   "id": "bf0b7bee",
   "metadata": {},
   "source": [
    "### Majority elements (>n/2 times)\n",
    "Consider the arr = [2,2,3,3,1,2,2] find the element that appears more than n/2 times.  \n",
    "Ex: 2 appears 4 times > 7/2 = 3"
   ]
  },
  {
   "cell_type": "code",
   "execution_count": null,
   "id": "06ae5213",
   "metadata": {},
   "outputs": [
    {
     "name": "stdout",
     "output_type": "stream",
     "text": [
      "2\n"
     ]
    }
   ],
   "source": [
    "# Brute force: use nested loop\n",
    "arr = [2,2,3,3,1,2,2]\n",
    "for i in range(len(arr)):\n",
    "    c = 0\n",
    "    for j in range(len(arr)):\n",
    "        if arr[j] == arr[i]:\n",
    "            c+=1 # count the number of times an element is appearing\n",
    "    if c > int(len(arr)/2):\n",
    "        print(arr[i])\n",
    "        break\n",
    "\n",
    "# The time complexity is O(n^2)\n",
    "# space complexity will be O(1)"
   ]
  },
  {
   "cell_type": "code",
   "execution_count": null,
   "id": "75f1bd84",
   "metadata": {},
   "outputs": [
    {
     "name": "stdout",
     "output_type": "stream",
     "text": [
      "2\n"
     ]
    }
   ],
   "source": [
    "# Using hash map\n",
    "hashmp = {}\n",
    "arr = [2,2,3,3,1,2,2]\n",
    "for i in arr:\n",
    "    if i in hashmp:\n",
    "        hashmp[i]+=1\n",
    "    else:\n",
    "        hashmp[i] =1\n",
    "for i in hashmp:\n",
    "    if hashmp[i] > int(len(arr)/2):\n",
    "        print(i)\n",
    "        break\n",
    "# The time complexity is O(2n), one for array and other for hashmap\n",
    "# the space complexity is O(n) in worst case"
   ]
  },
  {
   "cell_type": "markdown",
   "id": "b0c48616",
   "metadata": {},
   "source": [
    "#### Moore's voting algorithm\n",
    "This algorithm is about 2 variables, ele and count.  \n",
    "Initial ele is not initialized so ele = 0 and count = 0\n",
    "Consider arr = [2,2,3,3,1,2,2]  \n",
    "1. ele = 2 and count = 1\n",
    "2. 2 appears count = 2 increase by 1\n",
    "3. 3 appears count = 1 reduce by 1\n",
    "4. 3 appears count = 0  \n",
    "    consider [2,2,3,3] -> 2 appears 2 times and other elements appear 2 times and 2=4/2, so 2 in not the majority element\n",
    "5. move, ele = 1 and count = 1\n",
    "6. move, 2 appears , count = 0\n",
    "    consider [1,2] -> 1 appears 1 time and 1=2/2 so 1 is not the majority element\n",
    "7. move, ele = 2 and count = 1\n",
    "8. move , 2 appears count 2, reached end element\n",
    "    count > 0, so ele=2 is our majority element"
   ]
  },
  {
   "cell_type": "code",
   "execution_count": null,
   "id": "537b196d",
   "metadata": {},
   "outputs": [
    {
     "name": "stdout",
     "output_type": "stream",
     "text": [
      "5\n"
     ]
    }
   ],
   "source": [
    "# Moore's voting algorithm\n",
    "arr = [7,7,5,7,5,1,5,7,5,5,7,7,5,5,5,5]\n",
    "ele = 0\n",
    "c = 0\n",
    "# get suppose to be majority element\n",
    "for i in range(len(arr)):\n",
    "    if c==0:\n",
    "        c = 1\n",
    "        ele = arr[i]\n",
    "    elif arr[i] == ele:\n",
    "        c+=1\n",
    "    else:\n",
    "        c-=1\n",
    "# check that if the element is actually the majority element\n",
    "c1 = 0\n",
    "for i in range(len(arr)):\n",
    "    if(arr[i] == ele):\n",
    "        c1+=1\n",
    "if(c1>int(len(arr)/2)):\n",
    "    print(ele)\n",
    "\n",
    "# Time complexity is O(2n)\n",
    "# Space complexity is O(1)"
   ]
  },
  {
   "cell_type": "markdown",
   "id": "a05e67ae",
   "metadata": {},
   "source": [
    "### Maximum subarray sum\n",
    "Find the sum of a subarray whose sum is maximum of all subarray's"
   ]
  },
  {
   "cell_type": "code",
   "execution_count": 11,
   "id": "de3921aa",
   "metadata": {},
   "outputs": [
    {
     "name": "stdout",
     "output_type": "stream",
     "text": [
      "7\n",
      "7\n"
     ]
    }
   ],
   "source": [
    "# Brute force: try all the sub arrays\n",
    "arr = [-2,-3,4,-1,-2,1,5,-3]\n",
    "maxsum = 0\n",
    "for i in range(len(arr)):\n",
    "    for j in range(i,len(arr)):\n",
    "        s = 0\n",
    "        l = i\n",
    "        while l<=j:\n",
    "            s+=arr[l]\n",
    "            l+=1\n",
    "        if s > maxsum:\n",
    "            maxsum = s\n",
    "print(maxsum)\n",
    "# Time complexity is O(n^3)\n",
    "# space complexity is O(1)\n",
    "arr = [-2,-3,4,-1,-2,1,5,-3]\n",
    "maxsum = 0\n",
    "for i in range(len(arr)):\n",
    "    s = 0 # keep updating s as j just increases by one element in each subarray\n",
    "    for j in range(i,len(arr)):\n",
    "        s+=arr[j]\n",
    "        if s > maxsum:\n",
    "            maxsum = s\n",
    "print(maxsum)\n",
    "# Time complexity is O(n^2)\n",
    "# Space complexity is O(1)"
   ]
  },
  {
   "cell_type": "markdown",
   "id": "bbae22e3",
   "metadata": {},
   "source": [
    "#### Kadane's algorithm\n",
    "Consider arr = [-2,-3,4,-1,-2,1,5,-3]  \n",
    "maxsum = min(arr)-> -3 and s=0  \n",
    "1. -2, s = -2 , -2 > -3 and maxsum = 3, s<0 so s=0\n",
    "2. -3, s = -3, -3 < -2 so no update, s<0 so s=0\n",
    "3. 4, s = 4, 4 > -2, maxsum = 4, s>0 no change\n",
    "4. -1 s = 3, 3 < 4, so no update, s>0 no change\n",
    "5. -2, s = 1, 1 < 4, so no update, s>0 no change\n",
    "6. 1, s = 2, 2 < 4, so no update, s>0 no change\n",
    "7. 5, s = 7, 7 > 4, maxsum = 7, s>0 no change\n",
    "8. -3, s = 4 , 4<7 , so no update, s>0 no change\n",
    "\n",
    "At the end maxsum = 7"
   ]
  },
  {
   "cell_type": "code",
   "execution_count": null,
   "id": "bb46226f",
   "metadata": {},
   "outputs": [
    {
     "name": "stdout",
     "output_type": "stream",
     "text": [
      "7\n"
     ]
    }
   ],
   "source": [
    "# Kadane's algorithm\n",
    "arr = [-2,-3,4,-1,-2,1,5,-3]\n",
    "maxsum = min(arr)\n",
    "s = 0\n",
    "for i in range(len(arr)):\n",
    "    s+=arr[i] # update sum\n",
    "    if s > maxsum:\n",
    "        maxsum = s # update maxsum\n",
    "    if s < 0:\n",
    "        s=0 # set sum to zero if s less than 0\n",
    "print(maxsum)\n",
    "# The time complexity is O(n)\n",
    "# Space complexity is O(1), no extra space is used"
   ]
  },
  {
   "cell_type": "code",
   "execution_count": null,
   "id": "5867c32d",
   "metadata": {},
   "outputs": [
    {
     "name": "stdout",
     "output_type": "stream",
     "text": [
      "7\n",
      "[4, -1, -2, 1, 5]\n"
     ]
    }
   ],
   "source": [
    "# Finding subarray with maximum sum\n",
    "arr = [-2,-3,4,-1,-2,1,5,-3]\n",
    "maxsum = min(arr)\n",
    "s = 0\n",
    "start = 0\n",
    "end = 0\n",
    "for i in range(len(arr)):\n",
    "    if s==0:\n",
    "        start = i # set start at that index when ever s goes to 0\n",
    "    s+=arr[i] # update sum\n",
    "    if s > maxsum:\n",
    "        maxsum = s # update maxsum\n",
    "        end = i # set end at that index when ever sum > maxsum\n",
    "    if s < 0:\n",
    "        s=0 # set sum to zero if s less than 0\n",
    "print(maxsum)\n",
    "print(arr[start:end+1])"
   ]
  },
  {
   "cell_type": "markdown",
   "id": "7777a107",
   "metadata": {},
   "source": [
    "### Stocks buy and sell\n",
    "Consider arr = [7,1,5,3,6,4].  \n",
    "Suppose we decide to buy stock at 2nd day at value = 1 and sell on 5th day when value is 6, the profit gain is 5. We have to decide when do you buy the stock and when do you sell it so that the profit is maximum of all.\n",
    "\n",
    "You can only sell the stock only when the value is greater than the value at which you bought the stock.\n",
    "\n",
    "***Approach*** : If you sell on the ith day, you will buy on the minimum price from 1st day to (i-1)th day.  \n",
    "set minimum to arr[0] and start from index 1, keep a variable to track maxprofit."
   ]
  },
  {
   "cell_type": "code",
   "execution_count": 2,
   "id": "dd94a755",
   "metadata": {},
   "outputs": [
    {
     "name": "stdout",
     "output_type": "stream",
     "text": [
      "5\n"
     ]
    }
   ],
   "source": [
    "arr = [7,1,5,3,6,4]\n",
    "mini = arr[0]\n",
    "maxprofit = 0\n",
    "for i in range(1,len(arr)):\n",
    "    profit = arr[i] - mini\n",
    "    maxprofit = max(profit,maxprofit)\n",
    "    mini = min(mini,arr[i])\n",
    "print(maxprofit)"
   ]
  },
  {
   "cell_type": "markdown",
   "id": "d93b4582",
   "metadata": {},
   "source": [
    "### Rearrange array in alternating positives and negatives\n",
    "Consider the array = [3,1,-2,-5,2,-4], we have to arrange the array the array in such a way that we get alternating positive and negative items like [3,-2,1,-5,2,-4]"
   ]
  },
  {
   "cell_type": "code",
   "execution_count": null,
   "id": "f7b8ea17",
   "metadata": {},
   "outputs": [
    {
     "name": "stdout",
     "output_type": "stream",
     "text": [
      "[3, 1, 2]\n",
      "[-2, -5, -4]\n",
      "[3, -2, 1, -5, 2, -4]\n"
     ]
    }
   ],
   "source": [
    "# Brute force: Make array for positive and negative and put back alternatively in array\n",
    "arr = [3,1,-2,-5,2,-4]\n",
    "pos = []\n",
    "neg = []\n",
    "for i in range(len(arr)):\n",
    "    if arr[i] >=0:\n",
    "        pos.append(arr[i])\n",
    "    else:\n",
    "        neg.append(arr[i])\n",
    "print(pos)\n",
    "print(neg)\n",
    "# pos on even index and neg on odd index\n",
    "for i in range(len(pos)):\n",
    "    arr[2*i] = pos[i]\n",
    "    arr[2*i + 1] = neg[i]\n",
    "print(arr)\n",
    "# Time complexity will be O(n + n/2)\n",
    "# Space complexity will be  O(n)"
   ]
  },
  {
   "cell_type": "code",
   "execution_count": null,
   "id": "b95a2816",
   "metadata": {},
   "outputs": [
    {
     "name": "stdout",
     "output_type": "stream",
     "text": [
      "[3, -2, 1, -5, 2, -4]\n"
     ]
    }
   ],
   "source": [
    "# Optimal: 2 pointers\n",
    "arr = [3,1,-2,-5,2,-4]\n",
    "ans = [0]*len(arr) # array to store alternating pos and neg same size as arr\n",
    "pos = 0 # positive pointer always starts from 0\n",
    "neg = 1 # negative pointer always starts from 1\n",
    "for i in range(len(arr)):\n",
    "    if arr[i]>=0:\n",
    "        ans[pos] = arr[i]\n",
    "        pos += 2 # Increment pos by 2\n",
    "    else:\n",
    "        ans[neg] = arr[i]\n",
    "        neg += 2 # Increment neg by 2\n",
    "print(ans)\n",
    "# Time complexity is O(n)\n",
    "# Space complexity is O(n)"
   ]
  },
  {
   "cell_type": "markdown",
   "id": "e574dc71",
   "metadata": {},
   "source": [
    "If number of positives and negatives are not equal, there can 2 cases, number of positives > numbder of negatives (or) number of negatives > number of positives. In both the cases remain elements should be put in the last."
   ]
  },
  {
   "cell_type": "code",
   "execution_count": null,
   "id": "37c0a9aa",
   "metadata": {},
   "outputs": [
    {
     "name": "stdout",
     "output_type": "stream",
     "text": [
      "[3, -2, 7, -5, 1, -4, -4, 8, 9]\n"
     ]
    }
   ],
   "source": [
    "# Brute force\n",
    "arr = [3,7,1,-2,-5,2,-4,8,9]\n",
    "pos = []\n",
    "neg = []\n",
    "for i in range(len(arr)):\n",
    "    if arr[i] < 0:\n",
    "        neg.append(arr[i])\n",
    "    else:\n",
    "        pos.append(arr[i])\n",
    "# Arrange first alternatively\n",
    "for i in range(min(len(pos),len(neg))):\n",
    "    arr[2*i] = pos[i]\n",
    "    arr[2*i + 1] = neg[i]\n",
    "if len(neg) < len(pos):\n",
    "    j = len(neg)\n",
    "    for i in range(len(neg)+len(pos),len(arr)):\n",
    "        arr[i] = pos[j]\n",
    "        j+=1\n",
    "elif  len(neg) > len(pos):\n",
    "    j = len(pos)\n",
    "    for i in range(len(neg)+len(pos),len(arr)):\n",
    "        arr[i] = neg[j]\n",
    "        j+=1\n",
    "print(arr)\n",
    "# Time complexity: O(n) + O(min(pos,neg)) + O(pos-neg or neg-pos) = O(2n)\n",
    "# Space complexity: O(n)"
   ]
  },
  {
   "cell_type": "markdown",
   "id": "6956fa2f",
   "metadata": {},
   "source": [
    "### Next Permutation\n",
    "Consider the arr = [3,1,2], containing 3 integers. These integers can be arranged as  \n",
    "1 2 3  \n",
    "1 3 2  \n",
    "2 1 3  \n",
    "2 3 1  \n",
    "3 1 2  \n",
    "3 2 1  \n",
    "The number of ways these integers arranged is 3! = 6 ways, these ways are called as permutations  \n",
    "These permutations are arranged in sorted order, like 1 2 3 > 1 3 2 > 2 1 3 ... etc.  \n",
    "By this we can say that the ***next permutation*** of [3 1 2] (given) is [3 2 1].  \n",
    "If [3 2 1] was given which is the last permutation, the next permutation will be [1 2 3] the first permutation."
   ]
  },
  {
   "cell_type": "markdown",
   "id": "be9afb74",
   "metadata": {},
   "source": [
    "1. Generation all permutations using recursion: Time complexity will be O(n! x n)\n",
    "2. Linear search where is arr\n",
    "3. The next to that will be the next permutation\n",
    "\n",
    "Time complexity is O(n! x n) + o(n)  \n",
    "Space complexity is O(n!)"
   ]
  },
  {
   "cell_type": "markdown",
   "id": "606fabd4",
   "metadata": {},
   "source": [
    "#### Optimal Solution\n",
    "Consider the array arr = [2, 1, 5, 4, 3, 0, 0]  \n",
    "- Observations:\n",
    "    1. Larger prefix match  \n",
    "    Ex: [1 2 3 4] & [1 2 4 3] is the largested prefix match  \n",
    "    In array [2] is largested prefix match, because in [1 5 4 3 0 0] there are numbers greater than 1, we didn't take [2 1] and above because in [5 4 3 0 0], no number is greater than 5.  \n",
    "    2. There is a break point in [1 5 4 3 0 0] where numbers are greater than 1. Here the break point is 1. In general we have to take a loop starting next to 1.\n",
    "    3. Next we have find someone greater than 1, but the smallest one, in [1 5 4 3 0 0], 3 is the smallest and greater than 1. Now swap it. [2 3 5 4 1 0 0], [2 3] is done.\n",
    "    4. Now we have to arrange [5 4 1 0 0] in such a way that it appears the smallest. So we sort this part, like [0 0 1 4 5]\n",
    "\n",
    "    At the end we get next permutation as [2 3 0 0 1 4 5] \n",
    "\n",
    "- Algorithm:\n",
    "    1. Start the loop from reverse, if any element arr[i] < arr[i+1], i is our breakpoint. Label it as index(which is initially -1). If index remains -1, just reverse the array and that will be the answer.  \n",
    "    2. Start the loop from reverse, if we encounter a number greater than index we will swap it.  \n",
    "    3. Reverse the array part from index+1 to n-1."
   ]
  },
  {
   "cell_type": "code",
   "execution_count": null,
   "id": "cd50393f",
   "metadata": {},
   "outputs": [
    {
     "name": "stdout",
     "output_type": "stream",
     "text": [
      "breakpoint 1\n",
      "[2, 3, 0, 0, 1, 4, 5]\n"
     ]
    }
   ],
   "source": [
    "# Optimal solution\n",
    "arr = [2,1,5,4,3,0,0]\n",
    "n = len(arr)\n",
    "# Finding break point\n",
    "index = -1\n",
    "for i in range(n-2,-1,-1):\n",
    "    if arr[i] < arr[i+1]:\n",
    "        index = i\n",
    "        break\n",
    "print(\"breakpoint\",index)\n",
    "if index < 0:\n",
    "    arr.reverse()\n",
    "    print(arr)\n",
    "else:\n",
    "    # Swaping\n",
    "    for i in range(n-1,index+2,-1):\n",
    "        if arr[index] < arr[i]:\n",
    "            arr[index],arr[i] = arr[i],arr[index]\n",
    "            break\n",
    "    # Reverse the rest\n",
    "    r = arr[index+1:]\n",
    "    r.reverse()\n",
    "    arr[index+1:] = r\n",
    "    print(arr)\n",
    "# Time complexity at worst case will be O(3n)\n",
    "# Space complexity is O(1)"
   ]
  },
  {
   "cell_type": "markdown",
   "id": "dc0c2581",
   "metadata": {},
   "source": [
    "### Leaders in array\n",
    "Consider the array = [10, 22, 12, 3, 0, 6], the leader is an element where everything on the right should be smaller.  \n",
    "Like 22 is a leader everything to its right is smaller than 22.  \n",
    "So the leaders are = [22, 12, 6]"
   ]
  },
  {
   "cell_type": "code",
   "execution_count": null,
   "id": "91628fc0",
   "metadata": {},
   "outputs": [
    {
     "name": "stdout",
     "output_type": "stream",
     "text": [
      "[22, 12, 6]\n"
     ]
    }
   ],
   "source": [
    "# Brute force: using nested loop\n",
    "arr = [10,22,12,3,0,6]\n",
    "leaders = []\n",
    "for i in range(len(arr)):\n",
    "    leader = True\n",
    "    for j in range(i+1,len(arr)):\n",
    "        if arr[j] > arr[i]:\n",
    "            leader = False\n",
    "            break\n",
    "    if leader:\n",
    "        leaders.append(arr[i])\n",
    "print(leaders)\n",
    "# Time complexity is O(n^2)\n",
    "# In worst case space complexity is O(n)"
   ]
  },
  {
   "cell_type": "code",
   "execution_count": 4,
   "id": "78335b77",
   "metadata": {},
   "outputs": [
    {
     "name": "stdout",
     "output_type": "stream",
     "text": [
      "[6, 12, 22]\n"
     ]
    }
   ],
   "source": [
    "# Optimal solution: Backtracking and updating max value\n",
    "arr = [10,22,12,3,0,6]\n",
    "leaders = []\n",
    "m = -1 # Pointer to update\n",
    "for i in range(len(arr)-1,-1,-1):\n",
    "    if arr[i] > m:\n",
    "        m = arr[i]\n",
    "        leaders.append(arr[i])\n",
    "print(leaders)"
   ]
  },
  {
   "cell_type": "markdown",
   "id": "2082ae33",
   "metadata": {},
   "source": [
    "### Longest Consecutive sequence\n",
    "Consider the array = [102, 4, 100, 1, 101, 3, 2, 1, 1]  \n",
    "The consecutive sequence can be [1,2,3,4], [100,101,102]...etc\n",
    "We have to find the consecutive sequence which have highest length"
   ]
  },
  {
   "cell_type": "code",
   "execution_count": null,
   "id": "0d45d605",
   "metadata": {},
   "outputs": [
    {
     "name": "stdout",
     "output_type": "stream",
     "text": [
      "4\n"
     ]
    }
   ],
   "source": [
    "# Brute force: Find next consecutive elements of each element we will use nested loop\n",
    "arr = [102, 4, 100, 1, 101, 3, 2, 1, 1]\n",
    "longest = 1\n",
    "for i in range(len(arr)):\n",
    "    count = 1\n",
    "    x = arr[i] # Set element\n",
    "    while(x+1 in arr): # next consecutive is in array\n",
    "        x = x+1 # set element to next consecutive\n",
    "        count +=1 # increase counter if next consecutive is found\n",
    "    if count > longest:\n",
    "        longest = count\n",
    "print(longest)\n",
    "# Time complexity is O(n^2) nested loop\n",
    "# Space complexity is O(1)"
   ]
  },
  {
   "cell_type": "markdown",
   "id": "5a67bf96",
   "metadata": {},
   "source": [
    "#### Better solution\n",
    "Set the following variables  \n",
    "longested = 1 -> for length of longest sequence  \n",
    "lastSmaller = arr[0] -> Keep track of last smaller number encountered  \n",
    "countCur = 0 -> length of current sequence, reset to 0 if element encounter not part of the sequence."
   ]
  },
  {
   "cell_type": "code",
   "execution_count": 10,
   "id": "739c685f",
   "metadata": {},
   "outputs": [
    {
     "name": "stdout",
     "output_type": "stream",
     "text": [
      "4\n"
     ]
    }
   ],
   "source": [
    "import sys\n",
    "nums = [102,4,100,1,101,3,2,1,1]\n",
    "nums.sort()\n",
    "if len(nums)>0:\n",
    "    longest = 1\n",
    "    lastSmall = -sys.maxsize - 1 # Smallest possible integer\n",
    "    countCur = 0\n",
    "    for i in range(len(nums)):\n",
    "        if nums[i]-1 == lastSmall: # if previous element is lastSmall\n",
    "            countCur+=1 \n",
    "            lastSmall = nums[i] # Update new lastSmall\n",
    "        elif nums[i]!=lastSmall: # else not consecutive and not the lastSmall\n",
    "            countCur = 1 # Reset to 1\n",
    "            lastSmall = nums[i] # Update the lastSmall\n",
    "        if countCur > longest:\n",
    "            longest = countCur # Update longest\n",
    "    print(longest)\n",
    "else:\n",
    "    print(0)    \n",
    "# Time complexity will be O(n log n) + O(n) , sorting + single for loop\n",
    "# Space complexity is O(1), no extra space is used."
   ]
  },
  {
   "cell_type": "markdown",
   "id": "c8665bba",
   "metadata": {},
   "source": [
    "#### Optimal Solution\n",
    "1. Put all elements in unordered set.\n",
    "2. Start looping the set:\n",
    "    [102 4 100 1 101 3 2]  \n",
    "    - 102 - 1 = 101, so 102 is not the starting of the sequence since 101 is there in set.\n",
    "    - 4 - 1 = 3, not starting\n",
    "    - 100 - 1 = 99, starting element of the sequence because 99 is not there in the set.\n",
    "        - next 101 is there count 2\n",
    "        - next 102 is there count 3\n",
    "        - next 103 is not there so stop\n",
    "    longest = 3\n",
    "    - 1 - 1 = 0 so starting point. 1 2 3 4 are there in set so count = 4,  \n",
    "    longest = 4\n",
    "    - 101 is not the starting\n",
    "    - 3 is not the starting\n",
    "    - 2 is not the starting\n",
    "\n"
   ]
  },
  {
   "cell_type": "code",
   "execution_count": null,
   "id": "539f90ed",
   "metadata": {},
   "outputs": [
    {
     "name": "stdout",
     "output_type": "stream",
     "text": [
      "4\n"
     ]
    }
   ],
   "source": [
    "# Optimal solution\n",
    "arr = [102,4,100,1,101,3,2,1,1]\n",
    "n = len(arr)\n",
    "if n==0:\n",
    "    print(0)\n",
    "else:\n",
    "    longest = 1\n",
    "    s = set(arr)\n",
    "    for i in s:\n",
    "        if i-1 not in s: # check for starting of a sequence\n",
    "            count = 1\n",
    "            x = i\n",
    "            while x+1 in s: # count the sequence\n",
    "                count+=1\n",
    "                x=x+1\n",
    "            if longest < count: # update the longest sequence\n",
    "                longest = count\n",
    "    print(longest)\n",
    "# Time complexity is O(n) + O(n) = O(2n), inner while will be only executed if starting element is found.\n",
    "# Space complexity at worst case is O(n), for best and average O(1)"
   ]
  },
  {
   "cell_type": "markdown",
   "metadata": {},
   "source": []
  }
 ],
 "metadata": {
  "kernelspec": {
   "display_name": "Python 3",
   "language": "python",
   "name": "python3"
  },
  "language_info": {
   "codemirror_mode": {
    "name": "ipython",
    "version": 3
   },
   "file_extension": ".py",
   "mimetype": "text/x-python",
   "name": "python",
   "nbconvert_exporter": "python",
   "pygments_lexer": "ipython3",
   "version": "3.13.5"
  }
 },
 "nbformat": 4,
 "nbformat_minor": 5
}
