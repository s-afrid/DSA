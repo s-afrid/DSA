{
 "cells": [
  {
   "cell_type": "markdown",
   "id": "da7c8cf9",
   "metadata": {},
   "source": [
    "## Medium array problems"
   ]
  },
  {
   "cell_type": "markdown",
   "id": "e2d2f4dd",
   "metadata": {},
   "source": [
    "### 2 sum problem\n",
    "Consider arr = [2,6,5,8,11] and target = 14. Does there exist any two elements whose sum is equal to target"
   ]
  },
  {
   "cell_type": "code",
   "execution_count": null,
   "id": "ad1f757c",
   "metadata": {},
   "outputs": [
    {
     "name": "stdout",
     "output_type": "stream",
     "text": [
      "Yes\n",
      "[1, 3]\n"
     ]
    }
   ],
   "source": [
    "# Brute force: using nested loop\n",
    "arr = [2,6,5,8,11]\n",
    "target = 14\n",
    "for i in range(len(arr)):\n",
    "    f = 0\n",
    "    for j in range(i+1,len(arr)):\n",
    "        if arr[i]+arr[j] == target:\n",
    "            print(\"Yes\")\n",
    "            print([i,j]) # Return indeces of those two elements\n",
    "            f = 1\n",
    "            break\n",
    "    if f:\n",
    "        break\n",
    "# Time complexity is O(n^2)\n",
    "# Space complexity is O(1)"
   ]
  },
  {
   "cell_type": "code",
   "execution_count": null,
   "id": "60c4b67b",
   "metadata": {},
   "outputs": [
    {
     "name": "stdout",
     "output_type": "stream",
     "text": [
      "Yes\n",
      "3 1\n"
     ]
    }
   ],
   "source": [
    "# Using hashing\n",
    "# Store each element in hash\n",
    "# subtract each element with the target and check if the difference exist in hash or not\n",
    "hashmp = {} # element with index\n",
    "for i in range(len(arr)):\n",
    "    if (target-arr[i]) in hashmp:\n",
    "        print(\"Yes\")\n",
    "        print(i,hashmp[target-arr[i]])\n",
    "        break\n",
    "    else:\n",
    "        hashmp[arr[i]]=i\n",
    "# Time complexity at worst case is O(n)\n",
    "# Space complexity at worst case is O(n)\n"
   ]
  },
  {
   "cell_type": "code",
   "execution_count": null,
   "id": "cff9d174",
   "metadata": {},
   "outputs": [
    {
     "name": "stdout",
     "output_type": "stream",
     "text": [
      "1 3\n"
     ]
    }
   ],
   "source": [
    "# Using 2 pointer\n",
    "arr.sort() # sort array before applying 2 pointer\n",
    "i = 0 # starts from 0 \n",
    "j = len(arr)-1 # start from last\n",
    "while i<len(arr) and j>0:\n",
    "    if arr[i]+arr[j] == target:\n",
    "        print(i,j)\n",
    "        break\n",
    "    elif arr[i]+arr[j] < target: # if sum is less than target then move i else move j\n",
    "        i+=1\n",
    "    else:\n",
    "        j-=1\n",
    "# time complexity if we use merge or quick sort can be log(n), for loop will be O(n)\n",
    "# total time complexity is O(n)\n",
    "# space complexity: O(1)"
   ]
  },
  {
   "cell_type": "markdown",
   "id": "f3124f3b",
   "metadata": {},
   "source": [
    "### Sort an array of 0s, 1s and 2s\n",
    "arr = [0,1,2,0,1,2,1,2,0,0,0,1] we have to sort this array"
   ]
  },
  {
   "cell_type": "code",
   "execution_count": null,
   "id": "899d21c1",
   "metadata": {},
   "outputs": [
    {
     "name": "stdout",
     "output_type": "stream",
     "text": [
      "12\n",
      "5 4 3 12\n",
      "[0, 0, 0, 0, 0, 1, 1, 1, 1, 2, 2, 2]\n"
     ]
    }
   ],
   "source": [
    "arr = [0,1,2,0,1,2,1,2,0,0,0,1]\n",
    "print(len(arr))\n",
    "# count the number of 0s, 1s and 2s\n",
    "c0 = 0\n",
    "c1 = 0\n",
    "c2 = 0\n",
    "for i in arr:\n",
    "    if i == 0:\n",
    "        c0+=1\n",
    "    elif i == 1:\n",
    "        c1+=1\n",
    "    elif i == 2:\n",
    "        c2+=1\n",
    "# in the array the first place will contain 0s, the next 1s and next 2s\n",
    "index = 0 # keep updating the index\n",
    "for i in range(c0):\n",
    "    arr[index] = 0\n",
    "    index+=1\n",
    "for j in range(c1):\n",
    "    arr[index] = 1\n",
    "    index+=1\n",
    "for k in range(c2):\n",
    "    arr[index] = 2\n",
    "    index+=1\n",
    "print(arr)\n",
    "# The total time complexity is O(2n), n for 1st loop, n for next 3 loops\n",
    "# Space complexity is O(1)"
   ]
  },
  {
   "attachments": {
    "Screenshot from 2025-08-22 14-31-44.png": {
     "image/png": "[encoded data removed]"
    }
   },
   "cell_type": "markdown",
   "id": "02f18c0d",
   "metadata": {},
   "source": [
    "#### Dutch national flag algorithm\n",
    "This algorithm involves 3 pointers => low, mid, high  \n",
    "It follows 3 rules:  \n",
    "1. Everything from 0.....low-1 is 0\n",
    "2. Everything from low......mid-1 is 1\n",
    "3. Everything from high+1......n-1 is 2  \n",
    "![Screenshot from 2025-08-22 14-31-44.png](<attachment:Screenshot from 2025-08-22 14-31-44.png>)  \n",
    "\n",
    "The arr is unsorted so mid will point at 0 and high will point at n-1\n"
   ]
  }
 ],
 "metadata": {
  "kernelspec": {
   "display_name": "venv (3.12.3)",
   "language": "python",
   "name": "python3"
  },
  "language_info": {
   "codemirror_mode": {
    "name": "ipython",
    "version": 3
   },
   "file_extension": ".py",
   "mimetype": "text/x-python",
   "name": "python",
   "nbconvert_exporter": "python",
   "pygments_lexer": "ipython3",
   "version": "3.12.3"
  }
 },
 "nbformat": 4,
 "nbformat_minor": 5
}
