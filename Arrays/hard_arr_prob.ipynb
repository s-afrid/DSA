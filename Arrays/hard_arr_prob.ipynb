{
 "cells": [
  {
   "cell_type": "markdown",
   "id": "5fb83376",
   "metadata": {},
   "source": [
    "## Hard level array problems"
   ]
  },
  {
   "attachments": {
    "pascal-triangle.png": {
     "image/png": "[encoded data removed]"
    }
   },
   "cell_type": "markdown",
   "id": "61a8278b",
   "metadata": {},
   "source": [
    "### Pascal triangle\n",
    "In Pascal's triangle, each number is the sum of the two numbers directly above it as shown  \n",
    "![pascal-triangle.png](attachment:pascal-triangle.png)   "
   ]
  },
  {
   "cell_type": "markdown",
   "id": "437f7007",
   "metadata": {},
   "source": [
    "#### Finding element at given row and column\n",
    "Like row = 5, col = 3, the element at that place is 6.  \n",
    "\n",
    "To get the element use combination of row-1 and col-1: <sup>row-1</sup>C<sub>col-1</sub>  \n",
    "<sup>row-1</sup>C<sub>col-1</sub> = (row-1)! / (col-1)! * ((row-1)-(col-1))!"
   ]
  },
  {
   "cell_type": "code",
   "execution_count": 8,
   "id": "92ca46af",
   "metadata": {},
   "outputs": [
    {
     "name": "stdout",
     "output_type": "stream",
     "text": [
      "6\n"
     ]
    }
   ],
   "source": [
    "import math\n",
    "row = 5\n",
    "col = 3\n",
    "a = math.factorial(row-1) // (math.factorial(col-1) * math.factorial((row-1)-(col-1)))\n",
    "print(a)"
   ]
  },
  {
   "cell_type": "code",
   "execution_count": null,
   "id": "5d2b19fb",
   "metadata": {},
   "outputs": [
    {
     "name": "stdout",
     "output_type": "stream",
     "text": [
      "6\n"
     ]
    }
   ],
   "source": [
    "# Short cut to find combination\n",
    "def nCr(n,r):\n",
    "    res = 1\n",
    "    for i in range(r):\n",
    "        res = res * (n-i)\n",
    "        res = res / (i+1)\n",
    "    return res\n",
    "row = 5\n",
    "col = 3\n",
    "ans = nCr(row-1,col-1)\n",
    "print(int(ans))\n",
    "# Time complexity: O(r)"
   ]
  },
  {
   "cell_type": "markdown",
   "id": "584c92ba",
   "metadata": {},
   "source": [
    "#### Print entire row\n",
    "Consider the row we have to print is 4th  \n",
    "row -> 1 3 3 1\n",
    "\n",
    "- nth row will have n elements  \n",
    "- print entire, column will go from 1 -> row.no"
   ]
  },
  {
   "cell_type": "code",
   "execution_count": null,
   "id": "3b027532",
   "metadata": {},
   "outputs": [
    {
     "name": "stdout",
     "output_type": "stream",
     "text": [
      "1 3 3 1 "
     ]
    }
   ],
   "source": [
    "r = 4\n",
    "for i in range(1,r+1):\n",
    "    print(int(nCr(r-1,i-1)),end=\" \")\n",
    "\n",
    "# Time complexity is O(nxr)"
   ]
  },
  {
   "cell_type": "markdown",
   "id": "856433a8",
   "metadata": {},
   "source": [
    "Use 0 based indexing for each column  \n",
    "Start with ans = 1, then each element of the row can be obtained by  \n",
    "ele = ans x ((row-col)/col)  \n",
    "Update ans = ele every time "
   ]
  },
  {
   "cell_type": "code",
   "execution_count": 2,
   "id": "59d57beb",
   "metadata": {},
   "outputs": [
    {
     "name": "stdout",
     "output_type": "stream",
     "text": [
      "1 3 3 1 "
     ]
    }
   ],
   "source": [
    "r = 4\n",
    "ans = 1\n",
    "print(ans,end=\" \")\n",
    "for i in range(1,r):\n",
    "    ele = int(ans * ((r-i)/i))\n",
    "    print(ele, end=\" \")\n",
    "    ans = ele"
   ]
  },
  {
   "cell_type": "markdown",
   "id": "95c14076",
   "metadata": {},
   "source": [
    "#### Print full pascal triangle\n",
    "Print all rows from 1 -> n"
   ]
  },
  {
   "cell_type": "code",
   "execution_count": 7,
   "id": "9a6a97b5",
   "metadata": {},
   "outputs": [
    {
     "name": "stdout",
     "output_type": "stream",
     "text": [
      "[1]\n",
      "[1, 1]\n",
      "[1, 2, 1]\n",
      "[1, 3, 3, 1]\n",
      "[1, 4, 6, 4, 1]\n",
      "[1, 5, 10, 10, 5, 1]\n"
     ]
    }
   ],
   "source": [
    "n = 6\n",
    "ans = []\n",
    "for i in range(1,n+1):\n",
    "    temp = []\n",
    "    t = 1\n",
    "    temp.append(t)\n",
    "    for j in range(1,i):\n",
    "        ele = int(t * ((i-j)/j))\n",
    "        temp.append(ele)\n",
    "        t = ele\n",
    "    ans.append(temp)\n",
    "for i in ans:\n",
    "    print(i)"
   ]
  },
  {
   "cell_type": "markdown",
   "id": "d04748a5",
   "metadata": {},
   "source": [
    "### Majority element (more than n/3 times)\n",
    "Consider array [1,1,1,3,3,2,2,2]  \n",
    "n = 8, math.floor(8/3) ~ 2 times  \n",
    "elements appearing more than 2 times are [1,2]  \n",
    "\n",
    "There will always at max 2 elements will be appear n/3 times  \n",
    "Because,  \n",
    "n = 8, math.floor(8/3) ~ 2 times (element should appear atleast 3 times)  \n",
    "If 3 elements appear 3 times, 3+3+3 = 9, but there are only 8 elements,  \n",
    "so at max only 2 elements will appear n/3 times, and at minimum 0 elements will appear more than n/3 times"
   ]
  },
  {
   "cell_type": "code",
   "execution_count": null,
   "id": "01372b62",
   "metadata": {},
   "outputs": [
    {
     "name": "stdout",
     "output_type": "stream",
     "text": [
      "[1, 2]\n"
     ]
    }
   ],
   "source": [
    "# Brute force: Count each element\n",
    "import math\n",
    "arr = [1,1,1,3,3,2,2,2]\n",
    "n = len(arr)\n",
    "me = []\n",
    "for i in range(n):\n",
    "    c = 0\n",
    "    for j in range(n):\n",
    "        if arr[j] == arr[i]:\n",
    "            c+=1\n",
    "    if c > math.floor(n/3) and arr[i] not in me:\n",
    "        me.append(arr[i])\n",
    "print(me)\n",
    "# Time complexity: O(n^2)\n",
    "# Space complexity: O(1)"
   ]
  },
  {
   "cell_type": "code",
   "execution_count": 14,
   "id": "a46b16f5",
   "metadata": {},
   "outputs": [
    {
     "name": "stdout",
     "output_type": "stream",
     "text": [
      "[1, 2]\n"
     ]
    }
   ],
   "source": [
    "import math\n",
    "arr = [1,1,1,3,3,2,2,2]\n",
    "ans = []\n",
    "n = len(arr)\n",
    "for i in range(n):\n",
    "    if len(ans)==0 or ans[0]!=arr[i]:\n",
    "        # If no majority element or existing majority element is already appeared\n",
    "        c = 0\n",
    "        for j in range(n):\n",
    "            if arr[j]==arr[i]:\n",
    "                c+=1\n",
    "        if c > math.floor(n/3):\n",
    "            ans.append(arr[i])\n",
    "        if len(ans) == 2:\n",
    "            # At max only 2 majority elements\n",
    "            break\n",
    "print(ans)\n",
    "# Time complexity in worst case scenario is O(n^2)\n",
    "# Space complexity: O(1)"
   ]
  },
  {
   "cell_type": "code",
   "execution_count": null,
   "id": "7cc15da9",
   "metadata": {},
   "outputs": [
    {
     "name": "stdout",
     "output_type": "stream",
     "text": [
      "[1, 2]\n"
     ]
    }
   ],
   "source": [
    "# Using hash map: Remember each element count as key-value pair\n",
    "d = {}\n",
    "me = []\n",
    "for i in range(n):\n",
    "    if arr[i] in d:\n",
    "        d[arr[i]] +=1\n",
    "    else:\n",
    "        d[arr[i]] = 1\n",
    "for i in d:\n",
    "    if d[i] > math.floor(n/3):\n",
    "        me.append(i)\n",
    "print(me)\n",
    "# Time complexity: O(n)\n",
    "# Space complexity worst case scenario: O(n)"
   ]
  },
  {
   "cell_type": "markdown",
   "id": "08215982",
   "metadata": {},
   "source": [
    "Maintain the following variables  \n",
    "c1 = 0, e1 = 0\n",
    "c2 = 0, e2 = 0\n",
    "\n",
    "If count of both is 0 we assume that the majority is that element.\n",
    "\n",
    "Start looping from 0 -> n-1, if same element appears increase the count or else decrease the count by 1."
   ]
  },
  {
   "cell_type": "code",
   "execution_count": null,
   "id": "8d562c58",
   "metadata": {},
   "outputs": [
    {
     "name": "stdout",
     "output_type": "stream",
     "text": [
      "1 2\n",
      "1 2\n"
     ]
    }
   ],
   "source": [
    "# Optiimal solution: Moore voting algorithm\n",
    "c1,c2,e1,e2 = 0,0,0,0\n",
    "for i in range(n):\n",
    "    if c1 == 0 and arr[i]!=e2:\n",
    "        c1 = 1\n",
    "        e1 = arr[i]\n",
    "    elif c2 == 0 and arr[i]!=e1:\n",
    "        c2 = 1\n",
    "        e2 = arr[i]\n",
    "    elif arr[i] == e1:\n",
    "        c1+=1\n",
    "    elif arr[i] == e2:\n",
    "        c2+=1\n",
    "    else:\n",
    "        c1-=1\n",
    "        c2-=1\n",
    "print(e1,e2)\n",
    "\n",
    "# Manual check if the suppose to be elements are actual manual elements\n",
    "mc1, mc2 = 0, 0\n",
    "for i in range(n):\n",
    "    if arr[i] == e1:\n",
    "        mc1 += 1\n",
    "    elif arr[i] == e2:\n",
    "        mc2 += 1\n",
    "if mc1 > math.floor(n/3) and mc2 > math.floor(n/3):\n",
    "    print(e1,e2)\n",
    "\n",
    "# Time complexity: O(2n)\n",
    "# Space complexity: O(1)"
   ]
  },
  {
   "cell_type": "markdown",
   "id": "9582ba9f",
   "metadata": {},
   "source": [
    "### 3 Sum\n",
    "Consider the array = [-1,0,1,2,-1,-4] we have to find all the triplets whose sum is zero. All the 3 elements should be unique"
   ]
  },
  {
   "cell_type": "code",
   "execution_count": null,
   "id": "978fbe64",
   "metadata": {},
   "outputs": [
    {
     "name": "stdout",
     "output_type": "stream",
     "text": [
      "[[-1, 0, 1], [-1, -1, 2]]\n"
     ]
    }
   ],
   "source": [
    "# Brute force: 3-level nested loop\n",
    "arr = [-1,0,1,2,-1,4]\n",
    "triplets = []\n",
    "for i in range(len(arr)):\n",
    "    for j in range(i+1,len(arr)):\n",
    "        for k in range(j+1,len(arr)):\n",
    "            if arr[i]+arr[j]+arr[k] == 0:\n",
    "                t = sorted([arr[i],arr[j],arr[k]])\n",
    "                if t not in triplets:\n",
    "                    triplets.append(t)\n",
    "print(triplets)\n",
    "# Time complexity is O(n^3)\n",
    "# Space complexity: O(1)"
   ]
  },
  {
   "cell_type": "markdown",
   "id": "9a30be3f",
   "metadata": {},
   "source": [
    "We know that arr[i] + arr[j] + arr[k] = 0  \n",
    "also we can derive arr[k] = -(arr[i] + arr[j])  \n",
    "We have to arr[k] and add to the triplet  \n",
    "For lookup we are going to use hashing"
   ]
  },
  {
   "cell_type": "code",
   "execution_count": 3,
   "id": "43b4f9ef",
   "metadata": {},
   "outputs": [
    {
     "name": "stdout",
     "output_type": "stream",
     "text": [
      "[[-1, 0, 1], [-1, -1, 2]]\n"
     ]
    }
   ],
   "source": [
    "# Using hashing map\n",
    "arr = [-1,0,1,2,-1,4]\n",
    "triplets = []\n",
    "for i in range(len(arr)):\n",
    "    hashmap = set([])\n",
    "    for j in range(i+1,len(arr)):\n",
    "        k = -(arr[i]+arr[j])\n",
    "        if k in hashmap:\n",
    "            t = sorted([arr[i],arr[j],k])\n",
    "            if t not in triplets:\n",
    "                triplets.append(t)\n",
    "        hashmap.add(arr[j])\n",
    "print(triplets)\n",
    "# Time complexity: O(n^2 x log(m)), m is size of hashmap\n",
    "# Space complexity: O(n)\n",
    "\n"
   ]
  },
  {
   "attachments": {
    "3sum.png": {
     "image/png": "[encoded data removed]"
    }
   },
   "cell_type": "markdown",
   "id": "1a3c4b3d",
   "metadata": {},
   "source": [
    "#### Optimal\n",
    "First sort the given array  \n",
    "Set pointer i,j, and k  \n",
    "![3sum.png](attachment:3sum.png)  \n",
    "- add all the 3 (if sum < 0 move j else sum > 0 move k)\n",
    "- move j or k untill sum reaches 0\n",
    "- when sum reaches 0, move j and k such that they reach to new element other than the previous one\n",
    "- k will cross j at some point -> stop\n",
    "- move i untill it reaches element other than the previous, reset the j(next to i) and k(at the end)"
   ]
  },
  {
   "cell_type": "code",
   "execution_count": null,
   "id": "36cc7fe7",
   "metadata": {},
   "outputs": [
    {
     "name": "stdout",
     "output_type": "stream",
     "text": [
      "[[-1, -1, 2], [-1, 0, 1]]\n"
     ]
    }
   ],
   "source": [
    "# optimal: using 2 pointer\n",
    "nums = [-1,0,1,2,-1,4]\n",
    "nums.sort()\n",
    "triplets = []\n",
    "for i in range(len(nums)):\n",
    "    if i>0 and nums[i]==nums[i-1]:\n",
    "        continue # Untill i is not same as previous element\n",
    "    j = i+1\n",
    "    k = len(nums) - 1\n",
    "    while(j<k):\n",
    "        s = nums[i]+nums[j]+nums[k] \n",
    "        if s<0:\n",
    "            j+=1\n",
    "        elif s>0:\n",
    "            k-=1\n",
    "        else:\n",
    "            triplets.append([nums[i],nums[j],nums[k]])\n",
    "            j+=1\n",
    "            k-=1\n",
    "            while(nums[j]==nums[j-1]):\n",
    "                j+=1 # Untill j is not same as previous element\n",
    "            while(nums[k]==nums[k+1]):\n",
    "                k-=1 # Untill k is not same as previous element\n",
    "print(triplets)\n",
    "# Time complexity: O(n log n) + O(n^2)\n",
    "# Space complexity: O(1)"
   ]
  },
  {
   "cell_type": "markdown",
   "id": "897b30b4",
   "metadata": {},
   "source": [
    "### 4 Sum\n",
    "Consider the following array: [1,0,-1,0,-2,2]  \n",
    "Find the elements such that  \n",
    "nums[i]+nums[j]+nums[k]+nums[l] = target and i!=j!=k!=l"
   ]
  },
  {
   "cell_type": "code",
   "execution_count": null,
   "id": "68a41696",
   "metadata": {},
   "outputs": [
    {
     "name": "stdout",
     "output_type": "stream",
     "text": [
      "[[-1, 0, 0, 1], [-2, -1, 1, 2], [-2, 0, 0, 2]]\n"
     ]
    }
   ],
   "source": [
    "# Four level loops\n",
    "nums = [1,0,-1,0,-2,2]\n",
    "n = len(nums)\n",
    "ans = []\n",
    "for i in range(n):\n",
    "    for j in range(i+1,n):\n",
    "        for k in range(j+1,n):\n",
    "            for l in range(k+1,n):\n",
    "                s = nums[i]+nums[j]+nums[k]+nums[l]\n",
    "                t = sorted([nums[i],nums[j],nums[k],nums[l]])\n",
    "                if s==0 and t not in ans:\n",
    "                    ans.append(t)\n",
    "print(ans)\n",
    "\n",
    "# Time complexity: O(n^4)\n",
    "# Space complexity: O(1)"
   ]
  },
  {
   "cell_type": "markdown",
   "id": "c6e72fce",
   "metadata": {},
   "source": [
    "Consider nums[i]+nums[j]+nums[k]+nums[l] = target  \n",
    "then nums[l] = target - (nums[i]+nums[j]+nums[k])  \n",
    "Use hash map similar to 3 sum"
   ]
  },
  {
   "cell_type": "code",
   "execution_count": null,
   "id": "6f9a22be",
   "metadata": {},
   "outputs": [
    {
     "name": "stdout",
     "output_type": "stream",
     "text": [
      "[[-1, 0, 0, 1], [-2, -1, 1, 2], [-2, 0, 0, 2]]\n"
     ]
    }
   ],
   "source": [
    "# Using hashmap\n",
    "nums = [1,0,-1,0,-2,2]\n",
    "n = len(nums)\n",
    "ans = []\n",
    "for i in range(n):\n",
    "    for j in range(i+1,n):\n",
    "        h = set()\n",
    "        for k in range(j+1,n):\n",
    "            s = nums[i]+nums[j]+nums[k]\n",
    "            l = 0 - s\n",
    "            if l in h:\n",
    "                t = sorted([nums[i],nums[j],nums[k],l])\n",
    "                if t not in ans:\n",
    "                    ans.append(t)\n",
    "            h.add(nums[k])\n",
    "print(ans)\n",
    "# Time complexity: O(n^3)\n",
    "# Space complexity: O(n)"
   ]
  },
  {
   "attachments": {
    "image.png": {
     "image/png": "[encoded data removed]"
    }
   },
   "cell_type": "markdown",
   "id": "5cd9dff0",
   "metadata": {},
   "source": [
    "#### Optimal\n",
    "1. First sort the array\n",
    "2. Set the pointers like below  \n",
    "![image.png](attachment:image.png)  \n",
    "3. Add all the 4 numbers  \n",
    "    - if sum is equal to target move l and k till it we get new value\n",
    "    - some point k will cross l, at that point move j till new value and reset k and l.\n",
    "    - if sum < target move k else sum > target move l\n",
    "4. Repeat for j will end, once j reaches end move i till new value and reset j,k and l"
   ]
  },
  {
   "cell_type": "code",
   "execution_count": null,
   "id": "fef468b8",
   "metadata": {},
   "outputs": [
    {
     "name": "stdout",
     "output_type": "stream",
     "text": [
      "[[-2, -1, 1, 2], [-2, 0, 0, 2], [-1, 0, 0, 1]]\n"
     ]
    }
   ],
   "source": [
    "# Optimal: Using 2 pointer\n",
    "nums = [1,0,-1,0,-2,2]\n",
    "nums.sort()\n",
    "n = len(nums)\n",
    "ans = []\n",
    "for i in range(n):\n",
    "    if i>0 and nums[i] == nums[i-1]:\n",
    "        continue\n",
    "    for j in range(i+1,n):\n",
    "        if j>i+1 and nums[j] == nums[j-1]:\n",
    "            continue\n",
    "        k = j+1\n",
    "        l = n-1\n",
    "        while(k<l):\n",
    "            s = nums[i]+nums[j]+nums[k]+nums[l]\n",
    "            if s < 0:\n",
    "                k+=1\n",
    "            elif s > 0:\n",
    "                l-=1\n",
    "            else:\n",
    "                t = sorted([nums[i],nums[j],nums[k],nums[l]])\n",
    "                ans.append(t)\n",
    "                k+=1\n",
    "                l-=1\n",
    "                while(k<=n-1 and nums[k]==nums[k-1]):\n",
    "                    k+=1\n",
    "                while(l>0 and nums[l]==nums[l+1]):\n",
    "                    l-=1\n",
    "print(ans)\n",
    "# Time complexity: O(n log n) + O(n^3)\n",
    "# Space complexity: O(1)\n",
    "            "
   ]
  },
  {
   "cell_type": "markdown",
   "id": "16b5f53c",
   "metadata": {},
   "source": [
    "### Largest subarray with sum 0\n",
    "Consider the given array [15,-2,2,-8,1,7,10,23] we have to find out length of the largest subarray whose sum is 0"
   ]
  },
  {
   "cell_type": "code",
   "execution_count": null,
   "id": "4352d76b",
   "metadata": {},
   "outputs": [
    {
     "name": "stdout",
     "output_type": "stream",
     "text": [
      "5\n"
     ]
    }
   ],
   "source": [
    "# Brute force: Generating all aubarrays\n",
    "arr = [15,-2,2,-8,1,7,10,23]\n",
    "maxlen = 0\n",
    "for i in range(len(arr)):\n",
    "    for j in range(i,len(arr)):\n",
    "        s= sum(arr[i:j+1])\n",
    "        if s == 0:\n",
    "            maxlen = max(maxlen,len(arr[i:j+1]))\n",
    "print(maxlen)\n",
    "# Time complexity: O(n^3) along with sum\n",
    "# Space complexity: O(1)"
   ]
  },
  {
   "cell_type": "code",
   "execution_count": 5,
   "id": "ede71dfd",
   "metadata": {},
   "outputs": [
    {
     "name": "stdout",
     "output_type": "stream",
     "text": [
      "5\n"
     ]
    }
   ],
   "source": [
    "# Optimal: Using hash map and prefix sum\n",
    "maxlen = 0\n",
    "s = 0\n",
    "hashmap = dict()\n",
    "for i in range(len(arr)):\n",
    "    s += arr[i]\n",
    "    if s == 0:\n",
    "        maxlen = i+1\n",
    "    else:\n",
    "        if s in hashmap:\n",
    "            maxlen = max(maxlen, i-hashmap[s])\n",
    "        elif s not in hashmap:\n",
    "            hashmap[s] = i\n",
    "\n",
    "print(maxlen)\n",
    "# Time complexity: O(N log N)\n",
    "# Space complexity: O(n)"
   ]
  },
  {
   "cell_type": "markdown",
   "id": "a74fb941",
   "metadata": {},
   "source": [
    "### Count subarray with xor K\n",
    "Consider the array [4,2,2,6,4] and k = 6  \n",
    "We have to find number of subarray's in which if we XOR all the elements we will get k = 6"
   ]
  },
  {
   "cell_type": "code",
   "execution_count": null,
   "id": "1d91cc5e",
   "metadata": {},
   "outputs": [
    {
     "name": "stdout",
     "output_type": "stream",
     "text": [
      "4\n"
     ]
    }
   ],
   "source": [
    "# Brute force: Generating all subarrays\n",
    "arr = [4,2,2,6,4]\n",
    "k = 6\n",
    "c = 0\n",
    "for i in range(len(arr)):\n",
    "    x = 0\n",
    "    for j in range(i,len(arr)):\n",
    "        x ^= arr[j]\n",
    "        if x == k:\n",
    "            c+=1\n",
    "print(c)\n",
    "# Time complexity: O(n^2)\n",
    "# Space complexity: O(1)"
   ]
  },
  {
   "cell_type": "code",
   "execution_count": null,
   "id": "26deeb60",
   "metadata": {},
   "outputs": [
    {
     "name": "stdout",
     "output_type": "stream",
     "text": [
      "4\n"
     ]
    }
   ],
   "source": [
    "# Optimal: Using hashmap and concept similar to presum\n",
    "hashmap = {0:1}\n",
    "k = 6\n",
    "c = 0\n",
    "y = 0\n",
    "for i in range(len(arr)):\n",
    "    y ^= arr[i]\n",
    "    x = y ^ k\n",
    "    if x in hashmap:\n",
    "        c += hashmap[x]\n",
    "    if y in hashmap:\n",
    "        hashmap[y] +=1\n",
    "    else:\n",
    "        hashmap[y] = 1\n",
    "\n",
    "print(c)\n",
    "\n"
   ]
  },
  {
   "attachments": {
    "overlapping.png": {
     "image/png": "[encoded data removed]"
    }
   },
   "cell_type": "markdown",
   "id": "db6a269d",
   "metadata": {},
   "source": [
    "### Merge overlapping subintervals\n",
    "Consider the array containing subintervals  \n",
    "[(1,3),(2.6),(8,9),(9,11),(8,10),(2,4),(15,18),(16,17)]  \n",
    "Consider the intervals  \n",
    "![overlapping.png](attachment:overlapping.png)  \n",
    "So we will get after merging intervals  \n",
    "(1,6) (8,11) (15,18)"
   ]
  },
  {
   "cell_type": "markdown",
   "id": "9ddbe89a",
   "metadata": {},
   "source": [
    "- First we will sort the array\n",
    "- Start the iteration\n",
    "    - Assume the first element to be the merged interval\n",
    "    - Next element, if first of the pair exist in between the assume interval and second element is greater than second of assumed interval, replace it.\n",
    "    - If the next element is not in the interval the stop\n",
    "- Next element\n",
    "    - If next element already in the interval obtained early then move to next element or else repeat the previous step"
   ]
  },
  {
   "cell_type": "code",
   "execution_count": null,
   "id": "fdd67609",
   "metadata": {},
   "outputs": [
    {
     "name": "stdout",
     "output_type": "stream",
     "text": [
      "[[1, 6], [8, 11], [15, 18]]\n"
     ]
    }
   ],
   "source": [
    "# Brute force\n",
    "ans = []\n",
    "# First sort the array\n",
    "intervals = [[1,3],[2,6],[8,9],[9,11],[8,10],[2,4],[15,18],[16,17]]\n",
    "intervals.sort()\n",
    "# Start iteration\n",
    "for i in range(len(intervals)):\n",
    "    start = intervals[i][0] # Set start of the assumed interval\n",
    "    end = intervals[i][1] # Set end of the assumed interval\n",
    "    if ans!=[] and end <= ans[-1][1]:\n",
    "        # Check if the end is less than the end of last interval of ans\n",
    "        continue\n",
    "    for j in range(i+1,len(intervals)):\n",
    "        if intervals[j][0] <= end:\n",
    "            # Check if already lies in assumed interval\n",
    "            end = max(end, intervals[j][1])\n",
    "        else:\n",
    "            break\n",
    "    ans.append([start,end])\n",
    "print(ans)\n",
    "# Time complexity: O(n log n) + O(n^2)\n",
    "# Space complexity: O(1)"
   ]
  },
  {
   "cell_type": "markdown",
   "id": "e60b8c32",
   "metadata": {},
   "source": [
    "#### Optimal\n",
    "- Assume first element to be the interval because ans is empty\n",
    "- Next the first of next element is less than end then it lies in the interval and if second is greater than end, replace it\n",
    "    - if first of next element is greater than end then assume this element to be new interval and append previous to ans"
   ]
  },
  {
   "cell_type": "code",
   "execution_count": 7,
   "id": "9223ad6d",
   "metadata": {},
   "outputs": [
    {
     "name": "stdout",
     "output_type": "stream",
     "text": [
      "[[1, 6], [8, 11], [15, 18]]\n"
     ]
    }
   ],
   "source": [
    "# Optimal\n",
    "ans = []\n",
    "# First sort the array\n",
    "intervals = [[1,3],[2,6],[8,9],[9,11],[8,10],[2,4],[15,18],[16,17]]\n",
    "intervals.sort()\n",
    "start = intervals[0][0]\n",
    "end = intervals[0][1]\n",
    "for i in range(1,len(intervals)):\n",
    "    if intervals[i][0] <= end:\n",
    "        end = max(end, intervals[i][1])\n",
    "    else:\n",
    "        ans.append([start,end])\n",
    "        start = intervals[i][0]\n",
    "        end = intervals[i][1]\n",
    "# Append the last updated merge interval\n",
    "ans.append([start,end])\n",
    "print(ans)\n",
    "# Time complexiy: O(n log n) + O(n)\n",
    "# Space complexity: O(1)"
   ]
  },
  {
   "cell_type": "markdown",
   "id": "a654cf16",
   "metadata": {},
   "source": [
    "### Merging two sorted arrays\n",
    "Conisder the following 2 sorted arrays  \n",
    "arr1 = [1,3,5,7] and arr2 = [0,2,6,8,9]  \n",
    "after we merge them we will get [0,1,2,3,5,6,7,8,9]"
   ]
  },
  {
   "cell_type": "code",
   "execution_count": null,
   "id": "1003e6fc",
   "metadata": {},
   "outputs": [
    {
     "name": "stdout",
     "output_type": "stream",
     "text": [
      "[0, 1, 2, 3, 5, 6, 7, 8, 9]\n",
      "[0, 1, 2, 3] [5, 6, 7, 8, 9]\n"
     ]
    }
   ],
   "source": [
    "# Brute force: use third array to store merged and using 2 pointers\n",
    "arr1=[1,3,5,7]\n",
    "arr2=[0,2,6,8,9]\n",
    "arr3 = []\n",
    "m = 4\n",
    "n = 5\n",
    "left =0\n",
    "right = 0\n",
    "while left<m and right<n:\n",
    "    if arr1[left] <= arr2[right]:\n",
    "        arr3.append(arr1[left])\n",
    "        left+=1\n",
    "    else:\n",
    "        arr3.append(arr2[right])\n",
    "        right+=1\n",
    "for i in range(left,m):\n",
    "    arr3.append(arr1[i])\n",
    "for j in range(right,n):\n",
    "    arr3.append(arr2[j])\n",
    "print(arr3)\n",
    "for i in range(n+m):\n",
    "    if i<m:\n",
    "        arr1[i] = arr3[i]\n",
    "    else:\n",
    "        arr2[i-m] = arr3[i]\n",
    "print(arr1, arr2)\n",
    "# Time complexity: O(2(m+n))\n",
    "# Space complexity: O(m+n)"
   ]
  },
  {
   "cell_type": "code",
   "execution_count": null,
   "id": "50c716b2",
   "metadata": {},
   "outputs": [
    {
     "name": "stdout",
     "output_type": "stream",
     "text": [
      "[0, 1, 2, 3] [5, 6, 7, 8, 9]\n"
     ]
    }
   ],
   "source": [
    "# Optimal\n",
    "arr1=[1,3,5,7]\n",
    "arr2=[0,2,6,8,9]\n",
    "m = 4\n",
    "n = 5\n",
    "left = m-1 # Start from the last\n",
    "right = 0\n",
    "while left>=0 and right<n:\n",
    "    if arr1[left] >= arr2[right]:\n",
    "        arr1[left],arr2[right] = arr2[right],arr1[left]\n",
    "        left-=1\n",
    "        right+=1\n",
    "    else:\n",
    "        break\n",
    "arr1.sort()\n",
    "arr2.sort()\n",
    "print(arr1,arr2)\n",
    "# Time complexity: O(min(n,m)) + O(m log m) + O(n log n)\n",
    "# Space complexity: O(1)"
   ]
  },
  {
   "cell_type": "markdown",
   "id": "9ff78fbc",
   "metadata": {},
   "source": [
    "### Finding missing and repeated values\n",
    "Consider the array [4,3,6,2,1,1] and n=6 which means [1,2,3,4,5,6]  \n",
    "If we compare both we found that 5 is missing and 1 is appearing 2 times"
   ]
  },
  {
   "cell_type": "code",
   "execution_count": null,
   "id": "2bc37c1a",
   "metadata": {},
   "outputs": [
    {
     "name": "stdout",
     "output_type": "stream",
     "text": [
      "5 1\n"
     ]
    }
   ],
   "source": [
    "# Brute force\n",
    "arr = [4,3,6,2,1,1]\n",
    "n = 6\n",
    "missing = None\n",
    "repeating = None\n",
    "for i in range(1,n+1):\n",
    "    count = 0\n",
    "    for j in range(n):\n",
    "        if arr[j] == i:\n",
    "            count+=1\n",
    "    if count==2:\n",
    "        repeating = i\n",
    "    if count==0:\n",
    "        missing = i\n",
    "print(missing, repeating)\n",
    "# Time complexity: O(n^2)\n",
    "# Space complexity: O(1)"
   ]
  },
  {
   "cell_type": "code",
   "execution_count": null,
   "id": "ebbeebfd",
   "metadata": {},
   "outputs": [
    {
     "name": "stdout",
     "output_type": "stream",
     "text": [
      "5 1\n"
     ]
    }
   ],
   "source": [
    "# Better: Using hashmap\n",
    "arr = [4,3,6,2,1,1]\n",
    "n = 6\n",
    "h = [0]*(n+1)\n",
    "missing = None\n",
    "repeating = None\n",
    "for i in range(n):\n",
    "    h[arr[i]]+=1\n",
    "for i in range(1,n+1):\n",
    "    if h[i] == 2:\n",
    "        repeating = i\n",
    "    if h[i] == 0:\n",
    "        missing = i\n",
    "print(missing, repeating)\n",
    "# Time complexity: O(2n)\n",
    "# Space complexity: O(n)"
   ]
  },
  {
   "cell_type": "markdown",
   "id": "155d7955",
   "metadata": {},
   "source": [
    "Let x -> repeating, y -> missing  \n",
    "- Sum all array value - s1\n",
    "- Sum from 1 to n - sn\n",
    "- subtract s1-sn\n",
    "- We found that x-y = s1-sn\n",
    "- Square all array and sum -s2\n",
    "- Square from 1 to n - s2n\n",
    "- subtract s2-s2n\n",
    "- We found the x<sup>2</sup>-y<sup>2</sup> = s2-s2n\n",
    "- (x-y)(x+y) = s2-s2n\n",
    "\n",
    "We find x and y by solving x+y and x-y\n"
   ]
  },
  {
   "cell_type": "code",
   "execution_count": null,
   "id": "148a17b5",
   "metadata": {},
   "outputs": [
    {
     "name": "stdout",
     "output_type": "stream",
     "text": [
      "1.0\n",
      "5.0\n"
     ]
    }
   ],
   "source": [
    "# Using basic math\n",
    "arr = [4,3,6,2,1,1]\n",
    "n=6\n",
    "x=None\n",
    "y=None\n",
    "sn = (n*(n+1))/2\n",
    "s2n = (n*(n+1)*(2*n+1))/6\n",
    "s1 = 0\n",
    "s2 = 0\n",
    "for i in range(n):\n",
    "    s1 += arr[i]\n",
    "    s2 += (arr[i]*arr[i])\n",
    "val1 = s1-sn # x-y\n",
    "val2 = (s2-s2n)/val1 # x+y\n",
    "x = (val1+val2)/2 # (x-y)+(x+y) = 2x\n",
    "print(x)\n",
    "y = val2 - x\n",
    "print(y)"
   ]
  }
 ],
 "metadata": {
  "kernelspec": {
   "display_name": "venv (3.12.3)",
   "language": "python",
   "name": "python3"
  },
  "language_info": {
   "codemirror_mode": {
    "name": "ipython",
    "version": 3
   },
   "file_extension": ".py",
   "mimetype": "text/x-python",
   "name": "python",
   "nbconvert_exporter": "python",
   "pygments_lexer": "ipython3",
   "version": "3.12.3"
  }
 },
 "nbformat": 4,
 "nbformat_minor": 5
}
