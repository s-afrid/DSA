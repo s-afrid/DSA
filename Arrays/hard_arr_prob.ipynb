{
 "cells": [
  {
   "cell_type": "markdown",
   "id": "5fb83376",
   "metadata": {},
   "source": [
    "## Hard level array problems"
   ]
  },
  {
   "attachments": {
    "pascal-triangle.png": {
     "image/png": "[encoded data removed]"
    }
   },
   "cell_type": "markdown",
   "id": "61a8278b",
   "metadata": {},
   "source": [
    "### Pascal triangle\n",
    "In Pascal's triangle, each number is the sum of the two numbers directly above it as shown  \n",
    "![pascal-triangle.png](attachment:pascal-triangle.png)   "
   ]
  },
  {
   "cell_type": "markdown",
   "id": "437f7007",
   "metadata": {},
   "source": [
    "#### Finding element at given row and column\n",
    "Like row = 5, col = 3, the element at that place is 6.  \n",
    "\n",
    "To get the element use combination of row-1 and col-1: <sup>row-1</sup>C<sub>col-1</sub>  \n",
    "<sup>row-1</sup>C<sub>col-1</sub> = (row-1)! / (col-1)! * ((row-1)-(col-1))!"
   ]
  },
  {
   "cell_type": "code",
   "execution_count": 8,
   "id": "92ca46af",
   "metadata": {},
   "outputs": [
    {
     "name": "stdout",
     "output_type": "stream",
     "text": [
      "6\n"
     ]
    }
   ],
   "source": [
    "import math\n",
    "row = 5\n",
    "col = 3\n",
    "a = math.factorial(row-1) // (math.factorial(col-1) * math.factorial((row-1)-(col-1)))\n",
    "print(a)"
   ]
  },
  {
   "cell_type": "code",
   "execution_count": null,
   "id": "5d2b19fb",
   "metadata": {},
   "outputs": [
    {
     "name": "stdout",
     "output_type": "stream",
     "text": [
      "6\n"
     ]
    }
   ],
   "source": [
    "# Short cut to find combination\n",
    "def nCr(n,r):\n",
    "    res = 1\n",
    "    for i in range(r):\n",
    "        res = res * (n-i)\n",
    "        res = res / (i+1)\n",
    "    return res\n",
    "row = 5\n",
    "col = 3\n",
    "ans = nCr(row-1,col-1)\n",
    "print(int(ans))\n",
    "# Time complexity: O(r)"
   ]
  },
  {
   "cell_type": "markdown",
   "id": "584c92ba",
   "metadata": {},
   "source": [
    "#### Print entire row\n",
    "Consider the row we have to print is 4th  \n",
    "row -> 1 3 3 1\n",
    "\n",
    "- nth row will have n elements  \n",
    "- print entire, column will go from 1 -> row.no"
   ]
  },
  {
   "cell_type": "code",
   "execution_count": null,
   "id": "3b027532",
   "metadata": {},
   "outputs": [
    {
     "name": "stdout",
     "output_type": "stream",
     "text": [
      "1 3 3 1 "
     ]
    }
   ],
   "source": [
    "r = 4\n",
    "for i in range(1,r+1):\n",
    "    print(int(nCr(r-1,i-1)),end=\" \")\n",
    "\n",
    "# Time complexity is O(nxr)"
   ]
  },
  {
   "cell_type": "markdown",
   "id": "856433a8",
   "metadata": {},
   "source": [
    "Use 0 based indexing for each column  \n",
    "Start with ans = 1, then each element of the row can be obtained by  \n",
    "ele = ans x ((row-col)/col)  \n",
    "Update ans = ele every time "
   ]
  },
  {
   "cell_type": "code",
   "execution_count": 2,
   "id": "59d57beb",
   "metadata": {},
   "outputs": [
    {
     "name": "stdout",
     "output_type": "stream",
     "text": [
      "1 3 3 1 "
     ]
    }
   ],
   "source": [
    "r = 4\n",
    "ans = 1\n",
    "print(ans,end=\" \")\n",
    "for i in range(1,r):\n",
    "    ele = int(ans * ((r-i)/i))\n",
    "    print(ele, end=\" \")\n",
    "    ans = ele"
   ]
  },
  {
   "cell_type": "markdown",
   "id": "95c14076",
   "metadata": {},
   "source": [
    "#### Print full pascal triangle\n",
    "Print all rows from 1 -> n"
   ]
  },
  {
   "cell_type": "code",
   "execution_count": 7,
   "id": "9a6a97b5",
   "metadata": {},
   "outputs": [
    {
     "name": "stdout",
     "output_type": "stream",
     "text": [
      "[1]\n",
      "[1, 1]\n",
      "[1, 2, 1]\n",
      "[1, 3, 3, 1]\n",
      "[1, 4, 6, 4, 1]\n",
      "[1, 5, 10, 10, 5, 1]\n"
     ]
    }
   ],
   "source": [
    "n = 6\n",
    "ans = []\n",
    "for i in range(1,n+1):\n",
    "    temp = []\n",
    "    t = 1\n",
    "    temp.append(t)\n",
    "    for j in range(1,i):\n",
    "        ele = int(t * ((i-j)/j))\n",
    "        temp.append(ele)\n",
    "        t = ele\n",
    "    ans.append(temp)\n",
    "for i in ans:\n",
    "    print(i)"
   ]
  },
  {
   "cell_type": "markdown",
   "id": "d04748a5",
   "metadata": {},
   "source": [
    "### Majority element (more than n/3 times)\n",
    "Consider array [1,1,1,3,3,2,2,2]  \n",
    "n = 8, math.floor(8/3) ~ 2 times  \n",
    "elements appearing more than 2 times are [1,2]  \n",
    "\n",
    "There will always at max 2 elements will be appear n/3 times  \n",
    "Because,  \n",
    "n = 8, math.floor(8/3) ~ 2 times (element should appear atleast 3 times)  \n",
    "If 3 elements appear 3 times, 3+3+3 = 9, but there are only 8 elements,  \n",
    "so at max only 2 elements will appear n/3 times, and at minimum 0 elements will appear more than n/3 times"
   ]
  },
  {
   "cell_type": "code",
   "execution_count": null,
   "id": "01372b62",
   "metadata": {},
   "outputs": [
    {
     "name": "stdout",
     "output_type": "stream",
     "text": [
      "[1, 2]\n"
     ]
    }
   ],
   "source": [
    "# Brute force: Count each element\n",
    "import math\n",
    "arr = [1,1,1,3,3,2,2,2]\n",
    "n = len(arr)\n",
    "me = []\n",
    "for i in range(n):\n",
    "    c = 0\n",
    "    for j in range(n):\n",
    "        if arr[j] == arr[i]:\n",
    "            c+=1\n",
    "    if c > math.floor(n/3) and arr[i] not in me:\n",
    "        me.append(arr[i])\n",
    "print(me)\n",
    "# Time complexity: O(n^2)\n",
    "# Space complexity: O(1)"
   ]
  },
  {
   "cell_type": "code",
   "execution_count": 14,
   "id": "a46b16f5",
   "metadata": {},
   "outputs": [
    {
     "name": "stdout",
     "output_type": "stream",
     "text": [
      "[1, 2]\n"
     ]
    }
   ],
   "source": [
    "import math\n",
    "arr = [1,1,1,3,3,2,2,2]\n",
    "ans = []\n",
    "n = len(arr)\n",
    "for i in range(n):\n",
    "    if len(ans)==0 or ans[0]!=arr[i]:\n",
    "        # If no majority element or existing majority element is already appeared\n",
    "        c = 0\n",
    "        for j in range(n):\n",
    "            if arr[j]==arr[i]:\n",
    "                c+=1\n",
    "        if c > math.floor(n/3):\n",
    "            ans.append(arr[i])\n",
    "        if len(ans) == 2:\n",
    "            # At max only 2 majority elements\n",
    "            break\n",
    "print(ans)\n",
    "# Time complexity in worst case scenario is O(n^2)\n",
    "# Space complexity: O(1)"
   ]
  },
  {
   "cell_type": "code",
   "execution_count": null,
   "id": "7cc15da9",
   "metadata": {},
   "outputs": [
    {
     "name": "stdout",
     "output_type": "stream",
     "text": [
      "[1, 2]\n"
     ]
    }
   ],
   "source": [
    "# Using hash map: Remember each element count as key-value pair\n",
    "d = {}\n",
    "me = []\n",
    "for i in range(n):\n",
    "    if arr[i] in d:\n",
    "        d[arr[i]] +=1\n",
    "    else:\n",
    "        d[arr[i]] = 1\n",
    "for i in d:\n",
    "    if d[i] > math.floor(n/3):\n",
    "        me.append(i)\n",
    "print(me)\n",
    "# Time complexity: O(n)\n",
    "# Space complexity worst case scenario: O(n)"
   ]
  },
  {
   "cell_type": "markdown",
   "id": "08215982",
   "metadata": {},
   "source": [
    "Maintain the following variables  \n",
    "c1 = 0, e1 = 0\n",
    "c2 = 0, e2 = 0\n",
    "\n",
    "If count of both is 0 we assume that the majority is that element.\n",
    "\n",
    "Start looping from 0 -> n-1, if same element appears increase the count or else decrease the count by 1."
   ]
  },
  {
   "cell_type": "code",
   "execution_count": null,
   "id": "8d562c58",
   "metadata": {},
   "outputs": [
    {
     "name": "stdout",
     "output_type": "stream",
     "text": [
      "1 2\n",
      "1 2\n"
     ]
    }
   ],
   "source": [
    "# Optiimal solution: Moore voting algorithm\n",
    "c1,c2,e1,e2 = 0,0,0,0\n",
    "for i in range(n):\n",
    "    if c1 == 0 and arr[i]!=e2:\n",
    "        c1 = 1\n",
    "        e1 = arr[i]\n",
    "    elif c2 == 0 and arr[i]!=e1:\n",
    "        c2 = 1\n",
    "        e2 = arr[i]\n",
    "    elif arr[i] == e1:\n",
    "        c1+=1\n",
    "    elif arr[i] == e2:\n",
    "        c2+=1\n",
    "    else:\n",
    "        c1-=1\n",
    "        c2-=1\n",
    "print(e1,e2)\n",
    "\n",
    "# Manual check if the suppose to be elements are actual manual elements\n",
    "mc1, mc2 = 0, 0\n",
    "for i in range(n):\n",
    "    if arr[i] == e1:\n",
    "        mc1 += 1\n",
    "    elif arr[i] == e2:\n",
    "        mc2 += 1\n",
    "if mc1 > math.floor(n/3) and mc2 > math.floor(n/3):\n",
    "    print(e1,e2)\n",
    "\n",
    "# Time complexity: O(2n)\n",
    "# Space complexity: O(1)"
   ]
  }
 ],
 "metadata": {
  "kernelspec": {
   "display_name": "venv (3.12.3)",
   "language": "python",
   "name": "python3"
  },
  "language_info": {
   "codemirror_mode": {
    "name": "ipython",
    "version": 3
   },
   "file_extension": ".py",
   "mimetype": "text/x-python",
   "name": "python",
   "nbconvert_exporter": "python",
   "pygments_lexer": "ipython3",
   "version": "3.12.3"
  }
 },
 "nbformat": 4,
 "nbformat_minor": 5
}
