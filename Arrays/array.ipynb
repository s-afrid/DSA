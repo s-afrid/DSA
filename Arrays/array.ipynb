{
 "cells": [
  {
   "attachments": {
    "Screenshot from 2025-08-12 23-18-58.png": {
     "image/png": "[encoded data removed]"
    }
   },
   "cell_type": "markdown",
   "id": "4023e707",
   "metadata": {},
   "source": [
    "## Arrays\n",
    "Array is a data structure that stores similar elements, such as integers, characters, floats ... etc.  \n",
    "![Screenshot from 2025-08-12 23-18-58.png](<attachment:Screenshot from 2025-08-12 23-18-58.png>)  "
   ]
  },
  {
   "cell_type": "markdown",
   "id": "3c78b586",
   "metadata": {},
   "source": [
    "In python arrays are defined using list like  \n",
    "a = [1,3,2,4,7,9,5,6]  \n",
    "the first index is 0 and last is n-1  "
   ]
  },
  {
   "cell_type": "code",
   "execution_count": 10,
   "id": "ba7baa84",
   "metadata": {},
   "outputs": [
    {
     "name": "stdout",
     "output_type": "stream",
     "text": [
      "1\n",
      "7\n",
      "8\n"
     ]
    }
   ],
   "source": [
    "a = [1,3,2,4,7,9,5,6]\n",
    "# access elements\n",
    "print(a[0])\n",
    "print(a[4])\n",
    "# get the length of the array\n",
    "print(len(a))"
   ]
  },
  {
   "cell_type": "markdown",
   "id": "07a14579",
   "metadata": {},
   "source": [
    "### Largest element in the array"
   ]
  },
  {
   "cell_type": "code",
   "execution_count": 11,
   "id": "027b9026",
   "metadata": {},
   "outputs": [
    {
     "name": "stdout",
     "output_type": "stream",
     "text": [
      "9\n"
     ]
    }
   ],
   "source": [
    "large = 0 # initial set largest to zero\n",
    "for i in a:\n",
    "    if i>large: # loop through the array and compare each element with large\n",
    "        large = i # update the large every time a element greater than it is found\n",
    "print(large)"
   ]
  },
  {
   "cell_type": "markdown",
   "id": "1ead855f",
   "metadata": {},
   "source": [
    "### Second largest element in array"
   ]
  },
  {
   "cell_type": "code",
   "execution_count": 12,
   "id": "4fc3781e",
   "metadata": {},
   "outputs": [
    {
     "name": "stdout",
     "output_type": "stream",
     "text": [
      "5\n",
      "5\n",
      "5\n"
     ]
    }
   ],
   "source": [
    "# Brute force\n",
    "# sort the array first\n",
    "a = [1,2,4,7,7,5]\n",
    "a.sort()\n",
    "large = a[len(a)-1] # get the largest stored at end of sorted array\n",
    "for i in range(len(a)-1,-1,-1): # start reverse for loop\n",
    "    if a[i] < large:\n",
    "        second = a[i]\n",
    "        break\n",
    "print(second)\n",
    "# time complexity : O(n x log(n) + n)\n",
    "# better solution\n",
    "a = [1,2,4,7,7,5]\n",
    "# first find largest\n",
    "large = a[0]\n",
    "for i in a:\n",
    "    if i > large:\n",
    "        large = i\n",
    "# next find second largest which is less than the largest\n",
    "second = a[0]\n",
    "for i in a:\n",
    "    if i > second and i < large:\n",
    "        second = i\n",
    "print(second)\n",
    "# optimal \n",
    "large = 0\n",
    "second = 0\n",
    "for i in a:\n",
    "    if i > large:\n",
    "        second = large # second becomess previous large value\n",
    "        large = i # large is updated\n",
    "    elif i > second and i < large:\n",
    "        second = i\n",
    "\n",
    "print(second)\n",
    "# time complexity: O(n)"
   ]
  },
  {
   "cell_type": "markdown",
   "id": "35dc9551",
   "metadata": {},
   "source": [
    "### Check if array is sorted or not\n"
   ]
  },
  {
   "cell_type": "code",
   "execution_count": 13,
   "id": "d86973b4",
   "metadata": {},
   "outputs": [
    {
     "name": "stdout",
     "output_type": "stream",
     "text": [
      "Yes\n"
     ]
    }
   ],
   "source": [
    "# Method 1: Check each element is greater than its preceeding element\n",
    "a = [1,2,3,4,5]\n",
    "issort = \"Yes\"\n",
    "for i in range(1,len(a)):\n",
    "    if i!=(len(a)-1):\n",
    "        if a[i]>=a[i-1]:\n",
    "            continue\n",
    "        else:\n",
    "            issort = \"False\"\n",
    "            break\n",
    "print(issort)"
   ]
  },
  {
   "cell_type": "markdown",
   "id": "1617be35",
   "metadata": {},
   "source": [
    "### Removing duplicate elements from the array"
   ]
  },
  {
   "cell_type": "code",
   "execution_count": 14,
   "id": "50270610",
   "metadata": {},
   "outputs": [
    {
     "name": "stdout",
     "output_type": "stream",
     "text": [
      "{1, 2, 3}\n",
      "[1, 2, 3]\n"
     ]
    }
   ],
   "source": [
    "# Brute force approach\n",
    "# create a set and put each element in the set\n",
    "arr = [1,1,2,2,2,3,3]\n",
    "s = set()\n",
    "for i in arr:\n",
    "    s.add(i)\n",
    "\n",
    "print(s)\n",
    "# Time complexity of inserting in set is log(n)\n",
    "# Total time complexity is O(n x log(n))\n",
    "# Optimal\n",
    "# Use 2 pointers\n",
    "arr = [1,1,2,2,2,3,3]\n",
    "i = 0 # move the pointer if we find a unique value other than this\n",
    "for j in range(len(arr)):\n",
    "    if arr[j]!=arr[i]: # if find a unique, put it in next position from i\n",
    "        arr[i+1] = arr[j]\n",
    "        i+=1 # move first pointer\n",
    "print(arr[:i+1])\n",
    "# Time complexity is O(n)"
   ]
  },
  {
   "cell_type": "markdown",
   "id": "52ad323f",
   "metadata": {},
   "source": [
    "### Rotate the array by one place"
   ]
  },
  {
   "cell_type": "code",
   "execution_count": null,
   "id": "49292fc9",
   "metadata": {},
   "outputs": [
    {
     "name": "stdout",
     "output_type": "stream",
     "text": [
      "[2, 3, 4, 5, 1]\n"
     ]
    }
   ],
   "source": [
    "# Rotating left means taking element from first place and pushing it to last\n",
    "arr = [1,2,3,4,5] # for one place remove i from first and put it in last\n",
    "temp = arr[0] # Store first element in temprary place\n",
    "for i in range(1,len(arr)):\n",
    "    arr[i-1] = arr[i] # push elements to previous position\n",
    "    if i == len(arr) - 1:\n",
    "        arr[i] = temp # if i reachs last, the last element will be the temp \n",
    "\n",
    "print(arr)"
   ]
  },
  {
   "cell_type": "markdown",
   "id": "f6e087fb",
   "metadata": {},
   "source": [
    "### Rotate the array by D places"
   ]
  },
  {
   "cell_type": "code",
   "execution_count": null,
   "id": "2486c89f",
   "metadata": {},
   "outputs": [
    {
     "name": "stdout",
     "output_type": "stream",
     "text": [
      "[4, 5, 6, 7, 1, 2, 3]\n"
     ]
    }
   ],
   "source": [
    "# brute force\n",
    "arr = [1,2,3,4,5,6,7]\n",
    "d = 3\n",
    "temp = arr[:d] # store first d elements as temp\n",
    "for i in range(d,len(arr)):\n",
    "    # move elements back to d places\n",
    "    arr[i-d] = arr[i]\n",
    "\n",
    "# Put elements in temp to end of arr starting with d+1\n",
    "for j in range(d+1,len(arr)):\n",
    "    arr[j] = temp[j-(d+1)] # d+1 is base index, so subtracting it everytime will us 0,1,2,....\n",
    "    \n",
    "    \n",
    "print(arr)\n",
    "\n",
    "# time complexity of puting from temp back to array and extracting to store in temp: O(d)\n",
    "# time complexity of pushing back elements: O(n-d)\n",
    "# O(d) + O(n-d) + O(d) = O(n+d)\n",
    "# space complexity is O(d) because of temp\n"
   ]
  },
  {
   "cell_type": "code",
   "execution_count": null,
   "id": "58238c62",
   "metadata": {},
   "outputs": [
    {
     "name": "stdout",
     "output_type": "stream",
     "text": [
      "[4, 5, 6, 7, 1, 2, 3]\n"
     ]
    }
   ],
   "source": [
    "# Optimal solution\n",
    "# reverse first d elements\n",
    "# reverse elements after d\n",
    "# reverse the array\n",
    "arr = [1,2,3,4,5,6,7]\n",
    "d = 3\n",
    "# reverse d elements\n",
    "i=0\n",
    "j=d-1\n",
    "while i<(len(arr[:d])/2) and j>(len(arr[:d])/2):\n",
    "    arr[i],arr[j] = arr[j],arr[i]\n",
    "    i+=1\n",
    "    j-=1 \n",
    "# reverse elements after first d elements\n",
    "i=d\n",
    "j=len(arr)-1\n",
    "while i<(len(arr[d:])/2 + len(arr[:d])) and j>(len(arr[d:])/2):\n",
    "    arr[i],arr[j] = arr[j],arr[i]\n",
    "    i+=1\n",
    "    j-=1\n",
    "# reverse the array itself\n",
    "i = 0\n",
    "j = len(arr)-1\n",
    "while i<(len(arr)/2) and j>(len(arr)/2):\n",
    "    arr[i],arr[j] = arr[j],arr[i]\n",
    "    i+=1\n",
    "    j-=1\n",
    "print(arr)\n",
    "# time complexity of reversing first d elements: O(d)\n",
    "# time complexity of reversing elements after d elements: O(n-d)\n",
    "# time complexity of reversing full array: O(n)\n",
    "# total time complexity: o(d) + O(n-d) + O(n) = O(n)\n",
    "# Space complexity: O(1)"
   ]
  },
  {
   "cell_type": "markdown",
   "id": "a5378fe1",
   "metadata": {},
   "source": [
    "### Move all zeroes to end of the array\n"
   ]
  },
  {
   "cell_type": "code",
   "execution_count": null,
   "id": "dae70295",
   "metadata": {},
   "outputs": [
    {
     "name": "stdout",
     "output_type": "stream",
     "text": [
      "[1, 2, 3, 2, 4, 5, 1, 0, 0, 0]\n"
     ]
    }
   ],
   "source": [
    "# Brute force\n",
    "arr = [1,0,2,3,2,0,0,4,5,1]\n",
    "# pick all non-zero numbers and store it somewhere\n",
    "temp = []\n",
    "for i in arr:\n",
    "    if i!=0:\n",
    "        temp.append(i)\n",
    "# pick everything from temp and put back in array\n",
    "for i in range(len(temp)):\n",
    "    arr[i] = temp[i]\n",
    "# Fill the end place starting from len(temp) with zeroes\n",
    "for i in range(len(temp),len(arr)):\n",
    "    arr[i] = 0\n",
    "print(arr)\n",
    "# time complexity of step 1: O(n)\n",
    "# time complexity of step 2: O(x)\n",
    "# time comlexity of step 3: O(n-x)\n",
    "# total time complexity: O(n)\n",
    "# space complexity: O(x), worst case scenario O(n)"
   ]
  },
  {
   "cell_type": "code",
   "execution_count": null,
   "id": "62404dd3",
   "metadata": {},
   "outputs": [
    {
     "name": "stdout",
     "output_type": "stream",
     "text": [
      "[1, 1, 0, 0, 0]\n"
     ]
    }
   ],
   "source": [
    "# Optimal\n",
    "arr = [1,0,1,0,0]\n",
    "i = 0 # this pointer holds how shifts a non-zero elements should do after consecutive zeroes are found\n",
    "c = 0 # to hold the index from where zeroes start at the end (stores also number of non-zero elements)\n",
    "for j in range(len(arr)):\n",
    "    if arr[j]==0:\n",
    "        i+=1\n",
    "        continue\n",
    "        # counting consecutive zeroes\n",
    "    arr[j-i] = arr[j] # shift elements\n",
    "    c+=1\n",
    "\n",
    "for j in range(c,len(arr)):\n",
    "    # store zero at end starting from c pointer\n",
    "    arr[j] = 0\n",
    "\n",
    "print(arr)\n",
    "# Time complexity is O(n)\n",
    "# Space complexity is O(1)"
   ]
  },
  {
   "cell_type": "code",
   "execution_count": null,
   "id": "cf80e055",
   "metadata": {},
   "outputs": [
    {
     "name": "stdout",
     "output_type": "stream",
     "text": [
      "[1, 2, 3, 2, 4, 5, 1, 0, 0, 0, 0]\n"
     ]
    }
   ],
   "source": [
    "# Optimal 2\n",
    "arr = [1,0,2,3,2,0,0,0,4,5,1]\n",
    "j = -1 # this pointer is updated if 0 is encountered\n",
    "for i in range(len(arr)):\n",
    "    if arr[i]==0:\n",
    "        j = i\n",
    "        break\n",
    "        # break at the point when is found\n",
    "if j != -1:\n",
    "    for i in range(j+1,len(arr)):\n",
    "        # start the loop from j+1\n",
    "        if arr[i]!=0:\n",
    "            # if i is non-zero, swap it with j and update j\n",
    "            arr[j],arr[i] = arr[i],arr[j]\n",
    "            j+=1\n",
    "print(arr)\n",
    "# Time complexity: O(n)\n",
    "# Space complexity: O(1)"
   ]
  },
  {
   "cell_type": "markdown",
   "id": "48c66d6e",
   "metadata": {},
   "source": [
    "### Linear Search"
   ]
  },
  {
   "cell_type": "code",
   "execution_count": 21,
   "id": "93e24516",
   "metadata": {},
   "outputs": [
    {
     "name": "stdout",
     "output_type": "stream",
     "text": [
      "3\n"
     ]
    }
   ],
   "source": [
    "# Loop through the array from start to end\n",
    "arr = [6,7,8,4,1]\n",
    "num = 4\n",
    "for i in range(len(arr)):\n",
    "    if arr[i] == num:\n",
    "        print(i)\n",
    "        break"
   ]
  },
  {
   "cell_type": "markdown",
   "id": "aa0e904f",
   "metadata": {},
   "source": [
    "### Union and Intersection of two sorted arrays"
   ]
  },
  {
   "cell_type": "code",
   "execution_count": 25,
   "id": "e43556ad",
   "metadata": {},
   "outputs": [
    {
     "name": "stdout",
     "output_type": "stream",
     "text": [
      "[1, 2, 3, 4, 5]\n",
      "[2, 3, 4, 5]\n"
     ]
    }
   ],
   "source": [
    "arr1 = [1,1,2,3,4,5]\n",
    "arr2 = [2,3,4,4,5]\n",
    "union = []\n",
    "intersection = []\n",
    "# Using set\n",
    "s = set()\n",
    "for i in arr1:\n",
    "    s.add(i)\n",
    "for i in arr2:\n",
    "    s.add(i)\n",
    "union = list(s)\n",
    "print(union)\n",
    "for i in union:\n",
    "    if (i in arr1) and (i in arr2):\n",
    "        intersection.append(i)\n",
    "print(intersection)"
   ]
  },
  {
   "cell_type": "code",
   "execution_count": null,
   "id": "91800a48",
   "metadata": {},
   "outputs": [
    {
     "name": "stdout",
     "output_type": "stream",
     "text": [
      "[1, 2, 3, 4, 5, 6]\n",
      "[2, 3, 4, 5]\n"
     ]
    }
   ],
   "source": [
    "# Using 2 pointer\n",
    "arr1 = [1,1,2,3,4,5]\n",
    "arr2 = [2,3,4,4,5,6]\n",
    "union = []\n",
    "intersection = []\n",
    "i = 0 # pointer on first array\n",
    "j = 0 # pointer on second array\n",
    "while i<len(arr1) and j<len(arr2):\n",
    "    if arr1[i]<arr2[j]:\n",
    "        if arr1[i] not in union:\n",
    "            union.append(arr1[i])\n",
    "        i+=1\n",
    "    else:\n",
    "        if arr2[j] not in union:\n",
    "            union.append(arr2[j])\n",
    "        j+=1\n",
    "for i in range(i,len(arr1)):\n",
    "    union.append(arr1[i])\n",
    "for i in range(j,len(arr2)):\n",
    "    union.append(arr2[i])\n",
    "print(union)\n",
    "for i in union:\n",
    "    if i in arr1 and i in arr2:\n",
    "        intersection.append(i)\n",
    "print(intersection)\n",
    "# time complexity: O(n1 + n2)\n",
    "# space complexity: O(n1 + n2) is for returning the answer"
   ]
  },
  {
   "cell_type": "markdown",
   "id": "f7832095",
   "metadata": {},
   "source": [
    "### Finding missing numbers in an array\n",
    "A array is given arr = [1,2,4,5] and n = 5. The length of array is n-1 and it should contain numbers from 1 to n. We have to find which number is missing from 1 to n."
   ]
  },
  {
   "cell_type": "code",
   "execution_count": 7,
   "id": "088856b7",
   "metadata": {},
   "outputs": [
    {
     "name": "stdout",
     "output_type": "stream",
     "text": [
      "3\n"
     ]
    }
   ],
   "source": [
    "# brute force: using linear search\n",
    "arr = [1,2,4,5]\n",
    "n = 5\n",
    "# use for loop and if each number is there or not, indexing starts from 0 so we use +1\n",
    "for i in range(1,n+1):\n",
    "    flag = 0\n",
    "    for j in range(len(arr)):\n",
    "        if arr[j]==i:\n",
    "            flag = 1 # if number is there flag will be 1\n",
    "            break\n",
    "    if flag == 0:\n",
    "        print(i)\n",
    "        break\n",
    "# In worst case scenario the time complexity is O(n^2)"
   ]
  },
  {
   "cell_type": "code",
   "execution_count": null,
   "id": "967f79d7",
   "metadata": {},
   "outputs": [
    {
     "name": "stdout",
     "output_type": "stream",
     "text": [
      "3\n"
     ]
    }
   ],
   "source": [
    "# Better solution: using hashing\n",
    "arr = [1,2,4,5]\n",
    "h = [0]*(len(arr)+2)\n",
    "for i in arr:\n",
    "    h[i] = 1 # map each element as index in hash array\n",
    "\n",
    "for i in range(1,len(h)):\n",
    "    if h[i] == 0:\n",
    "        print(i) # print the index where element was not mapped initially\n",
    "        break\n",
    "# Time complexity is O(n)+O(n) = O(2n)\n",
    "# space complexity: since we are using hash array = O(n+2)"
   ]
  },
  {
   "cell_type": "code",
   "execution_count": null,
   "id": "b99cf0f4",
   "metadata": {},
   "outputs": [
    {
     "name": "stdout",
     "output_type": "stream",
     "text": [
      "15\n",
      "12\n",
      "missing 3\n"
     ]
    }
   ],
   "source": [
    "# Optimal solution\n",
    "# Sum\n",
    "n = 5\n",
    "arr = [1,2,4,5]\n",
    "# find sum from 1 to n\n",
    "s1 = 0\n",
    "for i in range(1,n+1):\n",
    "    s1+=i\n",
    "print(s1)\n",
    "# find sum of all elements in array\n",
    "s2 = 0\n",
    "for i in arr:\n",
    "    s2+=i\n",
    "print(s2)\n",
    "# s1 - s2 will be the missing number\n",
    "if (s1-s2) != 0:\n",
    "    print(\"missing\",s1-s2)\n",
    "# Time complexity is O(n)\n",
    "# space comlexity is O(1)"
   ]
  },
  {
   "cell_type": "code",
   "execution_count": null,
   "id": "4a124ab5",
   "metadata": {},
   "outputs": [
    {
     "name": "stdout",
     "output_type": "stream",
     "text": [
      "3\n"
     ]
    }
   ],
   "source": [
    "n = 5\n",
    "arr = [1,2,4,5]\n",
    "# Using xor \n",
    "# logic: (1^1)^(2^2)^(3)^(4^4)^(5^5)\n",
    "# Xor with same number is 0 so at the end it will be (0^3)\n",
    "# xor with any number is the number itself: (0^3) = 3 (missing number)\n",
    "xor1 = 0\n",
    "for i in range(1,n+1):\n",
    "    xor1^=i\n",
    "xor2 = 0\n",
    "for i in arr:\n",
    "    xor2^=i\n",
    "\n",
    "print(xor1 ^ xor2)"
   ]
  },
  {
   "cell_type": "markdown",
   "id": "67fa1ec6",
   "metadata": {},
   "source": [
    "### Maximum consecutive ones\n",
    "Consider the array: [1,1,0,1,1,1,0,1,1] we have to find for how many consecutive 1s are there, and maximum out of it."
   ]
  },
  {
   "cell_type": "code",
   "execution_count": 18,
   "id": "0dff58d5",
   "metadata": {},
   "outputs": [
    {
     "name": "stdout",
     "output_type": "stream",
     "text": [
      "3\n"
     ]
    }
   ],
   "source": [
    "arr = [1,1,0,1,1,1,0,1,1]\n",
    "cons1 = 0 # sum of consecutive 1s\n",
    "max1 = 0 # sum of maximum number of consecutive 1s\n",
    "for i in arr:\n",
    "    if i!=0:\n",
    "        cons1+=1\n",
    "        if max1 < cons1:\n",
    "            max1+=1\n",
    "    else:\n",
    "        cons1 = 0\n",
    "        # set cons1 to 0 if 0 is encountered\n",
    "print(max1)\n",
    "# Time complexity is O(n)\n",
    "# Space complexity is O(1)"
   ]
  },
  {
   "cell_type": "markdown",
   "id": "22665e03",
   "metadata": {},
   "source": [
    "### Find the number that appears once, and other number twice\n",
    "Consider the given array: [1,1,2,3,3,4,4], every number appears twice except 1 number we have to find that one number."
   ]
  },
  {
   "cell_type": "code",
   "execution_count": null,
   "id": "8dd6ccff",
   "metadata": {},
   "outputs": [
    {
     "name": "stdout",
     "output_type": "stream",
     "text": [
      "Number is 2\n"
     ]
    }
   ],
   "source": [
    "# Brute force\n",
    "arr = [1,1,2,3,3,4,4]\n",
    "# the array is sorted and is in sequence (1,2,3,4,....)\n",
    "for i in range(len(arr)):\n",
    "    num = arr[i]\n",
    "    counter = 0 # keep the number of time a number is appeared\n",
    "    for j in range(len(arr)):\n",
    "        if arr[j] == num:\n",
    "            counter+=1\n",
    "        else:\n",
    "            # break if new number is found\n",
    "            continue\n",
    "    if counter !=2:\n",
    "        # is counter is not 2 return the number\n",
    "        print(\"Number is\",num)\n",
    "        break\n",
    "\n",
    "# Time complexity: O(n x n)\n",
    "# space complexity: O(1)"
   ]
  },
  {
   "cell_type": "code",
   "execution_count": null,
   "id": "f7ba072f",
   "metadata": {},
   "outputs": [
    {
     "name": "stdout",
     "output_type": "stream",
     "text": [
      "Number is 2\n"
     ]
    }
   ],
   "source": [
    "# Using hash array\n",
    "arr = [1,1,2,3,3,4,4]\n",
    "h = [0]*(max(arr)+1)\n",
    "for i in arr:\n",
    "    h[i]+=1\n",
    "for i in range(1,len(h)):\n",
    "    if h[i] < 2:\n",
    "        print(\"Number is\",i)\n",
    "        break\n",
    "# Time complexity is O(2n)\n",
    "# Space complexity is O((n+3)/2) since max is 4, n will 2*4-1(1 is single) = 7\n",
    "# hash has 5 elements it is obtained by (7+3) / 2"
   ]
  },
  {
   "cell_type": "code",
   "execution_count": null,
   "id": "6097600b",
   "metadata": {},
   "outputs": [
    {
     "name": "stdout",
     "output_type": "stream",
     "text": [
      "Number is 2\n"
     ]
    }
   ],
   "source": [
    "# Using 2 pointer\n",
    "arr = [1,1,2,3,3,4,4]\n",
    "i = 0 # update when new item is encountered\n",
    "j = 0 # loop through the array\n",
    "c = 0 # update counter at arr[i]\n",
    "while j<len(arr):\n",
    "    if arr[j]==arr[i]:\n",
    "        c+=1\n",
    "    else:\n",
    "        # if new number is found check first counter < 2\n",
    "        if c<2:\n",
    "            print(\"Number is\",arr[i])\n",
    "            break\n",
    "        # set counter to 1 since new element is appeared first time\n",
    "        c = 1\n",
    "        # update i to the new number\n",
    "        i = j\n",
    "    j+=1\n",
    "# if the end element is the answer check again for counter of end element\n",
    "if c<2 and j>=len(arr):\n",
    "    print(\"Number is\",arr[i])\n",
    "\n",
    "# Time complexity is O(n)\n",
    "# Space complexity is O(1)"
   ]
  },
  {
   "cell_type": "code",
   "execution_count": null,
   "id": "0a7aec69",
   "metadata": {},
   "outputs": [
    {
     "name": "stdout",
     "output_type": "stream",
     "text": [
      "Number is 2\n"
     ]
    }
   ],
   "source": [
    "# Using xor\n",
    "arr = [1,1,2,3,3,4,4] # is number is appears twice then they will cancel out each other\n",
    "# One number which is odd will remain\n",
    "xor = 0\n",
    "for i in arr:\n",
    "    xor^=i\n",
    "print(\"Number is\",xor)\n",
    "# Time complexity is O(n)\n",
    "# Space complexity is O(1)"
   ]
  },
  {
   "cell_type": "markdown",
   "id": "b7a1cb95",
   "metadata": {},
   "source": [
    "### Longest subarray with sum k\n",
    "***Subarray*** : Contigous part of the array.  \n",
    "Consider array: [1,2,3,1,1,1,1,4,2,3]  \n",
    "subarray can be [1],[1,1,1],[1,2,3,1].....etc  \n",
    "but [1,4,3] cannot be subarray because elements are not contiguos  \n",
    "\n",
    "We have found longest subarray whose sum is k"
   ]
  },
  {
   "cell_type": "markdown",
   "id": "b09bda76",
   "metadata": {},
   "source": [
    "To generate all sub arrays use pointers i and j, each subarray will be i - j  \n",
    "- i = 1  \n",
    "[1]  \n",
    "[1,2]  \n",
    "[1,2,3]  \n",
    "[1,2,3,1]  \n",
    ".  \n",
    ".  \n",
    ".  \n",
    "- i = 2  \n",
    "[2]  \n",
    "[2,3]  \n",
    "[2,3,1]  \n",
    ".  \n",
    ".  \n",
    ".  \n",
    "\n",
    "And so on upto i is last element"
   ]
  },
  {
   "cell_type": "code",
   "execution_count": 43,
   "id": "18376104",
   "metadata": {},
   "outputs": [
    {
     "name": "stdout",
     "output_type": "stream",
     "text": [
      "[[1], [1, 2], [1, 2, 3], [1, 2, 3, 1], [1, 2, 3, 1, 1], [1, 2, 3, 1, 1, 1], [1, 2, 3, 1, 1, 1, 1], [1, 2, 3, 1, 1, 1, 1, 4], [1, 2, 3, 1, 1, 1, 1, 4, 2], [1, 2, 3, 1, 1, 1, 1, 4, 2, 3], [2], [2, 3], [2, 3, 1], [2, 3, 1, 1], [2, 3, 1, 1, 1], [2, 3, 1, 1, 1, 1], [2, 3, 1, 1, 1, 1, 4], [2, 3, 1, 1, 1, 1, 4, 2], [2, 3, 1, 1, 1, 1, 4, 2, 3], [3], [3, 1], [3, 1, 1], [3, 1, 1, 1], [3, 1, 1, 1, 1], [3, 1, 1, 1, 1, 4], [3, 1, 1, 1, 1, 4, 2], [3, 1, 1, 1, 1, 4, 2, 3], [1], [1, 1], [1, 1, 1], [1, 1, 1, 1], [1, 1, 1, 1, 4], [1, 1, 1, 1, 4, 2], [1, 1, 1, 1, 4, 2, 3], [1], [1, 1], [1, 1, 1], [1, 1, 1, 4], [1, 1, 1, 4, 2], [1, 1, 1, 4, 2, 3], [1], [1, 1], [1, 1, 4], [1, 1, 4, 2], [1, 1, 4, 2, 3], [1], [1, 4], [1, 4, 2], [1, 4, 2, 3], [4], [4, 2], [4, 2, 3], [2], [2, 3], [3]]\n",
      "10\n",
      "55\n"
     ]
    }
   ],
   "source": [
    "# Generating all sub arrays\n",
    "arr = [1,2,3,1,1,1,1,4,2,3]\n",
    "sub = []\n",
    "for i in range(len(arr)):\n",
    "    for j in range(i,len(arr)):\n",
    "        sub.append(arr[i:j+1])\n",
    "print(sub)\n",
    "print(len(arr))\n",
    "print(len(sub))"
   ]
  },
  {
   "cell_type": "code",
   "execution_count": null,
   "id": "a2723e5d",
   "metadata": {},
   "outputs": [
    {
     "name": "stdout",
     "output_type": "stream",
     "text": [
      "3\n",
      "[1, 2, 3, 1, 1, 1, 1, 4, 2, 3]\n"
     ]
    }
   ],
   "source": [
    "# Brute force: generating all subarrays\n",
    "arr = [1,2,3,1,1,1,1,4,2,3]\n",
    "k = 3\n",
    "maxl = 0\n",
    "for i in range(len(arr)):\n",
    "    for j in range(i,len(arr)):\n",
    "        # loop for finding sum\n",
    "        s = 0\n",
    "        l = i\n",
    "        while l<=j:\n",
    "            s+=arr[l]\n",
    "            l+=1\n",
    "        if s==k:\n",
    "            # is sum is equal to k the update the length\n",
    "            if maxl < (j-i+1):\n",
    "                maxl = j-i+1\n",
    "print(maxl)\n",
    "# Time complaxity is of O(n^3) cause we are using 3-level nested loop \n",
    "# Space complexity is O(1)"
   ]
  },
  {
   "cell_type": "code",
   "execution_count": 61,
   "id": "fe9a54ed",
   "metadata": {},
   "outputs": [
    {
     "name": "stdout",
     "output_type": "stream",
     "text": [
      "{1: 0, 3: 1, 6: 2, 7: 3, 8: 4, 9: 5, 10: 6, 14: 7, 16: 8, 19: 9}\n",
      "3\n"
     ]
    }
   ],
   "source": [
    "# Using hash map (dictionary in python)\n",
    "d = {} \n",
    "s = 0 # update sum after each iteration\n",
    "maxl = 0\n",
    "for i in range(len(arr)):\n",
    "    s+=arr[i]\n",
    "    if s not in d.keys():\n",
    "        d[s] = i\n",
    "    if s==k:\n",
    "        # sum is equal to k maxl will be that index\n",
    "        maxl = max(maxl,i+1)\n",
    "    rem = s-k\n",
    "    if rem in d.keys():\n",
    "        if i-d[rem] > maxl:\n",
    "            maxl = max(maxl,i-d[rem])\n",
    "print(d)\n",
    "print(max1)\n"
   ]
  },
  {
   "cell_type": "code",
   "execution_count": null,
   "id": "4ad07876",
   "metadata": {},
   "outputs": [],
   "source": []
  }
 ],
 "metadata": {
  "kernelspec": {
   "display_name": "venv (3.12.3)",
   "language": "python",
   "name": "python3"
  },
  "language_info": {
   "codemirror_mode": {
    "name": "ipython",
    "version": 3
   },
   "file_extension": ".py",
   "mimetype": "text/x-python",
   "name": "python",
   "nbconvert_exporter": "python",
   "pygments_lexer": "ipython3",
   "version": "3.12.3"
  }
 },
 "nbformat": 4,
 "nbformat_minor": 5
}
