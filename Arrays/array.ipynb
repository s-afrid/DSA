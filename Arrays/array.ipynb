{
 "cells": [
  {
   "attachments": {
    "Screenshot from 2025-08-12 23-18-58.png": {
     "image/png": "[encoded data removed]"
    }
   },
   "cell_type": "markdown",
   "id": "4023e707",
   "metadata": {},
   "source": [
    "## Arrays\n",
    "Array is a data structure that stores similar elements, such as integers, characters, floats ... etc.  \n",
    "![Screenshot from 2025-08-12 23-18-58.png](<attachment:Screenshot from 2025-08-12 23-18-58.png>)  "
   ]
  },
  {
   "cell_type": "markdown",
   "id": "3c78b586",
   "metadata": {},
   "source": [
    "In python arrays are defined using list like  \n",
    "a = [1,3,2,4,7,9,5,6]  \n",
    "the first index is 0 and last is n-1  "
   ]
  },
  {
   "cell_type": "code",
   "execution_count": 10,
   "id": "ba7baa84",
   "metadata": {},
   "outputs": [
    {
     "name": "stdout",
     "output_type": "stream",
     "text": [
      "1\n",
      "7\n",
      "8\n"
     ]
    }
   ],
   "source": [
    "a = [1,3,2,4,7,9,5,6]\n",
    "# access elements\n",
    "print(a[0])\n",
    "print(a[4])\n",
    "# get the length of the array\n",
    "print(len(a))"
   ]
  },
  {
   "cell_type": "markdown",
   "id": "07a14579",
   "metadata": {},
   "source": [
    "### Largest element in the array"
   ]
  },
  {
   "cell_type": "code",
   "execution_count": 11,
   "id": "027b9026",
   "metadata": {},
   "outputs": [
    {
     "name": "stdout",
     "output_type": "stream",
     "text": [
      "9\n"
     ]
    }
   ],
   "source": [
    "large = 0 # initial set largest to zero\n",
    "for i in a:\n",
    "    if i>large: # loop through the array and compare each element with large\n",
    "        large = i # update the large every time a element greater than it is found\n",
    "print(large)"
   ]
  },
  {
   "cell_type": "markdown",
   "id": "1ead855f",
   "metadata": {},
   "source": [
    "### Second largest element in array"
   ]
  },
  {
   "cell_type": "code",
   "execution_count": 12,
   "id": "4fc3781e",
   "metadata": {},
   "outputs": [
    {
     "name": "stdout",
     "output_type": "stream",
     "text": [
      "5\n",
      "5\n",
      "5\n"
     ]
    }
   ],
   "source": [
    "# Brute force\n",
    "# sort the array first\n",
    "a = [1,2,4,7,7,5]\n",
    "a.sort()\n",
    "large = a[len(a)-1] # get the largest stored at end of sorted array\n",
    "for i in range(len(a)-1,-1,-1): # start reverse for loop\n",
    "    if a[i] < large:\n",
    "        second = a[i]\n",
    "        break\n",
    "print(second)\n",
    "# time complexity : O(n x log(n) + n)\n",
    "# better solution\n",
    "a = [1,2,4,7,7,5]\n",
    "# first find largest\n",
    "large = a[0]\n",
    "for i in a:\n",
    "    if i > large:\n",
    "        large = i\n",
    "# next find second largest which is less than the largest\n",
    "second = a[0]\n",
    "for i in a:\n",
    "    if i > second and i < large:\n",
    "        second = i\n",
    "print(second)\n",
    "# optimal \n",
    "large = 0\n",
    "second = 0\n",
    "for i in a:\n",
    "    if i > large:\n",
    "        second = large # second becomess previous large value\n",
    "        large = i # large is updated\n",
    "    elif i > second and i < large:\n",
    "        second = i\n",
    "\n",
    "print(second)\n",
    "# time complexity: O(n)"
   ]
  },
  {
   "cell_type": "markdown",
   "id": "35dc9551",
   "metadata": {},
   "source": [
    "### Check if array is sorted or not\n"
   ]
  },
  {
   "cell_type": "code",
   "execution_count": 13,
   "id": "d86973b4",
   "metadata": {},
   "outputs": [
    {
     "name": "stdout",
     "output_type": "stream",
     "text": [
      "Yes\n"
     ]
    }
   ],
   "source": [
    "# Method 1: Check each element is greater than its preceeding element\n",
    "a = [1,2,3,4,5]\n",
    "issort = \"Yes\"\n",
    "for i in range(1,len(a)):\n",
    "    if i!=(len(a)-1):\n",
    "        if a[i]>=a[i-1]:\n",
    "            continue\n",
    "        else:\n",
    "            issort = \"False\"\n",
    "            break\n",
    "print(issort)"
   ]
  },
  {
   "cell_type": "markdown",
   "id": "1617be35",
   "metadata": {},
   "source": [
    "### Removing duplicate elements from the array"
   ]
  },
  {
   "cell_type": "code",
   "execution_count": 14,
   "id": "50270610",
   "metadata": {},
   "outputs": [
    {
     "name": "stdout",
     "output_type": "stream",
     "text": [
      "{1, 2, 3}\n",
      "[1, 2, 3]\n"
     ]
    }
   ],
   "source": [
    "# Brute force approach\n",
    "# create a set and put each element in the set\n",
    "arr = [1,1,2,2,2,3,3]\n",
    "s = set()\n",
    "for i in arr:\n",
    "    s.add(i)\n",
    "\n",
    "print(s)\n",
    "# Time complexity of inserting in set is log(n)\n",
    "# Total time complexity is O(n x log(n))\n",
    "# Optimal\n",
    "# Use 2 pointers\n",
    "arr = [1,1,2,2,2,3,3]\n",
    "i = 0 # move the pointer if we find a unique value other than this\n",
    "for j in range(len(arr)):\n",
    "    if arr[j]!=arr[i]: # if find a unique, put it in next position from i\n",
    "        arr[i+1] = arr[j]\n",
    "        i+=1 # move first pointer\n",
    "print(arr[:i+1])\n",
    "# Time complexity is O(n)"
   ]
  }
 ],
 "metadata": {
  "kernelspec": {
   "display_name": "venv (3.12.3)",
   "language": "python",
   "name": "python3"
  },
  "language_info": {
   "codemirror_mode": {
    "name": "ipython",
    "version": 3
   },
   "file_extension": ".py",
   "mimetype": "text/x-python",
   "name": "python",
   "nbconvert_exporter": "python",
   "pygments_lexer": "ipython3",
   "version": "3.12.3"
  }
 },
 "nbformat": 4,
 "nbformat_minor": 5
}
