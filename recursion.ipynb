{
 "cells": [
  {
   "cell_type": "markdown",
   "id": "b3fd0503",
   "metadata": {},
   "source": [
    "## Recursion\n",
    "When a function calls itself untill a specified condition is meet."
   ]
  },
  {
   "cell_type": "code",
   "execution_count": null,
   "id": "1d9c5afa",
   "metadata": {},
   "outputs": [
    {
     "name": "stdout",
     "output_type": "stream",
     "text": [
      "0\n",
      "1\n",
      "2\n",
      "3\n"
     ]
    }
   ],
   "source": [
    "count = 0\n",
    "def print_one():\n",
    "    global count\n",
    "    if count == 4: # base condition\n",
    "        return\n",
    "    print(count)\n",
    "    count+=1\n",
    "    print_one() # function calling itself\n",
    "print_one()"
   ]
  },
  {
   "cell_type": "markdown",
   "id": "758317db",
   "metadata": {},
   "source": [
    "We pass argument that changed after every recursive call"
   ]
  },
  {
   "cell_type": "code",
   "execution_count": 4,
   "id": "77aa0c03",
   "metadata": {},
   "outputs": [
    {
     "name": "stdout",
     "output_type": "stream",
     "text": [
      "0\n",
      "1\n",
      "2\n",
      "3\n"
     ]
    }
   ],
   "source": [
    "count = 0\n",
    "def print_one(count):\n",
    "    if count == 4:\n",
    "        return\n",
    "    else:\n",
    "        print(count)\n",
    "        print_one(count+1) # for every recursive call the argument changes\n",
    "\n",
    "print_one(count)"
   ]
  },
  {
   "cell_type": "markdown",
   "id": "4a317389",
   "metadata": {},
   "source": [
    "The below shows how a call stack looks like  \n",
    "<table>\n",
    "<tr>\n",
    "<td>print_one(3+1)</td>\n",
    "</tr>\n",
    "<tr>\n",
    "<td>print_one(2+1)</td>\n",
    "</tr>\n",
    "<tr>\n",
    "<td>print_one(1+1)</td>\n",
    "</tr>\n",
    "<tr>\n",
    "<td>print_one(0+1)</td>\n",
    "</tr>\n",
    "<tr>\n",
    "<td>print_one(0) base call outside function</td>\n",
    "</tr>\n",
    "<tr>\n",
    "<td>Python file is running</td>\n",
    "</tr>\n",
    "</table>\n",
    "\n",
    "If we try to write the print() after recursive call, it will not be executed untill the base condition becomes false. And numbers are printed in reverse. This is kind of a ***Backtracking***.  \n",
    "If there the base condition is always true or if the base condition is not there, then there will be infinite recursion and eventually it will fall into ***stack overflow*** or ***segmentation fault*** where the call stack overflows out of the memory."
   ]
  },
  {
   "cell_type": "markdown",
   "id": "1ec914f7",
   "metadata": {},
   "source": [
    "### Basic problems using recursion"
   ]
  },
  {
   "cell_type": "code",
   "execution_count": 9,
   "id": "16fce4da",
   "metadata": {},
   "outputs": [
    {
     "name": "stdout",
     "output_type": "stream",
     "text": [
      "Syed\n",
      "Syed\n",
      "Syed\n",
      "Syed\n",
      "Syed\n"
     ]
    }
   ],
   "source": [
    "# Printing a name 5 times\n",
    "def print_name(count, name):\n",
    "    if count > 5:\n",
    "        return\n",
    "    else:\n",
    "        print(name)\n",
    "        print_name(count+1,name)\n",
    "print_name(1,\"Syed\")"
   ]
  },
  {
   "cell_type": "code",
   "execution_count": 11,
   "id": "f5a76105",
   "metadata": {},
   "outputs": [
    {
     "name": "stdout",
     "output_type": "stream",
     "text": [
      "1\n",
      "2\n",
      "3\n",
      "4\n",
      "5\n",
      "6\n",
      "7\n"
     ]
    }
   ],
   "source": [
    "# Print from 1 to N\n",
    "def print_n(count,n):\n",
    "    if count > n:\n",
    "        return\n",
    "    else:\n",
    "        print(count)\n",
    "        print_n(count+1,n)\n",
    "print_n(1,7)"
   ]
  },
  {
   "cell_type": "code",
   "execution_count": 15,
   "id": "9e23524a",
   "metadata": {},
   "outputs": [
    {
     "name": "stdout",
     "output_type": "stream",
     "text": [
      "5\n",
      "4\n",
      "3\n",
      "2\n",
      "1\n"
     ]
    }
   ],
   "source": [
    "# Print from n to 1\n",
    "def print_1(count,n):\n",
    "    if count < n:\n",
    "        return\n",
    "    else:\n",
    "        print(count)\n",
    "        print_1(count-1,n)\n",
    "print_1(5,1)"
   ]
  },
  {
   "cell_type": "code",
   "execution_count": 16,
   "id": "a986c18f",
   "metadata": {},
   "outputs": [
    {
     "name": "stdout",
     "output_type": "stream",
     "text": [
      "1\n",
      "2\n",
      "3\n",
      "4\n",
      "5\n"
     ]
    }
   ],
   "source": [
    "# Print 1 to n by backtracking\n",
    "def print_1(count,n):\n",
    "    if count < n:\n",
    "        return\n",
    "    else:\n",
    "        print_1(count-1,n)\n",
    "        print(count)\n",
    "        \n",
    "print_1(5,1)"
   ]
  },
  {
   "cell_type": "code",
   "execution_count": 17,
   "id": "a65c47a1",
   "metadata": {},
   "outputs": [
    {
     "name": "stdout",
     "output_type": "stream",
     "text": [
      "7\n",
      "6\n",
      "5\n",
      "4\n",
      "3\n",
      "2\n",
      "1\n"
     ]
    }
   ],
   "source": [
    "# Print n to 1 by backtracking\n",
    "def print_n(count,n):\n",
    "    if count > n:\n",
    "        return\n",
    "    else:\n",
    "        print_n(count+1,n)\n",
    "        print(count)\n",
    "       \n",
    "print_n(1,7)"
   ]
  },
  {
   "cell_type": "markdown",
   "id": "fd03e305",
   "metadata": {},
   "source": [
    "### Parameterized recursion\n",
    "In parameterized recursion a parameter is updated for every recursive call and passed as argument to it. This parameter keeps track of value."
   ]
  },
  {
   "cell_type": "code",
   "execution_count": 20,
   "id": "5d1c4e38",
   "metadata": {},
   "outputs": [
    {
     "name": "stdout",
     "output_type": "stream",
     "text": [
      "15\n"
     ]
    }
   ],
   "source": [
    "def sum_n(n,summ=0):\n",
    "    if n<1:\n",
    "        print(summ) # parameter that keeps updating\n",
    "        return\n",
    "    else:\n",
    "        sum_n(n-1,summ+n) # summ keeps track of each number added\n",
    "sum_n(5)\n"
   ]
  },
  {
   "cell_type": "markdown",
   "id": "f9baded1",
   "metadata": {},
   "source": [
    "### Functional recursion\n",
    "In functional recursion each recursive call returns a value. It relies on the return value of the recursive call to compute the final result.  \n",
    "add(5) -> 5 + add(4) -> 5 + 4 + add(3) -> 5 + 4 + 3 + add(2) -> 5 + 4 + 3 + 2 + add(1) -> 5 + 4 + 3 + 2 + 1 + add(0) -> 5 + 4 + 3 + 2 + 1 + 0 -> result = 15"
   ]
  },
  {
   "cell_type": "code",
   "execution_count": 21,
   "id": "ec236975",
   "metadata": {},
   "outputs": [
    {
     "name": "stdout",
     "output_type": "stream",
     "text": [
      "15\n"
     ]
    }
   ],
   "source": [
    "def add(n):\n",
    "    if n < 1:\n",
    "        return 0\n",
    "    else:\n",
    "        return n + add(n-1) # each return of each call is added\n",
    "print(add(5))"
   ]
  }
 ],
 "metadata": {
  "kernelspec": {
   "display_name": "venv (3.12.3)",
   "language": "python",
   "name": "python3"
  },
  "language_info": {
   "codemirror_mode": {
    "name": "ipython",
    "version": 3
   },
   "file_extension": ".py",
   "mimetype": "text/x-python",
   "name": "python",
   "nbconvert_exporter": "python",
   "pygments_lexer": "ipython3",
   "version": "3.12.3"
  }
 },
 "nbformat": 4,
 "nbformat_minor": 5
}
