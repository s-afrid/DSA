{
 "cells": [
  {
   "cell_type": "markdown",
   "id": "06e6af53",
   "metadata": {},
   "source": [
    "## Arrays\n",
<<<<<<< HEAD
    "Array is a data structure that stores a collection of elements.\n",
    "\n",
    "### Static Array\n",
    "Static array with fixed size declaration cannot hold a new element as size will increase by 1.\n",
    "Memory allocation for static array is of fixed size.\n",
    "### Dynamic Array\n",
    "Dynamic array won't have any fixed size so there will be no error if we add a new or extra element.Dynamic array will have dynamic memory allocation."
||||||| 63b72e6
    "Array is a data structure that stores a collection of elements"
=======
    "Array is a data structure that stores a collection of elements\n",
    "### Static Array\n",
    "Static array with fixed size declaration cannot hold a new element as size will increase by 1.\n",
    "Memory allocation for static array is of fixed size.\n",
    "### Dynamic Array\n",
    "Dynamic array won't have any fixed size so there will be no error if we add a new (or) extra element.\n",
    "Dynamic array will have dynamic memory allocation."
>>>>>>> origin
   ]
  },
  {
   "cell_type": "code",
<<<<<<< HEAD
   "execution_count": 4,
||||||| 63b72e6
   "execution_count": 1,
=======
   "execution_count": 2,
>>>>>>> origin
   "id": "afda05e0",
   "metadata": {},
<<<<<<< HEAD
   "outputs": [
    {
     "name": "stdout",
     "output_type": "stream",
     "text": [
      "1 Dimensional Array\n",
      "[1, 2, 3, 4, 5]\n",
      "2 Dimensional Array\n",
      "[1, 2, 3]\n",
      "[4, 5, 6]\n",
      "[7, 8, 9]\n"
     ]
    }
   ],
||||||| 63b72e6
   "outputs": [],
=======
   "outputs": [
    {
     "name": "stdout",
     "output_type": "stream",
     "text": [
      "1 Dimensional array\n",
      "[1, 2, 3, 4, 5]\n",
      "2 Dimensional array\n",
      "[1, 2, 3]\n",
      "[4, 5, 6]\n",
      "[7, 8, 9]\n"
     ]
    }
   ],
>>>>>>> origin
   "source": [
    "# 1 Dimensional Array\n",
    "A = [1,2,3,4,5]\n",
<<<<<<< HEAD
    "print(f\"1 Dimensional Array\")\n",
    "print(A)\n",
    "B = [\"AAPL\",\"IBM\",\"TATA\"]\n",
    "# 2 Dimensional Array\n",
    "C = [[1,2,3],[4,5,6],[7,8,9]]\n",
    "print(f\"2 Dimensional Array\")\n",
    "for i in C:\n",
    "    print(i)"
||||||| 63b72e6
    "B = [\"AAPL\",\"IBM\",\"TATA\"]"
=======
    "B = [\"AAPL\",\"IBM\",\"TATA\"]\n",
    "print(f\"1 Dimensional array\")\n",
    "print(A)\n",
    "# 2 Dimensional Array\n",
    "C = [[1,2,3],[4,5,6],[7,8,9]]\n",
    "print(f\"2 Dimensional array\")\n",
    "for i in C:\n",
    "    print(i)"
>>>>>>> origin
   ]
  }
 ],
 "metadata": {
  "kernelspec": {
   "display_name": "Python 3",
   "language": "python",
   "name": "python3"
  },
  "language_info": {
   "codemirror_mode": {
    "name": "ipython",
    "version": 3
   },
   "file_extension": ".py",
   "mimetype": "text/x-python",
   "name": "python",
   "nbconvert_exporter": "python",
   "pygments_lexer": "ipython3",
   "version": "3.12.1"
  }
 },
 "nbformat": 4,
 "nbformat_minor": 5
}
