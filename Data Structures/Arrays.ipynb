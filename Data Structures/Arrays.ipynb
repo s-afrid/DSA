{
 "cells": [
  {
   "cell_type": "markdown",
   "id": "06e6af53",
   "metadata": {},
   "source": [
    "## Arrays\n",
    "Array is a data structure that stores a collection of elements\n",
    "### Static Array\n",
    "Static array with fixed size declaration cannot hold a new element as size will increase by 1.\n",
    "Memory allocation for static array is of fixed size.\n",
    "### Dynamic Array\n",
    "Dynamic array won't have any fixed size so there will be no error if we add a new (or) extra element.\n",
    "Dynamic array will have dynamic memory allocation."
   ]
  },
  {
   "cell_type": "code",
   "execution_count": 2,
   "id": "afda05e0",
   "metadata": {},
   "outputs": [
    {
     "name": "stdout",
     "output_type": "stream",
     "text": [
      "1 Dimensional array\n",
      "[1, 2, 3, 4, 5]\n",
      "2 Dimensional array\n",
      "[1, 2, 3]\n",
      "[4, 5, 6]\n",
      "[7, 8, 9]\n"
     ]
    }
   ],
   "source": [
    "# 1 Dimensional Array\n",
    "A = [1,2,3,4,5]\n",
    "B = [\"AAPL\",\"IBM\",\"TATA\"]\n",
    "print(f\"1 Dimensional array\")\n",
    "print(A)\n",
    "# 2 Dimensional Array\n",
    "C = [[1,2,3],[4,5,6],[7,8,9]]\n",
    "print(f\"2 Dimensional array\")\n",
    "for i in C:\n",
    "    print(i)"
   ]
  },
  {
   "cell_type": "markdown",
   "id": "52e62969",
   "metadata": {},
   "source": [
    "### Array Time Complexities\n",
    "#### Best case scenario\n",
    "- Accessing element by index: O(1)\n",
    "- Search element: O(1)\n",
    "- Insert element: O(1)\n",
    "- Delete element: O(1)\n",
    "#### Worst case scenario\n",
    "- Accessing element by index: O(1)\n",
    "- Search element: O(n)\n",
    "- Insert element: O(n)\n",
    "- Delete element: O(n)\n",
    "#### Average case scenario\n",
    "- Accessing element by index: O(1)\n",
    "- Search element: O(n)\n",
    "- Insert element: O(n)\n",
    "- Delete element: O(n)"
   ]
  },
  {
   "cell_type": "code",
   "execution_count": 8,
   "id": "149e9f1e",
   "metadata": {},
   "outputs": [
    {
     "name": "stdout",
     "output_type": "stream",
     "text": [
      "Element at index 2: 3\n",
      "Element 3 is at index: 2\n",
      "Array after 7 inserted at index 2: [1, 2, 7, 3, 4, 5]\n",
      "Array after deleting the element 4: [1, 2, 7, 3, 5]\n"
     ]
    }
   ],
   "source": [
    "arr = [1,2,3,4,5]\n",
    "# Accessing elements by index\n",
    "print(f\"Element at index 2: {arr[2]}\")\n",
    "# Search element\n",
    "for i in arr:\n",
    "    if i == 3:\n",
    "        print(f\"Element 3 is at index: {arr.index(i)}\")\n",
    "        break\n",
    "# Insert element\n",
    "ne = 7\n",
    "arr.insert(2,ne)\n",
    "print(f\"Array after 7 inserted at index 2: {arr}\")\n",
    "# Delete element\n",
    "arr.remove(4)\n",
    "print(f\"Array after deleting the element 4: {arr}\")"
   ]
  }
 ],
 "metadata": {
  "kernelspec": {
   "display_name": "Python 3",
   "language": "python",
   "name": "python3"
  },
  "language_info": {
   "codemirror_mode": {
    "name": "ipython",
    "version": 3
   },
   "file_extension": ".py",
   "mimetype": "text/x-python",
   "name": "python",
   "nbconvert_exporter": "python",
   "pygments_lexer": "ipython3",
   "version": "3.12.1"
  }
 },
 "nbformat": 4,
 "nbformat_minor": 5
}
