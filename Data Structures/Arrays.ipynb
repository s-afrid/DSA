{
 "cells": [
  {
   "cell_type": "markdown",
   "id": "06e6af53",
   "metadata": {},
   "source": [
    "## Arrays\n",
    "Array is a data structure that stores a collection of elements"
   ]
  },
  {
   "cell_type": "code",
   "execution_count": 1,
   "id": "afda05e0",
   "metadata": {},
   "outputs": [],
   "source": [
    "A = [1,2,3,4,5]\n",
    "B = [\"AAPL\",\"IBM\",\"TATA\"]"
   ]
  }
 ],
 "metadata": {
  "kernelspec": {
   "display_name": "venv",
   "language": "python",
   "name": "python3"
  },
  "language_info": {
   "codemirror_mode": {
    "name": "ipython",
    "version": 3
   },
   "file_extension": ".py",
   "mimetype": "text/x-python",
   "name": "python",
   "nbconvert_exporter": "python",
   "pygments_lexer": "ipython3",
   "version": "3.12.3"
  }
 },
 "nbformat": 4,
 "nbformat_minor": 5
}
