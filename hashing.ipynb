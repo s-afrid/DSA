{
 "cells": [
  {
   "cell_type": "markdown",
   "id": "f4356199",
   "metadata": {},
   "source": [
    "## Hashing\n",
    "Consider the following array: [1,2,1,3,4]  \n",
    "To count the number of time an element appears in an array we loop through the array.  "
   ]
  },
  {
   "cell_type": "code",
   "execution_count": 1,
   "id": "f3629728",
   "metadata": {},
   "outputs": [
    {
     "name": "stdout",
     "output_type": "stream",
     "text": [
      "2\n"
     ]
    }
   ],
   "source": [
    "def counter(arr,number):\n",
    "    c = 0\n",
    "    for i in range(len(arr)):\n",
    "        if arr[i] == number:\n",
    "            c+=1\n",
    "    return c\n",
    "\n",
    "print(counter([1,2,1,3,4],1))"
   ]
  },
  {
   "cell_type": "markdown",
   "id": "2703bf9c",
   "metadata": {},
   "source": [
    "The above code has a time complexity is of O(n) and to count the number of times K elements appear in array is O(k x n). For larger array the time complexity will be large. To solve this problem we have ***hashing***.  \n",
    "Hasing refers to pre-store something and fetch it later.  \n",
    "***Prestoring***: consider we have number stored in a array with values between 1 and 12, now we will create another array called **hash array** that is empty and has a length of 12+1 = 13.  \n",
    "<table>\n",
    "<tr>\n",
    "<td>0</td>\n",
    "<td>0</td>\n",
    "<td>0</td>\n",
    "<td>0</td>\n",
    "<td>0</td>\n",
    "<td>0</td>\n",
    "<td>0</td>\n",
    "<td>0</td>\n",
    "<td>0</td>\n",
    "<td>0</td>\n",
    "<td>0</td>\n",
    "<td>0</td>\n",
    "<td>0</td>\n",
    "</tr>\n",
    "<tr>\n",
    "<td>0</td>\n",
    "<td>1</td>\n",
    "<td>2</td>\n",
    "<td>3</td>\n",
    "<td>4</td>\n",
    "<td>5</td>\n",
    "<td>6</td>\n",
    "<td>7</td>\n",
    "<td>8</td>\n",
    "<td>9</td>\n",
    "<td>10</td>\n",
    "<td>11</td>\n",
    "<td>12</td>\n",
    "</tr>\n",
    "</table>\n",
    "\n",
    "We parse through each element of array and add 1 at the index of hash array whose index is same as the value.\n",
    "<table>\n",
    "<tr>\n",
    "<td>0</td>\n",
    "<td>2</td>\n",
    "<td>1</td>\n",
    "<td>1</td>\n",
    "<td>1</td>\n",
    "<td>0</td>\n",
    "<td>0</td>\n",
    "<td>0</td>\n",
    "<td>0</td>\n",
    "<td>0</td>\n",
    "<td>0</td>\n",
    "<td>0</td>\n",
    "<td>0</td>\n",
    "</tr>\n",
    "<tr>\n",
    "<td>0</td>\n",
    "<td>1</td>\n",
    "<td>2</td>\n",
    "<td>3</td>\n",
    "<td>4</td>\n",
    "<td>5</td>\n",
    "<td>6</td>\n",
    "<td>7</td>\n",
    "<td>8</td>\n",
    "<td>9</td>\n",
    "<td>10</td>\n",
    "<td>11</td>\n",
    "<td>12</td>\n",
    "</tr>\n",
    "</table>\n",
    "\n",
    "***Fetching***: If we want how many times an element has appeared in array, we look at the index of hash array which is same as the element, the value at the position is our answer.  \n",
    "Ex: 1 has appeared 2 times."
   ]
  },
  {
   "cell_type": "code",
   "execution_count": 2,
   "id": "0eceb64f",
   "metadata": {},
   "outputs": [
    {
     "name": "stdout",
     "output_type": "stream",
     "text": [
      "2\n"
     ]
    }
   ],
   "source": [
    "max_number = 12\n",
    "hasharr = [0]*(max_number+1)\n",
    "arr = [1,2,1,3,4]\n",
    "# pre-fetching\n",
    "for i in arr:\n",
    "    hasharr[i] +=1\n",
    "# Fetching\n",
    "number = 1\n",
    "count_number = hasharr[number]\n",
    "print(count_number)"
   ]
  },
  {
   "cell_type": "markdown",
   "id": "c04533a9",
   "metadata": {},
   "source": [
    "The above code has time complexity just of O(n) and complexity of fetching is O(1). If we have to find count of k elements, the time complexity is of O(n+k), if length of k is less than or equal to n, then total time complexity is of O(n)."
   ]
  },
  {
   "cell_type": "markdown",
   "id": "c9578578",
   "metadata": {},
   "source": [
    "### Character hashing\n",
    "Consider the following string: \"abcdabejc\" and we have to count the number of times each character has appeared. Now using standard approach for k elements, we found that time complexity if of O(k x n).  \n",
    "We have that integers are commonly used as the indexing. We now somehow make characters as indexes. Assume that we have characters in a string and all are lower case alphabets. There are 26 lower case alphabets. So, now size of our hash array will be 26, indexed from 0 - 25. For characters to be index we have to map \"a\" - \"z\" to \"0\" - \"25\".  \n",
    "Ex: a mapped to 0, b mapped to 1,........z mapped to 25.  \n",
    "\n",
    "For mapping we are going to use the ASCII values of the characters. The ASCII of 'a' is 97.  \n",
    "To get the index for the character in hash array  \n",
    "index = ord(character) - ord('a')  \n",
    "Ex:  \n",
    "index for 'b' : ord('b') - ord('a')  \n",
    "index for 'f' : ord('f') - ord('a')  \n",
    "..."
   ]
  },
  {
   "cell_type": "code",
   "execution_count": 3,
   "id": "fe2e6538",
   "metadata": {},
   "outputs": [
    {
     "name": "stdout",
     "output_type": "stream",
     "text": [
      "2\n"
     ]
    }
   ],
   "source": [
    "hasharr = [0]*26\n",
    "s = \"abcdabejc\"\n",
    "# pre storing\n",
    "for i in s:\n",
    "    hasharr[ord(i)-ord('a')] +=1\n",
    "a = 'a'\n",
    "# Fetching\n",
    "print(hasharr[ord(a)-ord('a')])"
   ]
  },
  {
   "cell_type": "markdown",
   "id": "1f09b97d",
   "metadata": {},
   "source": [
    "Including uppercase and lowercase along with special characters there are total 256 characters in ASCII format. So the hash array can be of size 256."
   ]
  },
  {
   "cell_type": "code",
   "execution_count": 4,
   "id": "11ea6998",
   "metadata": {},
   "outputs": [
    {
     "name": "stdout",
     "output_type": "stream",
     "text": [
      "2\n"
     ]
    }
   ],
   "source": [
    "hasharr = [0]*256\n",
    "s = \"Asjjoak%##\"\n",
    "# Pre storing\n",
    "for i in s:\n",
    "    hasharr[ord(i)] += 1\n",
    "# Fetching\n",
    "print(hasharr[ord('j')])"
   ]
  },
  {
   "cell_type": "markdown",
   "id": "c7e1fc33",
   "metadata": {},
   "source": [
    "In python, dictionaries are built-in hash arrays"
   ]
  },
  {
   "cell_type": "code",
   "execution_count": 5,
   "id": "ca877fe9",
   "metadata": {},
   "outputs": [
    {
     "name": "stdout",
     "output_type": "stream",
     "text": [
      "{1: 2, 2: 1, 3: 1, 4: 1}\n"
     ]
    }
   ],
   "source": [
    "hash_dict = {}\n",
    "arr = [1,2,1,3,4]\n",
    "for i in arr:\n",
    "    if i not in hash_dict.keys():\n",
    "        hash_dict[i] = 1\n",
    "    else:\n",
    "        hash_dict[i] += 1\n",
    "print(hash_dict)"
   ]
  },
  {
   "cell_type": "code",
   "execution_count": 6,
   "id": "f0fc0609",
   "metadata": {},
   "outputs": [
    {
     "name": "stdout",
     "output_type": "stream",
     "text": [
      "{'a': 1, 'b': 1, 'c': 2, 'd': 2, 'e': 1, 'j': 1, 'k': 1}\n"
     ]
    }
   ],
   "source": [
    "hash_dict = {}\n",
    "s = \"abcdedjkc\"\n",
    "for i in s:\n",
    "    if i not in hash_dict.keys():\n",
    "        hash_dict[i] = 1\n",
    "    else:\n",
    "        hash_dict[i] += 1\n",
    "print(hash_dict)"
   ]
  },
  {
   "cell_type": "markdown",
   "id": "2119f939",
   "metadata": {},
   "source": [
    "### Division method in hashing\n",
    "Consider we have array: [2,5,16,28,139] for this you end up creating a hash array of size 140, because the highest value in the array is 139. But lets say you are not allowed to create an hash array of size more than 10. This is where division method is used.  \n",
    "The division method says that the index mapped for element in hash array will be equal to element % 10, if the maximum size allowed is only 10.  \n",
    "Ex:  \n",
    "index for 2 -> 2%10 = 2  \n",
    "index for 5 -> 5%10 = 5  \n",
    "index for 16 -> 16%10 = 6"
   ]
  },
  {
   "cell_type": "code",
   "execution_count": 7,
   "id": "4936b516",
   "metadata": {},
   "outputs": [
    {
     "name": "stdout",
     "output_type": "stream",
     "text": [
      "[0, 0, 1, 0, 0, 1, 1, 0, 1, 1]\n"
     ]
    }
   ],
   "source": [
    "arr = [2,5,16,28,139]\n",
    "hasharr = [0]*10\n",
    "for i in arr:\n",
    "    hasharr[i%10] += 1\n",
    "print(hasharr)"
   ]
  },
  {
   "cell_type": "markdown",
   "id": "e3cbf853",
   "metadata": {},
   "source": [
    "### Collision\n",
    "Now lets consider the following array given: [2,5,16,28,139,38,48,28,18]  \n",
    "We found that i % 10 for elements 28,38,48, and 18 is same. This is where the collision happens.  \n",
    "To solve this we do linear chaining, where a ***Linked-List*** is stored at the index 8, and each element is stored in that linked-list."
   ]
  }
 ],
 "metadata": {
  "kernelspec": {
   "display_name": "Python 3",
   "language": "python",
   "name": "python3"
  },
  "language_info": {
   "codemirror_mode": {
    "name": "ipython",
    "version": 3
   },
   "file_extension": ".py",
   "mimetype": "text/x-python",
   "name": "python",
   "nbconvert_exporter": "python",
   "pygments_lexer": "ipython3",
   "version": "3.13.5"
  }
 },
 "nbformat": 4,
 "nbformat_minor": 5
}
