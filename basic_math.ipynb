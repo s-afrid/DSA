{
 "cells": [
  {
   "cell_type": "markdown",
   "id": "be131ceb",
   "metadata": {},
   "source": [
    "# Basic Math\n",
    "## Digits\n",
    "Consider a number is given N = 7789. We have to extract each digit from this number.  \n",
    "To extract the last digit of a given number, divide the number by 10 and get its reminder. That reminder will be the last digit.  \n",
    "7789 % 10 -> 9 and next divide it by 10, 7789 // 10 = 778.  \n",
    "778 % 10 -> 8, 778 // 10 = 77.  \n",
    "77 % 10 -> 7, 77 // 10 = 7.\n",
    "7 % 10 -> 7 and 7 // 10 = 0. stop  \n",
    "Like this we got all the digits."
   ]
  },
  {
   "cell_type": "code",
   "execution_count": 1,
   "id": "a0eb9221",
   "metadata": {},
   "outputs": [
    {
     "name": "stdout",
     "output_type": "stream",
     "text": [
      "9\n",
      "8\n",
      "7\n",
      "7\n"
     ]
    }
   ],
   "source": [
    "n = 7789\n",
    "while n > 0:\n",
    "    print(n % 10)\n",
    "    n = n // 10"
   ]
  },
  {
   "cell_type": "markdown",
   "id": "f41ab78e",
   "metadata": {},
   "source": [
    "### Count the digits\n",
    "Use the same extraction algorithm above and increament the counter variable for every iteration.  \n",
    "Since the number is getting divided by 10 for every iteration, the time complexity is log<sub>10</sub>(n)."
   ]
  },
  {
   "cell_type": "code",
   "execution_count": 2,
   "id": "48e4dc48",
   "metadata": {},
   "outputs": [
    {
     "name": "stdout",
     "output_type": "stream",
     "text": [
      "4\n"
     ]
    }
   ],
   "source": [
    "count = 0\n",
    "n = 7789\n",
    "while n > 0:    \n",
    "    count += 1\n",
    "    n = n // 10\n",
    "print(count)"
   ]
  },
  {
   "cell_type": "markdown",
   "id": "cbefed54",
   "metadata": {},
   "source": [
    "### Reverse a integer\n",
    "Use the same algorithm of extracting the digits.\n",
    "The formula for reversing the interger is reverse = (reverse x 10) + last_digit.   \n",
    "7789 % 10 = 9 -> 0x10 + 9 = 9  \n",
    "778 % 10 = 8 -> 9x10 + 8 = 98  \n",
    "77 % 10 = 7 -> 98x10 + 7 = 987  \n",
    "7 % 10 = 7 -> 987x10 + 7 = 9877  \n"
   ]
  },
  {
   "cell_type": "code",
   "execution_count": 3,
   "id": "33700487",
   "metadata": {},
   "outputs": [
    {
     "name": "stdout",
     "output_type": "stream",
     "text": [
      "9877\n"
     ]
    }
   ],
   "source": [
    "reverse = 0\n",
    "n = 7789\n",
    "while n > 0:\n",
    "    last_digit = n % 10\n",
    "    reverse = (reverse * 10) + last_digit\n",
    "    n = n // 10\n",
    "print(reverse)"
   ]
  },
  {
   "cell_type": "markdown",
   "id": "6b6ba1ac",
   "metadata": {},
   "source": [
    "### Palindrome\n",
    "Use the algorithm of reversing the number, and check the if the reversed number is equal to the original number."
   ]
  },
  {
   "cell_type": "code",
   "execution_count": 9,
   "id": "3f79948a",
   "metadata": {},
   "outputs": [
    {
     "name": "stdout",
     "output_type": "stream",
     "text": [
      "True\n"
     ]
    }
   ],
   "source": [
    "reverse = 0\n",
    "n1 = 1331\n",
    "n = 1331\n",
    "while n > 0:\n",
    "    last_digit = n % 10\n",
    "    reverse = (reverse * 10) + last_digit\n",
    "    n = n // 10\n",
    "if reverse == n1:\n",
    "    print(True)\n",
    "else:\n",
    "    print(False)"
   ]
  },
  {
   "cell_type": "markdown",
   "id": "bc43e848",
   "metadata": {},
   "source": [
    "### Armstrong number\n",
    "Consider a number 371, cube each digit and add it.  \n",
    "3<sup>3</sup> + 7<sup>3</sup> + 1<sup>3</sup> -> 371, we get back the same number."
   ]
  },
  {
   "cell_type": "code",
   "execution_count": 2,
   "id": "42fe31cc",
   "metadata": {},
   "outputs": [
    {
     "name": "stdout",
     "output_type": "stream",
     "text": [
      "371\n",
      "True\n"
     ]
    }
   ],
   "source": [
    "n = 371\n",
    "n1 = n\n",
    "arms = 0\n",
    "while n > 0:\n",
    "    digit = n % 10\n",
    "    arms = arms + (digit ** 3)\n",
    "    n = n // 10\n",
    "print(arms)\n",
    "if arms == n1:\n",
    "    print(True)\n",
    "else:\n",
    "    print(False)"
   ]
  },
  {
   "cell_type": "markdown",
   "id": "27b1329c",
   "metadata": {},
   "source": [
    "### All divisors\n",
    "We will get all the numbers that divides for example n = 36.  \n",
    "All the divisors lie between [1, n].  \n",
    "Check each number if its divides n then its the divisor of n.  \n",
    "36 -> 1,2,3,4,6,9,12,18,36  \n",
    "The time complexity is O(n)"
   ]
  },
  {
   "cell_type": "code",
   "execution_count": 4,
   "id": "ef662987",
   "metadata": {},
   "outputs": [
    {
     "name": "stdout",
     "output_type": "stream",
     "text": [
      "[1, 2, 3, 4, 6, 9, 12, 18, 36]\n"
     ]
    }
   ],
   "source": [
    "divisors = []\n",
    "n = 36\n",
    "for i in range(1,n+1):\n",
    "    if n%i == 0:\n",
    "        divisors.append(i)\n",
    "print(divisors)"
   ]
  },
  {
   "cell_type": "markdown",
   "id": "3d10f3cf",
   "metadata": {},
   "source": [
    "Consider 36,  \n",
    " | 1 x 36 = 36  ^  \n",
    " | 2 x 18 = 36 |  \n",
    " | 3 x 12 = 36 |  \n",
    " | 4 x 9 = 36 |  \n",
    " V 6 x 6 = 36 -> 6<sup>2</sup> = 36, we have to loop till this point(sqrt)  \n",
    "9 x 4 = 36  \n",
    "12 x 3 = 36  \n",
    "18 x 2 = 36  \n",
    "36 x 1 = 36  \n",
    "Loop till sqrt(n) if its divides n then its the divisor and n/i is equal to i then n/i is also a divisor.  \n",
    "The time complexity is O(sqrt(n))."
   ]
  },
  {
   "cell_type": "code",
   "execution_count": 7,
   "id": "3668eaa2",
   "metadata": {},
   "outputs": [
    {
     "name": "stdout",
     "output_type": "stream",
     "text": [
      "[1, 2, 3, 4, 6, 9, 12, 18, 36]\n"
     ]
    }
   ],
   "source": [
    "import math\n",
    "divisors = []\n",
    "n = 36\n",
    "for i in range(1,int(math.sqrt(n))+1):\n",
    "    if n%i == 0:\n",
    "        divisors.append(i)\n",
    "        if n/i != i:\n",
    "            divisors.append(int(n/i))\n",
    "divisors.sort()\n",
    "print(divisors)"
   ]
  },
  {
   "cell_type": "markdown",
   "id": "b04c6835",
   "metadata": {},
   "source": [
    "### Prime Number\n",
    "A number which has only 2 divisors, that are 1 and the number itself.  \n",
    "Ex: 11 ,13 ,7 ...etc"
   ]
  },
  {
   "cell_type": "code",
   "execution_count": 8,
   "id": "456db5ee",
   "metadata": {},
   "outputs": [
    {
     "name": "stdout",
     "output_type": "stream",
     "text": [
      "Is prime\n"
     ]
    }
   ],
   "source": [
    "factors = []\n",
    "n = 11\n",
    "for i in range(1,n+1):\n",
    "    if n%i == 0:\n",
    "        factors.append(i)\n",
    "if len(factors) == 2:\n",
    "    print(\"Is prime\")\n",
    "else:\n",
    "    print(\"Is not a prime\")"
   ]
  },
  {
   "cell_type": "markdown",
   "id": "8a535cf5",
   "metadata": {},
   "source": [
    "### GCD or HCF\n",
    "Greatest common divisor or highest common factor is the highest number that divides 2 numbers.  \n",
    "Ex: 9 and 12  \n",
    "9 -> [1,3,9] ,12 -> [1,2,6,12,3,4]  \n",
    "Common factors = 1,3  \n",
    "Highest = 3  \n",
    "so,GCD = 3   \n",
    "We take the minimum between two number and loop through [1,min(n1,n2)] and time complexity is O(min(n1,n2))"
   ]
  },
  {
   "cell_type": "code",
   "execution_count": null,
   "id": "f0b3d3dc",
   "metadata": {},
   "outputs": [
    {
     "name": "stdout",
     "output_type": "stream",
     "text": [
      "3\n"
     ]
    }
   ],
   "source": [
    "gcd = 1\n",
    "for i in range(1,min(9,12)+1):\n",
    "    if (9%i==0) and (12%i==0):\n",
    "        gcd = i\n",
    "print(gcd)\n"
   ]
  },
  {
   "cell_type": "markdown",
   "id": "97f18ce8",
   "metadata": {},
   "source": [
    "We can loop in backwards to get gcd faster."
   ]
  },
  {
   "cell_type": "code",
   "execution_count": 11,
   "id": "e3bff96e",
   "metadata": {},
   "outputs": [
    {
     "name": "stdout",
     "output_type": "stream",
     "text": [
      "3\n"
     ]
    }
   ],
   "source": [
    "gcd = 1\n",
    "for i in range(min(9,12),2,-1):\n",
    "    if(9%i==0 and 12%i==0):\n",
    "        gcd = i\n",
    "        break\n",
    "print(gcd)"
   ]
  },
  {
   "cell_type": "markdown",
   "id": "ff062ff0",
   "metadata": {},
   "source": [
    "### Euclids Algorithm\n",
    "Euclidean algorithm to found GCD says that,  \n",
    "gcd(n1,n2) = gcd(n1-n2,n2)  \n",
    "where, n1 > n2  \n",
    "Ex:  \n",
    "gcd(20,15) = gcd(5,15)  \n",
    "gcd(15,5) = gcd(10,5)  \n",
    "gcd(5,10) = gcd(5,5)  \n",
    "gcd(5,5) = gcd(0,5)  \n",
    "and  \n",
    "gcd(0,5) = 5  \n",
    "A better version would be,  \n",
    "gcd(a,b) = gcd(a % b, b), where b < a  \n",
    "The time complexity will be -> O(log<sub>Φ</sub>(min(n1,n2)))\n"
   ]
  },
  {
   "cell_type": "code",
   "execution_count": 5,
   "id": "26033e02",
   "metadata": {},
   "outputs": [
    {
     "name": "stdout",
     "output_type": "stream",
     "text": [
      "2\n"
     ]
    }
   ],
   "source": [
    "# Using first method\n",
    "a = 52\n",
    "b = 10\n",
    "while(a>0 and b>0):\n",
    "    if a>b:\n",
    "        a = a-b\n",
    "    else:\n",
    "        b = b-a\n",
    "if a == 0:\n",
    "    print(b) \n",
    "else:\n",
    "    print(a)"
   ]
  },
  {
   "cell_type": "code",
   "execution_count": 6,
   "id": "1662628d",
   "metadata": {},
   "outputs": [
    {
     "name": "stdout",
     "output_type": "stream",
     "text": [
      "2\n"
     ]
    }
   ],
   "source": [
    "# Using the second method\n",
    "a = 52\n",
    "b = 10\n",
    "while(a>0 and b>0):\n",
    "    if a>b:\n",
    "        a = a%b\n",
    "    else:\n",
    "        b = b%a\n",
    "if a==0:\n",
    "    print(b)\n",
    "else:\n",
    "    print(a)"
   ]
  }
 ],
 "metadata": {
  "kernelspec": {
   "display_name": "venv (3.12.3)",
   "language": "python",
   "name": "python3"
  },
  "language_info": {
   "codemirror_mode": {
    "name": "ipython",
    "version": 3
   },
   "file_extension": ".py",
   "mimetype": "text/x-python",
   "name": "python",
   "nbconvert_exporter": "python",
   "pygments_lexer": "ipython3",
   "version": "3.12.3"
  }
 },
 "nbformat": 4,
 "nbformat_minor": 5
}
