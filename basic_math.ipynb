{
 "cells": [
  {
   "cell_type": "markdown",
   "id": "be131ceb",
   "metadata": {},
   "source": [
    "# Basic Math\n",
    "## Digits\n",
    "Consider a number is given N = 7789. We have to extract each digit from this number.  \n",
    "To extract the last digit of a given number, divide the number by 10 and get its reminder. That reminder will be the last digit.  \n",
    "7789 % 10 -> 9 and next divide it by 10, 7789 // 10 = 778.  \n",
    "778 % 10 -> 8, 778 // 10 = 77.  \n",
    "77 % 10 -> 7, 77 // 10 = 7.\n",
    "7 % 10 -> 7 and 7 // 10 = 0. stop  \n",
    "Like this we got all the digits."
   ]
  },
  {
   "cell_type": "code",
   "execution_count": 1,
   "id": "a0eb9221",
   "metadata": {},
   "outputs": [
    {
     "name": "stdout",
     "output_type": "stream",
     "text": [
      "9\n",
      "8\n",
      "7\n",
      "7\n"
     ]
    }
   ],
   "source": [
    "n = 7789\n",
    "while n > 0:\n",
    "    print(n % 10)\n",
    "    n = n // 10"
   ]
  },
  {
   "cell_type": "markdown",
   "id": "f41ab78e",
   "metadata": {},
   "source": [
    "### Count the digits\n",
    "Use the same extraction algorithm above and increament the counter variable for every iteration.  \n",
    "Since the number is getting divided by 10 for every iteration, the time complexity is log<sub>10</sub>(n)."
   ]
  },
  {
   "cell_type": "code",
   "execution_count": 2,
   "id": "48e4dc48",
   "metadata": {},
   "outputs": [
    {
     "name": "stdout",
     "output_type": "stream",
     "text": [
      "4\n"
     ]
    }
   ],
   "source": [
    "count = 0\n",
    "n = 7789\n",
    "while n > 0:    \n",
    "    count += 1\n",
    "    n = n // 10\n",
    "print(count)"
   ]
  }
 ],
 "metadata": {
  "kernelspec": {
   "display_name": "venv",
   "language": "python",
   "name": "python3"
  },
  "language_info": {
   "codemirror_mode": {
    "name": "ipython",
    "version": 3
   },
   "file_extension": ".py",
   "mimetype": "text/x-python",
   "name": "python",
   "nbconvert_exporter": "python",
   "pygments_lexer": "ipython3",
   "version": "3.12.3"
  }
 },
 "nbformat": 4,
 "nbformat_minor": 5
}
