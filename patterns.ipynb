{
 "cells": [
  {
   "cell_type": "markdown",
   "id": "6fef7cda",
   "metadata": {},
   "source": [
    "## Pattern Problems\n",
    "Most of the patterns contains nested loops  \n",
    "outer loop for number of rows  \n",
    "inner loop for number of columns  \n",
    "4 rules to follow while solving pattern problem  \n",
    "- for the outer loop count the number of lines  \n",
    "- for the inner loop focus on the number of columns and connect them somehow to the rows  \n",
    "- print the symbol inside the inner loop\n",
    "- Observer symmetry\n",
    "### Problem 1\n",
    "```python\n",
    "* * * *\n",
    "* * * *\n",
    "* * * *\n",
    "* * * *\n",
    "```\n",
    "outer -> inner  \n",
    "0 -> 4 stars  \n",
    "1 -> 4  \n",
    "2 -> 4  \n",
    "3 -> 4"
   ]
  },
  {
   "cell_type": "code",
   "execution_count": 2,
   "metadata": {},
   "outputs": [
    {
     "name": "stdout",
     "output_type": "stream",
     "text": [
      "* * * * \n",
      "* * * * \n",
      "* * * * \n",
      "* * * * \n"
     ]
    }
   ],
   "source": [
    "n = 4\n",
    "for i in range(n):\n",
    "    for j in range(n):\n",
    "        print(\"* \",end=\"\")\n",
    "    print()"
   ]
  },
  {
   "cell_type": "markdown",
   "id": "f2e65bfa",
   "metadata": {},
   "source": [
    "### Problem 2\n",
    "```python\n",
    "*\n",
    "* *\n",
    "* * *\n",
    "* * * *\n",
    "```\n",
    "1 -> 1 star  \n",
    "2 -> 2 stars  \n",
    "3 -> 3  \n",
    "4 -> 4"
   ]
  },
  {
   "cell_type": "code",
   "execution_count": 3,
   "id": "d0c119c9",
   "metadata": {},
   "outputs": [
    {
     "name": "stdout",
     "output_type": "stream",
     "text": [
      "* \n",
      "* * \n",
      "* * * \n",
      "* * * * \n"
     ]
    }
   ],
   "source": [
    "for i in range(1,n+1):\n",
    "    for j in range(i):\n",
    "        print(\"* \",end=\"\")\n",
    "    print()"
   ]
  },
  {
   "cell_type": "markdown",
   "id": "4e3c4c97",
   "metadata": {},
   "source": [
    "### Problem 3\n",
    "```python\n",
    "1\n",
    "1 2\n",
    "1 2 3\n",
    "1 2 3 4\n",
    "```\n",
    "1 -> 1  \n",
    "2 -> 1 2  \n",
    "3 -> 1 2 3  \n",
    "4 -> 1 2 3 4 \n",
    "\n"
   ]
  },
  {
   "cell_type": "code",
   "execution_count": 5,
   "id": "beab173d",
   "metadata": {},
   "outputs": [
    {
     "name": "stdout",
     "output_type": "stream",
     "text": [
      "1  \n",
      "1  2  \n",
      "1  2  3  \n",
      "1  2  3  4  \n"
     ]
    }
   ],
   "source": [
    "for i in range(1,n+1):\n",
    "    for j in range(1,i+1):\n",
    "        print(j,\" \",end=\"\")\n",
    "    print()"
   ]
  },
  {
   "cell_type": "markdown",
   "id": "6cec257d",
   "metadata": {},
   "source": [
    "### Problem 4\n",
    "```python\n",
    "1 \n",
    "2 2\n",
    "3 3 3\n",
    "4 4 4 4\n",
    "```\n",
    "1 -> 1 (row number)  \n",
    "2 -> 2 2  \n",
    "3 -> 3 3 3  \n",
    "4 -> 4 4 4 4  "
   ]
  },
  {
   "cell_type": "code",
   "execution_count": 6,
   "id": "40cf1b51",
   "metadata": {},
   "outputs": [
    {
     "name": "stdout",
     "output_type": "stream",
     "text": [
      "1  \n",
      "2  2  \n",
      "3  3  3  \n",
      "4  4  4  4  \n"
     ]
    }
   ],
   "source": [
    "for i in range(1,n+1):\n",
    "    for j in range(1,i+1):\n",
    "        print(i,\" \",end=\"\")\n",
    "    print()"
   ]
  },
  {
   "cell_type": "markdown",
   "id": "769ded1d",
   "metadata": {},
   "source": [
    "### Problem 5\n",
    "```python\n",
    "* * * *\n",
    "* * *\n",
    "* *\n",
    "*\n",
    "```\n",
    "1 -> 4 stars n-row+1  \n",
    "2 -> 3 n-2+1  \n",
    "3 -> 2 n-3+1  \n",
    "4 -> 1 n-4+1  "
   ]
  },
  {
   "cell_type": "code",
   "execution_count": 7,
   "id": "30a4d967",
   "metadata": {},
   "outputs": [
    {
     "name": "stdout",
     "output_type": "stream",
     "text": [
      "* * * * \n",
      "* * * \n",
      "* * \n",
      "* \n"
     ]
    }
   ],
   "source": [
    "for i in range(1,n+1):\n",
    "    for j in range(n-i+1):\n",
    "        print(\"* \",end=\"\")\n",
    "    print()"
   ]
  },
  {
   "cell_type": "markdown",
   "id": "2e509282",
   "metadata": {},
   "source": [
    "### Problem 6\n",
    "```python\n",
    "1 2 3 4\n",
    "1 2 3\n",
    "1 2\n",
    "1\n",
    "```\n"
   ]
  },
  {
   "cell_type": "code",
   "execution_count": 5,
   "id": "064ad934",
   "metadata": {},
   "outputs": [
    {
     "name": "stdout",
     "output_type": "stream",
     "text": [
      "1  2  3  4  \n",
      "1  2  3  \n",
      "1  2  \n",
      "1  \n"
     ]
    }
   ],
   "source": [
    "n = 4\n",
    "for i in range(1,n+1):\n",
    "    for j in range(1,n-i+2):\n",
    "        print(j,\" \",end=\"\")\n",
    "    print()"
   ]
  },
  {
   "cell_type": "markdown",
   "id": "6d29b94b",
   "metadata": {},
   "source": [
    "### Problem 7\n",
    "```python\n",
    "      * \n",
    "    * * *\n",
    "  * * * * *\n",
    "* * * * * * *\n",
    "```\n",
    "Total columns are n*2 - 1 = 7  \n",
    "each row have [space, stars, space]  \n",
    "0 -> [3,1,3]  \n",
    "1 -> [2,3,2]  \n",
    "2 -> [1,5,1]  \n",
    "3 -> [0,7,0]  \n",
    "[n-row-1, 2xrow+1, n-row-1]"
   ]
  },
  {
   "cell_type": "code",
   "execution_count": 11,
   "id": "295356ee",
   "metadata": {},
   "outputs": [
    {
     "name": "stdout",
     "output_type": "stream",
     "text": [
      "      *       \n",
      "    * * *     \n",
      "  * * * * *   \n",
      "* * * * * * * \n"
     ]
    }
   ],
   "source": [
    "for i in range(n):\n",
    "    for j in range(n-i-1):\n",
    "        print(\"  \",end=\"\")\n",
    "    for k in range(2*i+1):\n",
    "        print(\"* \",end=\"\")\n",
    "    for l in range(n-i-1):\n",
    "        print(\"  \",end=\"\")\n",
    "    print()"
   ]
  },
  {
   "cell_type": "markdown",
   "id": "eb87c81c",
   "metadata": {},
   "source": [
    "### Problem 8\n",
    "```python\n",
    "* * * * * * *\n",
    "  * * * * *\n",
    "    * * *\n",
    "      *\n",
    "```\n",
    "0 -> [0,7,0]  \n",
    "1 -> [1,5,1]  \n",
    "2 -> [2,3,2]  \n",
    "3 -> [3,4,3]  \n",
    "[i,2xn-2xi-1,i]  \n"
   ]
  },
  {
   "cell_type": "code",
   "execution_count": 12,
   "id": "34fb6e5e",
   "metadata": {},
   "outputs": [
    {
     "name": "stdout",
     "output_type": "stream",
     "text": [
      "* * * * * * * \n",
      "  * * * * *   \n",
      "    * * *     \n",
      "      *       \n"
     ]
    }
   ],
   "source": [
    "for i in range(n):\n",
    "    for j in range(i):\n",
    "        print(\"  \",end=\"\")\n",
    "    for k in range(2*n-2*i-1):\n",
    "        print(\"* \",end=\"\")\n",
    "    for l in range(i):\n",
    "        print(\"  \",end=\"\")\n",
    "    print()"
   ]
  },
  {
   "cell_type": "markdown",
   "id": "070e065a",
   "metadata": {},
   "source": [
    "### Problem 9\n",
    "```python\n",
    "      *\n",
    "    * * *\n",
    "  * * * * *\n",
    "* * * * * * *\n",
    "* * * * * * *\n",
    "  * * * * *\n",
    "    * * *\n",
    "      *\n",
    "```\n",
    "This looks symmetrical and combination of problem 8 and 7"
   ]
  },
  {
   "cell_type": "code",
   "execution_count": 13,
   "id": "e8ed5847",
   "metadata": {},
   "outputs": [
    {
     "name": "stdout",
     "output_type": "stream",
     "text": [
      "      *       \n",
      "    * * *     \n",
      "  * * * * *   \n",
      "* * * * * * * \n",
      "* * * * * * * \n",
      "  * * * * *   \n",
      "    * * *     \n",
      "      *       \n"
     ]
    }
   ],
   "source": [
    "for i in range(n):\n",
    "    for j in range(n-i-1):\n",
    "        print(\"  \",end=\"\")\n",
    "    for k in range(2*i+1):\n",
    "        print(\"* \",end=\"\")\n",
    "    for l in range(n-i-1):\n",
    "        print(\"  \",end=\"\")\n",
    "    print()\n",
    "\n",
    "for i in range(n):\n",
    "    for j in range(i):\n",
    "        print(\"  \",end=\"\")\n",
    "    for k in range(2*n-2*i-1):\n",
    "        print(\"* \",end=\"\")\n",
    "    for l in range(i):\n",
    "        print(\"  \",end=\"\")\n",
    "    print()"
   ]
  },
  {
   "cell_type": "markdown",
   "id": "e9cd48dc",
   "metadata": {},
   "source": [
    "### Problem 10\n",
    "```python\n",
    "*\n",
    "* *\n",
    "* * *\n",
    "* * * *\n",
    "* * *\n",
    "* *\n",
    "*\n",
    "```\n",
    "Combination problem 5 and 2 but lower half will have row less than above"
   ]
  },
  {
   "cell_type": "code",
   "execution_count": 20,
   "id": "a72ebada",
   "metadata": {},
   "outputs": [
    {
     "name": "stdout",
     "output_type": "stream",
     "text": [
      "\n",
      "* \n",
      "* * \n",
      "* * * \n",
      "* * * * \n",
      "* * * \n",
      "* * \n",
      "* \n"
     ]
    }
   ],
   "source": [
    "for i in range(n):\n",
    "    for j in range(i):\n",
    "        print(\"* \",end=\"\")\n",
    "    print()\n",
    "\n",
    "for i in range(n):\n",
    "    for j in range(n-i):\n",
    "        print(\"* \",end=\"\")\n",
    "    print()"
   ]
  },
  {
   "cell_type": "markdown",
   "id": "0b8e3259",
   "metadata": {},
   "source": [
    "### Problem 11\n",
    "```python\n",
    "1\n",
    "0 1\n",
    "1 0 1\n",
    "0 1 0 1\n",
    "```\n",
    "1 -> 1 (num = 1)   \n",
    "2 -> 0 1 (flip) 1-1 or 1-num    \n",
    "3 -> 1 0 1  \n",
    "4 -> 0 1 0 1"
   ]
  },
  {
   "cell_type": "code",
   "execution_count": null,
   "id": "5eae8a50",
   "metadata": {},
   "outputs": [
    {
     "name": "stdout",
     "output_type": "stream",
     "text": [
      "1  \n",
      "0  1  \n",
      "1  0  1  \n",
      "0  1  0  1  \n"
     ]
    }
   ],
   "source": [
    "num = 1\n",
    "for i in range(1,n+1):\n",
    "    if i%2 != 0:\n",
    "        num = 1\n",
    "    else:\n",
    "        num = 0\n",
    "    for j in range(i):\n",
    "        print(num,\" \",end=\"\")\n",
    "        num = 1 - num # flip\n",
    "    print()"
   ]
  },
  {
   "cell_type": "markdown",
   "id": "dd9cfb51",
   "metadata": {},
   "source": [
    "### Problem 12\n",
    "```python\n",
    "1             1\n",
    "1 2         2 1\n",
    "1 2 3     3 2 1\n",
    "1 2 3 4 4 3 2 1\n",
    "```\n",
    "[numbers, space, numbers]  \n",
    "1 -> [1,6,1]  \n",
    "2 -> [2,4,2]  \n",
    "3 -> [3,2,3]  \n",
    "4 -> [4,0,4]  \n",
    "[j,(2xn-2xrow),j]"
   ]
  },
  {
   "cell_type": "code",
   "execution_count": 57,
   "id": "a13062d9",
   "metadata": {},
   "outputs": [
    {
     "name": "stdout",
     "output_type": "stream",
     "text": [
      "1                    1  \n",
      "1  2              2  1  \n",
      "1  2  3        3  2  1  \n",
      "1  2  3  4  4  3  2  1  \n"
     ]
    }
   ],
   "source": [
    "for i in range(1,n+1):\n",
    "    for j in range(1,i+1):\n",
    "        print(j,\" \",end=\"\")\n",
    "    for k in range((2*n - 2*i)):\n",
    "        print(\"   \",end=\"\")\n",
    "    for j in range(i,0,-1):\n",
    "        print(j,\" \",end=\"\")\n",
    "    print()"
   ]
  }
 ],
 "metadata": {
  "kernelspec": {
   "display_name": "Python 3",
   "language": "python",
   "name": "python3"
  },
  "language_info": {
   "codemirror_mode": {
    "name": "ipython",
    "version": 3
   },
   "file_extension": ".py",
   "mimetype": "text/x-python",
   "name": "python",
   "nbconvert_exporter": "python",
   "pygments_lexer": "ipython3",
   "version": "3.12.1"
  }
 },
 "nbformat": 4,
 "nbformat_minor": 5
}
