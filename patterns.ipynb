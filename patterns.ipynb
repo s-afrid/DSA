{
 "cells": [
  {
   "cell_type": "markdown",
   "id": "6fef7cda",
   "metadata": {},
   "source": [
    "## Pattern Problems\n",
    "Most of the patterns contains nested loops  \n",
    "outer loop for number of rows  \n",
    "inner loop for number of columns  \n",
    "4 rules to follow while solving pattern problem  \n",
    "- for the outer loop count the number of lines  \n",
    "- for the inner loop focus on the number of columns and connect them somehow to the rows  \n",
    "- print the symbol inside the inner loop\n",
    "- Observer symmetry\n",
    "### Problem 1\n",
    "```python\n",
    "* * * *\n",
    "* * * *\n",
    "* * * *\n",
    "* * * *\n",
    "```\n",
    "outer -> inner  \n",
    "0 -> 4 stars  \n",
    "1 -> 4  \n",
    "2 -> 4  \n",
    "3 -> 4"
   ]
  },
  {
   "cell_type": "code",
   "execution_count": 2,
   "metadata": {},
   "outputs": [
    {
     "name": "stdout",
     "output_type": "stream",
     "text": [
      "* * * * \n",
      "* * * * \n",
      "* * * * \n",
      "* * * * \n"
     ]
    }
   ],
   "source": [
    "n = 4\n",
    "for i in range(n):\n",
    "    for j in range(n):\n",
    "        print(\"* \",end=\"\")\n",
    "    print()"
   ]
  },
  {
   "cell_type": "markdown",
   "id": "f2e65bfa",
   "metadata": {},
   "source": [
    "### Problem 2\n",
    "```python\n",
    "*\n",
    "* *\n",
    "* * *\n",
    "* * * *\n",
    "```\n",
    "1 -> 1 star  \n",
    "2 -> 2 stars  \n",
    "3 -> 3  \n",
    "4 -> 4"
   ]
  },
  {
   "cell_type": "code",
   "execution_count": 3,
   "id": "d0c119c9",
   "metadata": {},
   "outputs": [
    {
     "name": "stdout",
     "output_type": "stream",
     "text": [
      "* \n",
      "* * \n",
      "* * * \n",
      "* * * * \n"
     ]
    }
   ],
   "source": [
    "for i in range(1,n+1):\n",
    "    for j in range(i):\n",
    "        print(\"* \",end=\"\")\n",
    "    print()"
   ]
  },
  {
   "cell_type": "markdown",
   "id": "4e3c4c97",
   "metadata": {},
   "source": [
    "### Problem 3\n",
    "```python\n",
    "1\n",
    "1 2\n",
    "1 2 3\n",
    "1 2 3 4\n",
    "```\n",
    "1 -> 1  \n",
    "2 -> 1 2  \n",
    "3 -> 1 2 3  \n",
    "4 -> 1 2 3 4 \n",
    "\n"
   ]
  },
  {
   "cell_type": "code",
   "execution_count": 5,
   "id": "beab173d",
   "metadata": {},
   "outputs": [
    {
     "name": "stdout",
     "output_type": "stream",
     "text": [
      "1  \n",
      "1  2  \n",
      "1  2  3  \n",
      "1  2  3  4  \n"
     ]
    }
   ],
   "source": [
    "for i in range(1,n+1):\n",
    "    for j in range(1,i+1):\n",
    "        print(j,\" \",end=\"\")\n",
    "    print()"
   ]
  },
  {
   "cell_type": "markdown",
   "id": "6cec257d",
   "metadata": {},
   "source": [
    "### Problem 4\n",
    "```python\n",
    "1 \n",
    "2 2\n",
    "3 3 3\n",
    "4 4 4 4\n",
    "```\n",
    "1 -> 1 (row number)  \n",
    "2 -> 2 2  \n",
    "3 -> 3 3 3  \n",
    "4 -> 4 4 4 4  "
   ]
  },
  {
   "cell_type": "code",
   "execution_count": 6,
   "id": "40cf1b51",
   "metadata": {},
   "outputs": [
    {
     "name": "stdout",
     "output_type": "stream",
     "text": [
      "1  \n",
      "2  2  \n",
      "3  3  3  \n",
      "4  4  4  4  \n"
     ]
    }
   ],
   "source": [
    "for i in range(1,n+1):\n",
    "    for j in range(1,i+1):\n",
    "        print(i,\" \",end=\"\")\n",
    "    print()"
   ]
  },
  {
   "cell_type": "markdown",
   "id": "769ded1d",
   "metadata": {},
   "source": [
    "### Problem 5\n",
    "```python\n",
    "* * * *\n",
    "* * *\n",
    "* *\n",
    "*\n",
    "```\n",
    "1 -> 4 stars n-row+1  \n",
    "2 -> 3 n-2+1  \n",
    "3 -> 2 n-3+1  \n",
    "4 -> 1 n-4+1  "
   ]
  },
  {
   "cell_type": "code",
   "execution_count": 7,
   "id": "30a4d967",
   "metadata": {},
   "outputs": [
    {
     "name": "stdout",
     "output_type": "stream",
     "text": [
      "* * * * \n",
      "* * * \n",
      "* * \n",
      "* \n"
     ]
    }
   ],
   "source": [
    "for i in range(1,n+1):\n",
    "    for j in range(n-i+1):\n",
    "        print(\"* \",end=\"\")\n",
    "    print()"
   ]
  },
  {
   "cell_type": "markdown",
   "id": "2e509282",
   "metadata": {},
   "source": [
    "### Problem 6\n",
    "```python\n",
    "1 2 3 4\n",
    "1 2 3\n",
    "1 2\n",
    "1\n",
    "```\n"
   ]
  },
  {
   "cell_type": "code",
   "execution_count": 5,
   "id": "064ad934",
   "metadata": {},
   "outputs": [
    {
     "name": "stdout",
     "output_type": "stream",
     "text": [
      "1  2  3  4  \n",
      "1  2  3  \n",
      "1  2  \n",
      "1  \n"
     ]
    }
   ],
   "source": [
    "n = 4\n",
    "for i in range(1,n+1):\n",
    "    for j in range(1,n-i+2):\n",
    "        print(j,\" \",end=\"\")\n",
    "    print()"
   ]
  }
 ],
 "metadata": {
  "kernelspec": {
   "display_name": "Python 3",
   "language": "python",
   "name": "python3"
  },
  "language_info": {
   "codemirror_mode": {
    "name": "ipython",
    "version": 3
   },
   "file_extension": ".py",
   "mimetype": "text/x-python",
   "name": "python",
   "nbconvert_exporter": "python",
   "pygments_lexer": "ipython3",
   "version": "3.12.1"
  }
 },
 "nbformat": 4,
 "nbformat_minor": 5
}
