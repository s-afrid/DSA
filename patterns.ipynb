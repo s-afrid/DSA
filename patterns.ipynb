{
 "cells": [
  {
   "cell_type": "markdown",
   "id": "6fef7cda",
   "metadata": {},
   "source": [
    "## Pattern Problems\n",
    "Most of the patterns contains nested loops  \n",
    "outer loop for number of rows  \n",
    "inner loop for number of columns  \n",
    "4 rules to follow while solving pattern problem  \n",
    "- for the outer loop count the number of lines  \n",
    "- for the inner loop focus on the number of columns and connect them somehow to the rows  \n",
    "- print the symbol inside the inner loop\n",
    "- Observer symmetry\n",
    "### Problem 1\n",
    "```python\n",
    "* * * *\n",
    "* * * *\n",
    "* * * *\n",
    "* * * *\n",
    "```\n",
    "outer -> inner  \n",
    "0 -> 4 stars  \n",
    "1 -> 4  \n",
    "2 -> 4  \n",
    "3 -> 4"
   ]
  },
  {
   "cell_type": "code",
   "execution_count": 2,
   "metadata": {},
   "outputs": [
    {
     "name": "stdout",
     "output_type": "stream",
     "text": [
      "* * * * \n",
      "* * * * \n",
      "* * * * \n",
      "* * * * \n"
     ]
    }
   ],
   "source": [
    "n = 4\n",
    "for i in range(n):\n",
    "    for j in range(n):\n",
    "        print(\"* \",end=\"\")\n",
    "    print()"
   ]
  },
  {
   "cell_type": "markdown",
   "id": "f2e65bfa",
   "metadata": {},
   "source": [
    "### Problem 2\n",
    "```python\n",
    "*\n",
    "* *\n",
    "* * *\n",
    "* * * *\n",
    "```\n",
    "1 -> 1 star  \n",
    "2 -> 2 stars  \n",
    "3 -> 3  \n",
    "4 -> 4"
   ]
  },
  {
   "cell_type": "code",
   "execution_count": 3,
   "id": "d0c119c9",
   "metadata": {},
   "outputs": [
    {
     "name": "stdout",
     "output_type": "stream",
     "text": [
      "* \n",
      "* * \n",
      "* * * \n",
      "* * * * \n"
     ]
    }
   ],
   "source": [
    "for i in range(1,n+1):\n",
    "    for j in range(i):\n",
    "        print(\"* \",end=\"\")\n",
    "    print()"
   ]
  },
  {
   "cell_type": "markdown",
   "id": "4e3c4c97",
   "metadata": {},
   "source": [
    "### Problem 3\n",
    "```python\n",
    "1\n",
    "1 2\n",
    "1 2 3\n",
    "1 2 3 4\n",
    "```\n",
    "1 -> 1  \n",
    "2 -> 1 2  \n",
    "3 -> 1 2 3  \n",
    "4 -> 1 2 3 4 \n",
    "\n"
   ]
  },
  {
   "cell_type": "code",
   "execution_count": 4,
   "id": "beab173d",
   "metadata": {},
   "outputs": [
    {
     "name": "stdout",
     "output_type": "stream",
     "text": [
      "1  \n",
      "1  2  \n",
      "1  2  3  \n",
      "1  2  3  4  \n"
     ]
    }
   ],
   "source": [
    "for i in range(1,n+1):\n",
    "    for j in range(1,i+1):\n",
    "        print(j,\" \",end=\"\")\n",
    "    print()"
   ]
  },
  {
   "cell_type": "markdown",
   "id": "6cec257d",
   "metadata": {},
   "source": [
    "### Problem 4\n",
    "```python\n",
    "1 \n",
    "2 2\n",
    "3 3 3\n",
    "4 4 4 4\n",
    "```\n",
    "1 -> 1 (row number)  \n",
    "2 -> 2 2  \n",
    "3 -> 3 3 3  \n",
    "4 -> 4 4 4 4  "
   ]
  },
  {
   "cell_type": "code",
   "execution_count": 5,
   "id": "40cf1b51",
   "metadata": {},
   "outputs": [
    {
     "name": "stdout",
     "output_type": "stream",
     "text": [
      "1  \n",
      "2  2  \n",
      "3  3  3  \n",
      "4  4  4  4  \n"
     ]
    }
   ],
   "source": [
    "for i in range(1,n+1):\n",
    "    for j in range(1,i+1):\n",
    "        print(i,\" \",end=\"\")\n",
    "    print()"
   ]
  },
  {
   "cell_type": "markdown",
   "id": "769ded1d",
   "metadata": {},
   "source": [
    "### Problem 5\n",
    "```python\n",
    "* * * *\n",
    "* * *\n",
    "* *\n",
    "*\n",
    "```\n",
    "1 -> 4 stars n-row+1  \n",
    "2 -> 3 n-2+1  \n",
    "3 -> 2 n-3+1  \n",
    "4 -> 1 n-4+1  "
   ]
  },
  {
   "cell_type": "code",
   "execution_count": 6,
   "id": "30a4d967",
   "metadata": {},
   "outputs": [
    {
     "name": "stdout",
     "output_type": "stream",
     "text": [
      "* * * * \n",
      "* * * \n",
      "* * \n",
      "* \n"
     ]
    }
   ],
   "source": [
    "for i in range(1,n+1):\n",
    "    for j in range(n-i+1):\n",
    "        print(\"* \",end=\"\")\n",
    "    print()"
   ]
  },
  {
   "cell_type": "markdown",
   "id": "2e509282",
   "metadata": {},
   "source": [
    "### Problem 6\n",
    "```python\n",
    "1 2 3 4\n",
    "1 2 3\n",
    "1 2\n",
    "1\n",
    "```\n"
   ]
  },
  {
   "cell_type": "code",
   "execution_count": 7,
   "id": "064ad934",
   "metadata": {},
   "outputs": [
    {
     "name": "stdout",
     "output_type": "stream",
     "text": [
      "1  2  3  4  \n",
      "1  2  3  \n",
      "1  2  \n",
      "1  \n"
     ]
    }
   ],
   "source": [
    "n = 4\n",
    "for i in range(1,n+1):\n",
    "    for j in range(1,n-i+2):\n",
    "        print(j,\" \",end=\"\")\n",
    "    print()"
   ]
  },
  {
   "cell_type": "markdown",
   "id": "6d29b94b",
   "metadata": {},
   "source": [
    "### Problem 7\n",
    "```python\n",
    "      * \n",
    "    * * *\n",
    "  * * * * *\n",
    "* * * * * * *\n",
    "```\n",
    "Total columns are n*2 - 1 = 7  \n",
    "each row have [space, stars, space]  \n",
    "0 -> [3,1,3]  \n",
    "1 -> [2,3,2]  \n",
    "2 -> [1,5,1]  \n",
    "3 -> [0,7,0]  \n",
    "[n-row-1, 2xrow+1, n-row-1]"
   ]
  },
  {
   "cell_type": "code",
   "execution_count": 8,
   "id": "295356ee",
   "metadata": {},
   "outputs": [
    {
     "name": "stdout",
     "output_type": "stream",
     "text": [
      "      *       \n",
      "    * * *     \n",
      "  * * * * *   \n",
      "* * * * * * * \n"
     ]
    }
   ],
   "source": [
    "for i in range(n):\n",
    "    for j in range(n-i-1):\n",
    "        print(\"  \",end=\"\")\n",
    "    for k in range(2*i+1):\n",
    "        print(\"* \",end=\"\")\n",
    "    for l in range(n-i-1):\n",
    "        print(\"  \",end=\"\")\n",
    "    print()"
   ]
  },
  {
   "cell_type": "markdown",
   "id": "eb87c81c",
   "metadata": {},
   "source": [
    "### Problem 8\n",
    "```python\n",
    "* * * * * * *\n",
    "  * * * * *\n",
    "    * * *\n",
    "      *\n",
    "```\n",
    "0 -> [0,7,0]  \n",
    "1 -> [1,5,1]  \n",
    "2 -> [2,3,2]  \n",
    "3 -> [3,4,3]  \n",
    "[i,2xn-2xi-1,i]  \n"
   ]
  },
  {
   "cell_type": "code",
   "execution_count": 9,
   "id": "34fb6e5e",
   "metadata": {},
   "outputs": [
    {
     "name": "stdout",
     "output_type": "stream",
     "text": [
      "* * * * * * * \n",
      "  * * * * *   \n",
      "    * * *     \n",
      "      *       \n"
     ]
    }
   ],
   "source": [
    "for i in range(n):\n",
    "    for j in range(i):\n",
    "        print(\"  \",end=\"\")\n",
    "    for k in range(2*n-2*i-1):\n",
    "        print(\"* \",end=\"\")\n",
    "    for l in range(i):\n",
    "        print(\"  \",end=\"\")\n",
    "    print()"
   ]
  },
  {
   "cell_type": "markdown",
   "id": "070e065a",
   "metadata": {},
   "source": [
    "### Problem 9\n",
    "```python\n",
    "      *\n",
    "    * * *\n",
    "  * * * * *\n",
    "* * * * * * *\n",
    "* * * * * * *\n",
    "  * * * * *\n",
    "    * * *\n",
    "      *\n",
    "```\n",
    "This looks symmetrical and combination of problem 8 and 7"
   ]
  },
  {
   "cell_type": "code",
   "execution_count": 10,
   "id": "e8ed5847",
   "metadata": {},
   "outputs": [
    {
     "name": "stdout",
     "output_type": "stream",
     "text": [
      "      *       \n",
      "    * * *     \n",
      "  * * * * *   \n",
      "* * * * * * * \n",
      "* * * * * * * \n",
      "  * * * * *   \n",
      "    * * *     \n",
      "      *       \n"
     ]
    }
   ],
   "source": [
    "for i in range(n):\n",
    "    for j in range(n-i-1):\n",
    "        print(\"  \",end=\"\")\n",
    "    for k in range(2*i+1):\n",
    "        print(\"* \",end=\"\")\n",
    "    for l in range(n-i-1):\n",
    "        print(\"  \",end=\"\")\n",
    "    print()\n",
    "\n",
    "for i in range(n):\n",
    "    for j in range(i):\n",
    "        print(\"  \",end=\"\")\n",
    "    for k in range(2*n-2*i-1):\n",
    "        print(\"* \",end=\"\")\n",
    "    for l in range(i):\n",
    "        print(\"  \",end=\"\")\n",
    "    print()"
   ]
  },
  {
   "cell_type": "markdown",
   "id": "e9cd48dc",
   "metadata": {},
   "source": [
    "### Problem 10\n",
    "```python\n",
    "*\n",
    "* *\n",
    "* * *\n",
    "* * * *\n",
    "* * *\n",
    "* *\n",
    "*\n",
    "```\n",
    "Combination problem 5 and 2 but lower half will have row less than above"
   ]
  },
  {
   "cell_type": "code",
   "execution_count": 11,
   "id": "a72ebada",
   "metadata": {},
   "outputs": [
    {
     "name": "stdout",
     "output_type": "stream",
     "text": [
      "\n",
      "* \n",
      "* * \n",
      "* * * \n",
      "* * * * \n",
      "* * * \n",
      "* * \n",
      "* \n"
     ]
    }
   ],
   "source": [
    "for i in range(n):\n",
    "    for j in range(i):\n",
    "        print(\"* \",end=\"\")\n",
    "    print()\n",
    "\n",
    "for i in range(n):\n",
    "    for j in range(n-i):\n",
    "        print(\"* \",end=\"\")\n",
    "    print()"
   ]
  },
  {
   "cell_type": "markdown",
   "id": "0b8e3259",
   "metadata": {},
   "source": [
    "### Problem 11\n",
    "```python\n",
    "1\n",
    "0 1\n",
    "1 0 1\n",
    "0 1 0 1\n",
    "```\n",
    "1 -> 1 (num = 1)   \n",
    "2 -> 0 1 (flip) 1-1 or 1-num    \n",
    "3 -> 1 0 1  \n",
    "4 -> 0 1 0 1"
   ]
  },
  {
   "cell_type": "code",
   "execution_count": 12,
   "id": "5eae8a50",
   "metadata": {},
   "outputs": [
    {
     "name": "stdout",
     "output_type": "stream",
     "text": [
      "1  \n",
      "0  1  \n",
      "1  0  1  \n",
      "0  1  0  1  \n"
     ]
    }
   ],
   "source": [
    "num = 1\n",
    "for i in range(1,n+1):\n",
    "    if i%2 != 0:\n",
    "        num = 1\n",
    "    else:\n",
    "        num = 0\n",
    "    for j in range(i):\n",
    "        print(num,\" \",end=\"\")\n",
    "        num = 1 - num # flip\n",
    "    print()"
   ]
  },
  {
   "cell_type": "markdown",
   "id": "dd9cfb51",
   "metadata": {},
   "source": [
    "### Problem 12\n",
    "```python\n",
    "1             1\n",
    "1 2         2 1\n",
    "1 2 3     3 2 1\n",
    "1 2 3 4 4 3 2 1\n",
    "```\n",
    "[numbers, space, numbers]  \n",
    "1 -> [1,6,1]  \n",
    "2 -> [2,4,2]  \n",
    "3 -> [3,2,3]  \n",
    "4 -> [4,0,4]  \n",
    "[j,(2xn-2xrow),j]"
   ]
  },
  {
   "cell_type": "code",
   "execution_count": 13,
   "id": "a13062d9",
   "metadata": {},
   "outputs": [
    {
     "name": "stdout",
     "output_type": "stream",
     "text": [
      "1                    1  \n",
      "1  2              2  1  \n",
      "1  2  3        3  2  1  \n",
      "1  2  3  4  4  3  2  1  \n"
     ]
    }
   ],
   "source": [
    "for i in range(1,n+1):\n",
    "    for j in range(1,i+1):\n",
    "        print(j,\" \",end=\"\")\n",
    "    for k in range((2*n - 2*i)):\n",
    "        print(\"   \",end=\"\")\n",
    "    for j in range(i,0,-1):\n",
    "        print(j,\" \",end=\"\")\n",
    "    print()"
   ]
  },
  {
   "cell_type": "markdown",
   "id": "0e187393",
   "metadata": {},
   "source": [
    "### Problem 13\n",
    "```python\n",
    "1\n",
    "2 3\n",
    "4 5 6\n",
    "7 8 9 10\n",
    "11 12 13 14 15\n",
    "```\n",
    "1 -> 1 number  \n",
    "2 -> 2 numbers  \n",
    "3 -> 3 numbers  \n",
    "4 -> 4 numbers  \n",
    "5 -> 5 numbers  \n",
    "element at each row,column is increased by 1, a counter needs to be updated each time"
   ]
  },
  {
   "cell_type": "code",
   "execution_count": 14,
   "id": "e11adf42",
   "metadata": {},
   "outputs": [
    {
     "name": "stdout",
     "output_type": "stream",
     "text": [
      "\n",
      "1  \n",
      "2  3  \n",
      "4  5  6  \n",
      "7  8  9  10  \n",
      "11  12  13  14  15  \n"
     ]
    }
   ],
   "source": [
    "counter = 1\n",
    "n = 5\n",
    "for i in range(n+1):\n",
    "    for j in range(i):\n",
    "        print(counter,\" \",end=\"\")\n",
    "        counter+=1\n",
    "    print()"
   ]
  },
  {
   "cell_type": "markdown",
   "id": "29346e4c",
   "metadata": {},
   "source": [
    "### Problem 14\n",
    "```python\n",
    "A\n",
    "A B\n",
    "A B C\n",
    "A B C D\n",
    "```\n",
    "1 -> 1 alphabet  \n",
    "2 -> 2  \n",
    "3 -> 3  \n",
    "4 -> 4  \n",
    "Map numbers with 26 capital alphabets or store in list and use its index number\n"
   ]
  },
  {
   "cell_type": "code",
   "execution_count": 15,
   "id": "107f9a13",
   "metadata": {},
   "outputs": [
    {
     "name": "stdout",
     "output_type": "stream",
     "text": [
      "\n",
      "A  \n",
      "A  B  \n",
      "A  B  C  \n",
      "A  B  C  D  \n"
     ]
    }
   ],
   "source": [
    "alpha = ['A','B','C','D','E','F','G','H','I','J','K','L','M','N','O','P','Q','R','S','T','U','V','W','X','Y','Z']\n",
    "for i in range(5):\n",
    "    for j in range(i):\n",
    "        print(alpha[j],\" \",end=\"\")\n",
    "    print()"
   ]
  },
  {
   "cell_type": "markdown",
   "id": "3e6ba6aa",
   "metadata": {},
   "source": [
    "### Problem 15\n",
    "```python\n",
    "A B C D\n",
    "A B C\n",
    "A B\n",
    "A\n",
    "```\n",
    "Same as previous problem, except the inner is reversed"
   ]
  },
  {
   "cell_type": "code",
   "execution_count": 16,
   "id": "18814215",
   "metadata": {},
   "outputs": [
    {
     "name": "stdout",
     "output_type": "stream",
     "text": [
      "A  B  C  D  \n",
      "A  B  C  \n",
      "A  B  \n",
      "A  \n",
      "\n"
     ]
    }
   ],
   "source": [
    "alpha = ['A','B','C','D','E','F','G','H','I','J','K','L','M','N','O','P','Q','R','S','T','U','V','W','X','Y','Z']\n",
    "n = 4\n",
    "for i in range(n+1):\n",
    "    for j in range(n-i):\n",
    "        print(alpha[j],\" \",end=\"\")\n",
    "        \n",
    "    print()"
   ]
  },
  {
   "cell_type": "markdown",
   "id": "6861664a",
   "metadata": {},
   "source": [
    "### Problem 16\n",
    "```python\n",
    "A\n",
    "B B\n",
    "C C C\n",
    "D D D D\n",
    "```\n",
    "Same as previous, used index of outer loop to repeat the same alphabet at that index for every inner loop"
   ]
  },
  {
   "cell_type": "code",
   "execution_count": 17,
   "id": "98aa5d23",
   "metadata": {},
   "outputs": [
    {
     "name": "stdout",
     "output_type": "stream",
     "text": [
      "A  \n",
      "B  B  \n",
      "C  C  C  \n",
      "D  D  D  D  \n",
      "E  E  E  E  E  \n"
     ]
    }
   ],
   "source": [
    "alpha = ['A','B','C','D','E','F','G','H','I','J','K','L','M','N','O','P','Q','R','S','T','U','V','W','X','Y','Z']\n",
    "n = 5\n",
    "for i in range(0,n):\n",
    "    for j in range(i+1):\n",
    "        print(alpha[i],\" \",end=\"\")\n",
    "    print()"
   ]
  },
  {
   "cell_type": "markdown",
   "id": "2628afc3",
   "metadata": {},
   "source": [
    "### Problem 17\n",
    "```python\n",
    "      A\n",
    "    A B A\n",
    "  A B C B A\n",
    "A B C D C B A\n",
    "```\n",
    "1 -> 1 aphabet  \n",
    "2 -> 3  \n",
    "3 -> 5  \n",
    "4 -> 7  \n",
    "[space = n-i,alphabets,space = n-i]  \n",
    "alphabets: for 1 outer iteration  \n",
    "set counter = 0   \n",
    "if index j >= i  \n",
    "  counter - 1  \n",
    "else counter + 1  \n",
    "use counder as list index  \n"
   ]
  },
  {
   "cell_type": "code",
   "execution_count": 24,
   "id": "143e3b8a",
   "metadata": {},
   "outputs": [
    {
     "name": "stdout",
     "output_type": "stream",
     "text": [
      "                \n",
      "      A       \n",
      "    A B A     \n",
      "  A B C B A   \n",
      "A B C D C B A \n"
     ]
    }
   ],
   "source": [
    "for i in range(1,n+1):\n",
    "    for j in range(n-i):\n",
    "        print(\"  \",end=\"\")\n",
    "    c = 0\n",
    "    for k in range(2*i-1):\n",
    "        \n",
    "        #print(\"-\",k,end=\"\")\n",
    "        if k+1>=i:\n",
    "            c -= 1\n",
    "        else:\n",
    "            c+=1\n",
    "        if c<=0:\n",
    "            break\n",
    "        print(alpha[c-1]+\" \",end=\"\")\n",
    "    for l in range(n-i):\n",
    "        print(\"  \",end=\"\")\n",
    "    print()"
   ]
  },
  {
   "cell_type": "markdown",
   "id": "4541bb7d",
   "metadata": {},
   "source": [
    "### Problem 18\n",
    "```python\n",
    "E\n",
    "D E\n",
    "C D E\n",
    "B C D E\n",
    "A B C D E\n",
    "```\n",
    "1 -> 1  \n",
    "2 -> 2  \n",
    "3 -> 3  \n",
    "4 -> 4  \n",
    "5 -> 5  \n",
    "Same as problem 14, inner loops starts with nth index and decreases by 1, inner loop goes in reverse"
   ]
  },
  {
   "cell_type": "code",
   "execution_count": 43,
   "id": "ae4b03a7",
   "metadata": {},
   "outputs": [
    {
     "name": "stdout",
     "output_type": "stream",
     "text": [
      "E  \n",
      "D  E  \n",
      "C  D  E  \n",
      "B  C  D  E  \n",
      "A  B  C  D  E  \n"
     ]
    }
   ],
   "source": [
    "n = 5\n",
    "for i in range(n):\n",
    "    for j in range(i,-1,-1):\n",
    "        print(alpha[n-j-1],\" \",end=\"\")\n",
    "    print()"
   ]
  },
  {
   "cell_type": "markdown",
   "id": "f867d54a",
   "metadata": {},
   "source": [
    "### Problem 19\n",
    "```python\n",
    "* * * * * * * * * *\n",
    "* * * *     * * * *\n",
    "* * *         * * *\n",
    "* *             * *\n",
    "*                 *\n",
    "*                 *\n",
    "* *             * *\n",
    "* * *         * * *\n",
    "* * * *     * * * *\n",
    "* * * * * * * * * *\n",
    "```\n",
    "1 -> [5,0,5]  \n",
    "2 -> [4,1,4]  \n",
    "3 -> [3,2,3]  \n",
    "4 -> [2,3,2]  \n",
    "5 -> [1,4,1]  \n",
    "[symbol,space,symbol] = [n,i-1,n]  \n",
    "1 -> [5,0,5]  \n",
    "2 -> [4,1,4]  \n",
    "3 -> [3,2,3]  \n",
    "4 -> [2,3,2]  \n",
    "5 -> [1,4,1]  \n",
    "[symbol,space,symbol] = [i,n-i-1,i]   "
   ]
  },
  {
   "cell_type": "code",
   "execution_count": 77,
   "id": "ffb96a35",
   "metadata": {},
   "outputs": [
    {
     "name": "stdout",
     "output_type": "stream",
     "text": [
      "* * * * * * * * * * \n",
      "* * * *     * * * * \n",
      "* * *         * * * \n",
      "* *             * * \n",
      "*                 * \n",
      "*                 * \n",
      "* *             * * \n",
      "* * *         * * * \n",
      "* * * *     * * * * \n",
      "* * * * * * * * * * \n"
     ]
    }
   ],
   "source": [
    "n = 5\n",
    "for i in range(n):\n",
    "    for j in range(n-i):\n",
    "        print(\"* \",end=\"\")\n",
    "    for k in range(0,i):\n",
    "        print(\"    \",end=\"\")\n",
    "    for j in range(n-i):\n",
    "        print(\"* \",end=\"\")\n",
    "    print()\n",
    "    \n",
    "for i in range(n):\n",
    "    for j in range(i+1):\n",
    "        print(\"* \",end=\"\")\n",
    "    for k in range(n-i-1):\n",
    "        print(\"    \",end=\"\")\n",
    "    for j in range(i+1):\n",
    "        print(\"* \",end=\"\")\n",
    "    print()\n",
    "    "
   ]
  },
  {
   "cell_type": "markdown",
   "id": "2797dcb8",
   "metadata": {},
   "source": [
    "### Problem 20\n",
    "```python\n",
    "*             *\n",
    "* *         * *\n",
    "* * *     * * *\n",
    "* * * * * * * *\n",
    "* * *     * * *\n",
    "* *         * *\n",
    "*             *\n",
    "```\n",
    "1 -> [1,3,1]  \n",
    "2 -> [2,2,2]  \n",
    "3 -> [3,1,3]  \n",
    "4 -> [4,0,4]  \n",
    "[i,n-i,i]  \n",
    "start with one step low  \n",
    "1 -> [3,1,3]  \n",
    "2 -> [2,2,2]  \n",
    "3 -> [1,3,1]  \n",
    "[n-1-i,i,n-1-i]  "
   ]
  },
  {
   "cell_type": "code",
   "execution_count": 113,
   "id": "bb5b57a4",
   "metadata": {},
   "outputs": [
    {
     "name": "stdout",
     "output_type": "stream",
     "text": [
      "*             * \n",
      "* *         * * \n",
      "* * *     * * * \n",
      "* * * * * * * * \n",
      "* * *     * * * \n",
      "* *         * * \n",
      "*             * \n"
     ]
    }
   ],
   "source": [
    "n = 4\n",
    "for i in range(n):\n",
    "    for j in range(i+1):\n",
    "        print(\"* \",end=\"\")\n",
    "    for k in range(n-i,1,-1):\n",
    "        print(\"    \",end=\"\")\n",
    "    for l in range(i+1):\n",
    "        print(\"* \",end=\"\")\n",
    "    print()\n",
    "for i in range(n-1):\n",
    "    for j in range(n-1-i):\n",
    "        print(\"* \",end=\"\")\n",
    "    for k in range(i+1):\n",
    "        print(\"    \",end=\"\")\n",
    "    for l in range(n-1-i):\n",
    "        print(\"* \",end=\"\")\n",
    "    print()"
   ]
  },
  {
   "cell_type": "markdown",
   "id": "94971385",
   "metadata": {},
   "source": [
    "### Problem 21\n",
    "```python\n",
    "* * * *\n",
    "*     *\n",
    "*     *\n",
    "* * * *\n",
    "```\n",
    "1 -> 4 stars  \n",
    "2 -> 1,2,1  \n",
    "3 -> 1,2,1  \n",
    "4 -> 4 stars  \n",
    "[star,space,star] = [1,n-2,1]  "
   ]
  },
  {
   "cell_type": "code",
   "execution_count": 117,
   "id": "be211cb6",
   "metadata": {},
   "outputs": [
    {
     "name": "stdout",
     "output_type": "stream",
     "text": [
      "* * * * \n",
      "*     * \n",
      "*     * \n",
      "* * * * \n"
     ]
    }
   ],
   "source": [
    "n = 4\n",
    "for i in range(n):\n",
    "    print(\"* \",end=\"\")\n",
    "print()\n",
    "for i in range(n-2):\n",
    "    print(\"* \",end=\"\")\n",
    "    for j in range(n-2):\n",
    "        print(\"  \",end=\"\")\n",
    "    print(\"* \",end=\"\")\n",
    "    print()\n",
    "for i in range(n):\n",
    "    print(\"* \",end=\"\")\n",
    "print()"
   ]
  },
  {
   "cell_type": "markdown",
   "id": "769535b6",
   "metadata": {},
   "source": [
    "### Problem 22\n",
    "```python\n",
    "4 4 4 4 4 4 4\n",
    "4 3 3 3 3 3 4\n",
    "4 3 2 2 2 3 4\n",
    "4 3 2 1 2 3 4\n",
    "4 3 2 2 2 3 4\n",
    "4 3 3 3 3 3 4\n",
    "4 4 4 4 4 4 4\n",
    "```\n",
    "Take distance of the element from all 4 direction. top and bottom from outer loop and left and right from inner loop and choose minimum out of it subtract it from maximum number.\n",
    "\n"
   ]
  },
  {
   "cell_type": "code",
   "execution_count": 153,
   "id": "7553fa1e",
   "metadata": {},
   "outputs": [
    {
     "name": "stdout",
     "output_type": "stream",
     "text": [
      "4 4 4 4 4 4 4 \n",
      "4 3 3 3 3 3 4 \n",
      "4 3 2 2 2 3 4 \n",
      "4 3 2 1 2 3 4 \n",
      "4 3 2 2 2 3 4 \n",
      "4 3 3 3 3 3 4 \n",
      "4 4 4 4 4 4 4 \n"
     ]
    }
   ],
   "source": [
    "n = 4\n",
    "top = 0\n",
    "bottom = 2*(n-1)\n",
    "for i in range(2*(n-1)+1):\n",
    "    left = 0\n",
    "    right = 2*(n-1)\n",
    "    for j in range(2*(n-1)+1):\n",
    "        print(n-min(top,bottom,left,right),\"\",end=\"\")\n",
    "        left+=1\n",
    "        right-=1\n",
    "    print()\n",
    "    top+=1\n",
    "    bottom-=1"
   ]
  }
 ],
 "metadata": {
  "kernelspec": {
   "display_name": "Python 3",
   "language": "python",
   "name": "python3"
  },
  "language_info": {
   "codemirror_mode": {
    "name": "ipython",
    "version": 3
   },
   "file_extension": ".py",
   "mimetype": "text/x-python",
   "name": "python",
   "nbconvert_exporter": "python",
   "pygments_lexer": "ipython3",
   "version": "3.13.5"
  }
 },
 "nbformat": 4,
 "nbformat_minor": 5
}
