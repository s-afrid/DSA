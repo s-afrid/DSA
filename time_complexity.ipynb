{
 "cells": [
  {
   "cell_type": "markdown",
   "id": "e98f03b4",
   "metadata": {},
   "source": [
    "## Time Complexity and Space Complexity\n",
    "### Time Complexity\n",
    "The rate at which time taken increaces with respect to growth in input size. The time complexity is computed inform of ***Big-O Notation***.\n",
    "\n",
    "Ex:  \n",
    "    If in a code we have a single for-loop and it performs N iterations, then the time complexity of that program is ***O(N)***."
   ]
  },
  {
   "cell_type": "code",
   "execution_count": 5,
   "id": "6c57eaa0",
   "metadata": {},
   "outputs": [
    {
     "name": "stdout",
     "output_type": "stream",
     "text": [
      "1\n",
      "2\n",
      "3\n",
      "4\n",
      "5\n"
     ]
    }
   ],
   "source": [
    "l = [1,2,3,4,5]\n",
    "for i in l:\n",
    "    print(i)\n",
    "\n",
    "# The size of the input is 5 so the number of iterations are 5\n",
    "# 1 time i is increament for every iteration\n",
    "# 1 time i is checked whether it reached the end or not for every iteration\n",
    "# 1 time i is printed for every iteration"
   ]
  },
  {
   "cell_type": "markdown",
   "id": "30035911",
   "metadata": {},
   "source": [
    "The steps taken for the above program is 5 x (1+1+1) = 5 x (3) = 15  \n",
    "Now lets say you have array of size N and the number of iterations are N, the total steps now are Nx3  \n",
    "So BigO notation is now ***O(Nx3)***   \n",
    "There are certain rules that need to be followed when analyzing time complexity\n",
    "1. Avoid constants\n",
    "2. Avoid lower values\n",
    "3. Always take worst case scenario\n",
    "\n",
    "After we apply the rules, the constant 3 is avoided and now final BigO notation is ***O(N)***  \n",
    "\n",
    "There are 3 kinds of scenario's\n",
    "1. Best case scenario : This is where the program takes least number of steps to complete its run\n",
    "2. Average case scenario : This is where the program takes average number of steps to complete its run\n",
    "3. Worst case scenario : This is where the program takes most number of steps to complete its run"
   ]
  },
  {
   "cell_type": "code",
   "execution_count": 6,
   "id": "9537f42a",
   "metadata": {},
   "outputs": [
    {
     "name": "stdout",
     "output_type": "stream",
     "text": [
      "1\n",
      "4\n",
      "6\n"
     ]
    }
   ],
   "source": [
    "l = [1,2,3,4,5,6]\n",
    "# Best case scenario\n",
    "for i in l:\n",
    "    if i == 1:\n",
    "        print(i)\n",
    "        break\n",
    "# Takes only 1 iteration\n",
    "# Average case scenario\n",
    "for i in l:\n",
    "    if i == 4:\n",
    "        print(i)\n",
    "        break\n",
    "# Takes 4 iterations\n",
    "# Worst case scenario\n",
    "for i in l:\n",
    "    if i == 6:\n",
    "        print(i)\n",
    "        break\n",
    "# Takes 6 iteration which is the size of input"
   ]
  },
  {
   "cell_type": "markdown",
   "id": "8ea8307c",
   "metadata": {},
   "source": [
    "Consider we have two for loops in our program. In these one is a nested for-loop run on a 2D array"
   ]
  },
  {
   "cell_type": "code",
   "execution_count": 8,
   "id": "f0494f3a",
   "metadata": {},
   "outputs": [
    {
     "name": "stdout",
     "output_type": "stream",
     "text": [
      "1  2  3  \n",
      "4  5  6  \n",
      "7  8  9  \n",
      "1\n",
      "2\n",
      "3\n"
     ]
    }
   ],
   "source": [
    "mat = [[1,2,3],[4,5,6],[7,8,9]]\n",
    "# The size is 3x3 = 9, in general size is NxN = N^2\n",
    "for i in range(len(mat)):\n",
    "    for j in range(len(mat)):\n",
    "        print(mat[i][j],\" \", end=\"\")\n",
    "    print()\n",
    "\n",
    "arr = [1,2,3]\n",
    "# The size is 3, in general size is M\n",
    "for i in arr:\n",
    "    print(i)\n",
    "\n"
   ]
  },
  {
   "cell_type": "markdown",
   "metadata": {},
   "source": [
    "The BigO of first for-loop is O(N<sup>2</sup>)  \n",
    "The BigO of second for-loop is O(M)  \n",
    "The BigO of variables is O(2)  \n",
    "\n",
    "The total BigO of the program is O(N<sup>2</sup> + M + 2)  \n",
    "2 is a constant so we avoid it  \n",
    "M is low value so we avoid it  \n",
    "So the final BigO of this program is O(N<sup>2</sup>)"
   ]
  },
  {
   "cell_type": "code",
   "execution_count": 11,
   "id": "d677e63e",
   "metadata": {},
   "outputs": [
    {
     "name": "stdout",
     "output_type": "stream",
     "text": [
      "1  \n",
      "1  2  \n",
      "1  2  3  \n",
      "1  2  3  4  \n",
      "1  2  3  4  5  \n"
     ]
    }
   ],
   "source": [
    "# Find time complexity of this code\n",
    "N = 5\n",
    "for i in range(1,N+1):\n",
    "    for j in range(1,i+1):\n",
    "        print(j,\" \",end=\"\")\n",
    "    print()"
   ]
  },
  {
   "cell_type": "markdown",
   "id": "a37e8f40",
   "metadata": {},
   "source": [
    "The outer loop runs for N iterations.  \n",
    "The inner loop runs for different number of iterations for each outer loop iteration.  \n",
    "1 -> 1 time  \n",
    "2 -> 2 times  \n",
    "3 -> 3 times  \n",
    ".  \n",
    ".  \n",
    ".  \n",
    "N-1 -> N-1 times  \n",
    "\n",
    "Total number of iterations are  \n",
    "1 + 2 + 3 + ......... + N-1  \n",
    "By sum of natural numbers  \n",
    "total = N(N+1) / 2 = N<sup>2</sup>/2 + N/2  \n",
    "N/2 is lower value so it is avoided  \n",
    "1/2 is constant so it is avoided  \n",
    "Final time complexity is O(N<sup>2</sup>)"
   ]
  }
 ],
 "metadata": {
  "kernelspec": {
   "display_name": "Python 3",
   "language": "python",
   "name": "python3"
  },
  "language_info": {
   "codemirror_mode": {
    "name": "ipython",
    "version": 3
   },
   "file_extension": ".py",
   "mimetype": "text/x-python",
   "name": "python",
   "nbconvert_exporter": "python",
   "pygments_lexer": "ipython3",
   "version": "3.12.1"
  }
 },
 "nbformat": 4,
 "nbformat_minor": 5
}
